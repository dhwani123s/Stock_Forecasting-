{
  "cells": [
    {
      "cell_type": "code",
      "execution_count": null,
      "id": "05f01c40",
      "metadata": {
        "id": "05f01c40"
      },
      "outputs": [],
      "source": [
        "import pandas as pd\n",
        "import pandas as pd\n",
        "import numpy as np\n",
        "import keras\n",
        "import tensorflow as tf\n",
        "from keras.preprocessing.sequence import TimeseriesGenerator\n",
        "df = pd.read_csv(\"DHF.csv\") "
      ]
    },
    {
      "cell_type": "code",
      "execution_count": null,
      "id": "7cfcdc60",
      "metadata": {
        "id": "7cfcdc60"
      },
      "outputs": [],
      "source": [
        "df.dropna(inplace=True)"
      ]
    },
    {
      "cell_type": "code",
      "execution_count": null,
      "id": "7ed91aa2",
      "metadata": {
        "id": "7ed91aa2"
      },
      "outputs": [],
      "source": [
        "df1=df.reset_index()['Close']"
      ]
    },
    {
      "cell_type": "code",
      "execution_count": null,
      "id": "ec40048e",
      "metadata": {
        "colab": {
          "base_uri": "https://localhost:8080/",
          "height": 282
        },
        "id": "ec40048e",
        "outputId": "d8ed6d40-43fe-4da0-9435-f82e0ec230a6"
      },
      "outputs": [
        {
          "output_type": "execute_result",
          "data": {
            "text/plain": [
              "[<matplotlib.lines.Line2D at 0x7fec402bd190>]"
            ]
          },
          "metadata": {},
          "execution_count": 4
        },
        {
          "output_type": "display_data",
          "data": {
            "image/png": "[encoded data removed]",
            "text/plain": [
              "<Figure size 432x288 with 1 Axes>"
            ]
          },
          "metadata": {
            "needs_background": "light"
          }
        }
      ],
      "source": [
        "import matplotlib.pyplot as plt\n",
        "plt.plot(df1)"
      ]
    },
    {
      "cell_type": "code",
      "execution_count": null,
      "id": "dbbe204c",
      "metadata": {
        "id": "dbbe204c"
      },
      "outputs": [],
      "source": [
        "import numpy as np"
      ]
    },
    {
      "cell_type": "code",
      "execution_count": null,
      "id": "93c0cb4e",
      "metadata": {
        "id": "93c0cb4e"
      },
      "outputs": [],
      "source": [
        "from sklearn.preprocessing import MinMaxScaler\n",
        "scaler=MinMaxScaler(feature_range=(0,1))\n",
        "df1=scaler.fit_transform(np.array(df1).reshape(-1,1))"
      ]
    },
    {
      "cell_type": "code",
      "execution_count": null,
      "id": "38ee7c31",
      "metadata": {
        "id": "38ee7c31"
      },
      "outputs": [],
      "source": [
        "training_size=int(len(df1)*0.65)\n",
        "test_size=len(df1)-training_size\n",
        "train_data,test_data=df1[0:training_size,:],df1[training_size:len(df1),:1]"
      ]
    },
    {
      "cell_type": "code",
      "execution_count": null,
      "id": "94fe8b6a",
      "metadata": {
        "colab": {
          "base_uri": "https://localhost:8080/"
        },
        "id": "94fe8b6a",
        "outputId": "9fa7b807-fbd6-4703-9544-2f0ebc057321"
      },
      "outputs": [
        {
          "output_type": "execute_result",
          "data": {
            "text/plain": [
              "(3900, 2100)"
            ]
          },
          "metadata": {},
          "execution_count": 8
        }
      ],
      "source": [
        "training_size,test_size"
      ]
    },
    {
      "cell_type": "code",
      "execution_count": null,
      "id": "bcfb12fb",
      "metadata": {
        "colab": {
          "base_uri": "https://localhost:8080/"
        },
        "id": "bcfb12fb",
        "outputId": "0a516ecc-db97-4800-ff35-8abc3b4459a9"
      },
      "outputs": [
        {
          "output_type": "execute_result",
          "data": {
            "text/plain": [
              "array([[0.99080206],\n",
              "       [0.99080206],\n",
              "       [0.99540103],\n",
              "       ...,\n",
              "       [0.17439294],\n",
              "       [0.17660044],\n",
              "       [0.17954378]])"
            ]
          },
          "metadata": {},
          "execution_count": 9
        }
      ],
      "source": [
        "train_data"
      ]
    },
    {
      "cell_type": "code",
      "execution_count": null,
      "id": "7b70d6d7",
      "metadata": {
        "id": "7b70d6d7"
      },
      "outputs": [],
      "source": [
        "import numpy\n",
        "# convert an array of values into a dataset matrix\n",
        "def create_dataset(dataset, time_step=1):\n",
        "\tdataX, dataY = [], []\n",
        "\tfor i in range(len(dataset)-time_step-1):\n",
        "\t\ta = dataset[i:(i+time_step), 0]   ###i=0, 0,1,2,3-----99   100 \n",
        "\t\tdataX.append(a)\n",
        "\t\tdataY.append(dataset[i + time_step, 0])\n",
        "\treturn numpy.array(dataX), numpy.array(dataY)"
      ]
    },
    {
      "cell_type": "code",
      "execution_count": null,
      "id": "cf0af60c",
      "metadata": {
        "id": "cf0af60c"
      },
      "outputs": [],
      "source": [
        "# reshape into X=t,t+1,t+2,t+3 and Y=t+4\n",
        "time_step = 50\n",
        "X_train, y_train = create_dataset(train_data, time_step)\n",
        "X_test, ytest = create_dataset(test_data, time_step)"
      ]
    },
    {
      "cell_type": "code",
      "execution_count": null,
      "id": "1b937a04",
      "metadata": {
        "colab": {
          "base_uri": "https://localhost:8080/"
        },
        "id": "1b937a04",
        "outputId": "3583587c-f34b-4f58-c545-1a26b0068c37"
      },
      "outputs": [
        {
          "output_type": "stream",
          "name": "stdout",
          "text": [
            "(3849, 50)\n",
            "(3849,)\n"
          ]
        },
        {
          "output_type": "execute_result",
          "data": {
            "text/plain": [
              "(None, None)"
            ]
          },
          "metadata": {},
          "execution_count": 12
        }
      ],
      "source": [
        "print(X_train.shape), print(y_train.shape)"
      ]
    },
    {
      "cell_type": "code",
      "execution_count": null,
      "id": "63f4efe5",
      "metadata": {
        "colab": {
          "base_uri": "https://localhost:8080/"
        },
        "id": "63f4efe5",
        "outputId": "16812f20-4178-4a81-ab60-9064876ed749"
      },
      "outputs": [
        {
          "output_type": "stream",
          "name": "stdout",
          "text": [
            "(2049, 50)\n",
            "(2049,)\n"
          ]
        },
        {
          "output_type": "execute_result",
          "data": {
            "text/plain": [
              "(None, None)"
            ]
          },
          "metadata": {},
          "execution_count": 13
        }
      ],
      "source": [
        "print(X_test.shape), print(ytest.shape)"
      ]
    },
    {
      "cell_type": "code",
      "execution_count": null,
      "id": "78c723f6",
      "metadata": {
        "id": "78c723f6"
      },
      "outputs": [],
      "source": [
        "# reshape input to be [samples, time steps, features] which is required for LSTM\n",
        "X_train =X_train.reshape(X_train.shape[0],X_train.shape[1] , 1)\n",
        "X_test = X_test.reshape(X_test.shape[0],X_test.shape[1] , 1)"
      ]
    },
    {
      "cell_type": "code",
      "execution_count": null,
      "id": "63c448c3",
      "metadata": {
        "id": "63c448c3"
      },
      "outputs": [],
      "source": [
        "### Create the Stacked LSTM model\n",
        "from tensorflow.keras.models import Sequential\n",
        "from tensorflow.keras.layers import Dense\n",
        "from tensorflow.keras.layers import LSTM"
      ]
    },
    {
      "cell_type": "code",
      "execution_count": null,
      "id": "57833498",
      "metadata": {
        "id": "57833498"
      },
      "outputs": [],
      "source": [
        "model=Sequential()\n",
        "model.add(LSTM(50,return_sequences=True,input_shape=(50,1)))\n",
        "model.add(LSTM(50,return_sequences=True))\n",
        "model.add(LSTM(50,return_sequences=True))\n",
        "model.add(LSTM(50))\n",
        "model.add(Dense(1))\n",
        "model.compile(loss='mean_squared_error',optimizer='adam')\n"
      ]
    },
    {
      "cell_type": "code",
      "execution_count": null,
      "id": "16f14d32",
      "metadata": {
        "colab": {
          "base_uri": "https://localhost:8080/"
        },
        "id": "16f14d32",
        "outputId": "95b025d1-9410-4468-f2de-62120c8fcebb"
      },
      "outputs": [
        {
          "output_type": "stream",
          "name": "stdout",
          "text": [
            "Model: \"sequential\"\n",
            "_________________________________________________________________\n",
            " Layer (type)                Output Shape              Param #   \n",
            "=================================================================\n",
            " lstm (LSTM)                 (None, 50, 50)            10400     \n",
            "                                                                 \n",
            " lstm_1 (LSTM)               (None, 50, 50)            20200     \n",
            "                                                                 \n",
            " lstm_2 (LSTM)               (None, 50, 50)            20200     \n",
            "                                                                 \n",
            " lstm_3 (LSTM)               (None, 50)                20200     \n",
            "                                                                 \n",
            " dense (Dense)               (None, 1)                 51        \n",
            "                                                                 \n",
            "=================================================================\n",
            "Total params: 71,051\n",
            "Trainable params: 71,051\n",
            "Non-trainable params: 0\n",
            "_________________________________________________________________\n"
          ]
        }
      ],
      "source": [
        "model.summary()"
      ]
    },
    {
      "cell_type": "code",
      "execution_count": null,
      "id": "a4554b49",
      "metadata": {
        "colab": {
          "base_uri": "https://localhost:8080/"
        },
        "id": "a4554b49",
        "outputId": "a77f10c8-72e2-4ac4-fdb0-00b2de7b6729"
      },
      "outputs": [
        {
          "output_type": "stream",
          "name": "stdout",
          "text": [
            "Epoch 1/100\n",
            "61/61 [==============================] - 18s 169ms/step - loss: 0.0074 - val_loss: 8.5873e-05\n",
            "Epoch 2/100\n",
            "61/61 [==============================] - 9s 140ms/step - loss: 4.7481e-04 - val_loss: 1.5182e-04\n",
            "Epoch 3/100\n",
            "61/61 [==============================] - 8s 139ms/step - loss: 4.5423e-04 - val_loss: 1.3902e-04\n",
            "Epoch 4/100\n",
            "61/61 [==============================] - 9s 141ms/step - loss: 4.3043e-04 - val_loss: 1.3387e-04\n",
            "Epoch 5/100\n",
            "61/61 [==============================] - 9s 141ms/step - loss: 4.0149e-04 - val_loss: 1.2329e-04\n",
            "Epoch 6/100\n",
            "61/61 [==============================] - 9s 149ms/step - loss: 4.4422e-04 - val_loss: 6.9952e-05\n",
            "Epoch 7/100\n",
            "61/61 [==============================] - 9s 141ms/step - loss: 3.6206e-04 - val_loss: 6.0564e-05\n",
            "Epoch 8/100\n",
            "61/61 [==============================] - 9s 142ms/step - loss: 4.0870e-04 - val_loss: 5.8298e-05\n",
            "Epoch 9/100\n",
            "61/61 [==============================] - 9s 141ms/step - loss: 3.5034e-04 - val_loss: 5.4791e-05\n",
            "Epoch 10/100\n",
            "61/61 [==============================] - 9s 140ms/step - loss: 3.2836e-04 - val_loss: 3.0538e-04\n",
            "Epoch 11/100\n",
            "61/61 [==============================] - 9s 141ms/step - loss: 4.3780e-04 - val_loss: 4.9199e-05\n",
            "Epoch 12/100\n",
            "61/61 [==============================] - 9s 141ms/step - loss: 2.8034e-04 - val_loss: 6.8686e-05\n",
            "Epoch 13/100\n",
            "61/61 [==============================] - 9s 142ms/step - loss: 2.9851e-04 - val_loss: 4.8086e-05\n",
            "Epoch 14/100\n",
            "61/61 [==============================] - 9s 142ms/step - loss: 2.6192e-04 - val_loss: 4.1804e-05\n",
            "Epoch 15/100\n",
            "61/61 [==============================] - 9s 142ms/step - loss: 2.3328e-04 - val_loss: 3.9658e-05\n",
            "Epoch 16/100\n",
            "61/61 [==============================] - 9s 142ms/step - loss: 2.4517e-04 - val_loss: 4.4471e-05\n",
            "Epoch 17/100\n",
            "61/61 [==============================] - 9s 142ms/step - loss: 2.3012e-04 - val_loss: 4.4934e-05\n",
            "Epoch 18/100\n",
            "61/61 [==============================] - 9s 149ms/step - loss: 2.2083e-04 - val_loss: 5.2951e-05\n",
            "Epoch 19/100\n",
            "61/61 [==============================] - 9s 141ms/step - loss: 3.0926e-04 - val_loss: 3.4032e-05\n",
            "Epoch 20/100\n",
            "61/61 [==============================] - 9s 141ms/step - loss: 1.7678e-04 - val_loss: 5.0110e-05\n",
            "Epoch 21/100\n",
            "61/61 [==============================] - 9s 142ms/step - loss: 2.1143e-04 - val_loss: 3.7920e-05\n",
            "Epoch 22/100\n",
            "61/61 [==============================] - 9s 140ms/step - loss: 2.7290e-04 - val_loss: 3.4092e-05\n",
            "Epoch 23/100\n",
            "61/61 [==============================] - 9s 140ms/step - loss: 1.6782e-04 - val_loss: 3.1169e-05\n",
            "Epoch 24/100\n",
            "61/61 [==============================] - 9s 140ms/step - loss: 1.5725e-04 - val_loss: 3.4828e-05\n",
            "Epoch 25/100\n",
            "61/61 [==============================] - 9s 141ms/step - loss: 1.7932e-04 - val_loss: 2.7497e-05\n",
            "Epoch 26/100\n",
            "61/61 [==============================] - 9s 141ms/step - loss: 1.4312e-04 - val_loss: 2.6887e-05\n",
            "Epoch 27/100\n",
            "61/61 [==============================] - 9s 142ms/step - loss: 1.7460e-04 - val_loss: 4.1407e-05\n",
            "Epoch 28/100\n",
            "61/61 [==============================] - 9s 143ms/step - loss: 1.6342e-04 - val_loss: 2.4384e-05\n",
            "Epoch 29/100\n",
            "61/61 [==============================] - 9s 143ms/step - loss: 1.5937e-04 - val_loss: 7.1579e-05\n",
            "Epoch 30/100\n",
            "61/61 [==============================] - 9s 151ms/step - loss: 1.0800e-04 - val_loss: 3.1915e-05\n",
            "Epoch 31/100\n",
            "61/61 [==============================] - 9s 142ms/step - loss: 1.0965e-04 - val_loss: 2.1129e-05\n",
            "Epoch 32/100\n",
            "61/61 [==============================] - 9s 142ms/step - loss: 1.1319e-04 - val_loss: 2.0474e-05\n",
            "Epoch 33/100\n",
            "61/61 [==============================] - 9s 142ms/step - loss: 1.1472e-04 - val_loss: 1.9571e-05\n",
            "Epoch 34/100\n",
            "61/61 [==============================] - 9s 142ms/step - loss: 9.9378e-05 - val_loss: 2.7943e-05\n",
            "Epoch 35/100\n",
            "61/61 [==============================] - 9s 144ms/step - loss: 9.9147e-05 - val_loss: 5.7827e-05\n",
            "Epoch 36/100\n",
            "61/61 [==============================] - 9s 145ms/step - loss: 9.8501e-05 - val_loss: 2.0983e-05\n",
            "Epoch 37/100\n",
            "61/61 [==============================] - 9s 147ms/step - loss: 9.9564e-05 - val_loss: 4.9471e-05\n",
            "Epoch 38/100\n",
            "61/61 [==============================] - 9s 141ms/step - loss: 1.6381e-04 - val_loss: 4.6618e-05\n",
            "Epoch 39/100\n",
            "61/61 [==============================] - 9s 143ms/step - loss: 1.0873e-04 - val_loss: 2.4051e-05\n",
            "Epoch 40/100\n",
            "61/61 [==============================] - 9s 143ms/step - loss: 9.7312e-05 - val_loss: 2.0188e-05\n",
            "Epoch 41/100\n",
            "61/61 [==============================] - 9s 145ms/step - loss: 8.7853e-05 - val_loss: 1.5979e-05\n",
            "Epoch 42/100\n",
            "61/61 [==============================] - 9s 144ms/step - loss: 8.1092e-05 - val_loss: 1.6750e-05\n",
            "Epoch 43/100\n",
            "61/61 [==============================] - 9s 143ms/step - loss: 7.3570e-05 - val_loss: 1.4652e-05\n",
            "Epoch 44/100\n",
            "61/61 [==============================] - 9s 145ms/step - loss: 9.1592e-05 - val_loss: 3.6431e-05\n",
            "Epoch 45/100\n",
            "61/61 [==============================] - 9s 142ms/step - loss: 8.0809e-05 - val_loss: 2.3900e-05\n",
            "Epoch 46/100\n",
            "61/61 [==============================] - 9s 144ms/step - loss: 8.1630e-05 - val_loss: 4.6049e-05\n",
            "Epoch 47/100\n",
            "61/61 [==============================] - 9s 146ms/step - loss: 7.9916e-05 - val_loss: 1.3707e-05\n",
            "Epoch 48/100\n",
            "61/61 [==============================] - 9s 144ms/step - loss: 7.4968e-05 - val_loss: 1.5216e-05\n",
            "Epoch 49/100\n",
            "61/61 [==============================] - 9s 143ms/step - loss: 6.1557e-05 - val_loss: 1.2715e-05\n",
            "Epoch 50/100\n",
            "61/61 [==============================] - 9s 144ms/step - loss: 6.6506e-05 - val_loss: 1.3779e-05\n",
            "Epoch 51/100\n",
            "61/61 [==============================] - 9s 143ms/step - loss: 6.9569e-05 - val_loss: 5.9646e-05\n",
            "Epoch 52/100\n",
            "61/61 [==============================] - 9s 141ms/step - loss: 5.6033e-05 - val_loss: 1.1454e-05\n",
            "Epoch 53/100\n",
            "61/61 [==============================] - 9s 144ms/step - loss: 5.9114e-05 - val_loss: 1.0854e-05\n",
            "Epoch 54/100\n",
            "61/61 [==============================] - 9s 142ms/step - loss: 7.9988e-05 - val_loss: 1.5606e-05\n",
            "Epoch 55/100\n",
            "61/61 [==============================] - 9s 143ms/step - loss: 5.4646e-05 - val_loss: 3.3546e-05\n",
            "Epoch 56/100\n",
            "61/61 [==============================] - 9s 142ms/step - loss: 5.4147e-05 - val_loss: 2.2759e-05\n",
            "Epoch 57/100\n",
            "61/61 [==============================] - 9s 141ms/step - loss: 6.6521e-05 - val_loss: 1.1047e-05\n",
            "Epoch 58/100\n",
            "61/61 [==============================] - 9s 142ms/step - loss: 5.8767e-05 - val_loss: 1.0331e-05\n",
            "Epoch 59/100\n",
            "61/61 [==============================] - 9s 142ms/step - loss: 7.1194e-05 - val_loss: 1.1940e-05\n",
            "Epoch 60/100\n",
            "61/61 [==============================] - 9s 144ms/step - loss: 5.7967e-05 - val_loss: 2.5173e-05\n",
            "Epoch 61/100\n",
            "61/61 [==============================] - 9s 145ms/step - loss: 6.4196e-05 - val_loss: 1.6771e-05\n",
            "Epoch 62/100\n",
            "61/61 [==============================] - 9s 142ms/step - loss: 5.6507e-05 - val_loss: 9.8950e-06\n",
            "Epoch 63/100\n",
            "61/61 [==============================] - 9s 143ms/step - loss: 6.8812e-05 - val_loss: 1.1275e-05\n",
            "Epoch 64/100\n",
            "61/61 [==============================] - 9s 141ms/step - loss: 6.0758e-05 - val_loss: 9.9851e-06\n",
            "Epoch 65/100\n",
            "61/61 [==============================] - 9s 143ms/step - loss: 5.5474e-05 - val_loss: 1.5474e-05\n",
            "Epoch 66/100\n",
            "61/61 [==============================] - 9s 141ms/step - loss: 4.9686e-05 - val_loss: 1.5168e-05\n",
            "Epoch 67/100\n",
            "61/61 [==============================] - 9s 143ms/step - loss: 6.1770e-05 - val_loss: 3.2987e-05\n",
            "Epoch 68/100\n",
            "61/61 [==============================] - 9s 141ms/step - loss: 9.3777e-05 - val_loss: 1.8078e-05\n",
            "Epoch 69/100\n",
            "61/61 [==============================] - 9s 143ms/step - loss: 6.7554e-05 - val_loss: 1.8916e-05\n",
            "Epoch 70/100\n",
            "61/61 [==============================] - 9s 142ms/step - loss: 7.0745e-05 - val_loss: 8.9914e-06\n",
            "Epoch 71/100\n",
            "61/61 [==============================] - 9s 142ms/step - loss: 6.2744e-05 - val_loss: 8.2960e-06\n",
            "Epoch 72/100\n",
            "61/61 [==============================] - 9s 145ms/step - loss: 6.7700e-05 - val_loss: 8.5723e-06\n",
            "Epoch 73/100\n",
            "61/61 [==============================] - 9s 144ms/step - loss: 4.8369e-05 - val_loss: 9.6591e-06\n",
            "Epoch 74/100\n",
            "61/61 [==============================] - 9s 145ms/step - loss: 5.4734e-05 - val_loss: 2.9503e-05\n",
            "Epoch 75/100\n",
            "61/61 [==============================] - 9s 142ms/step - loss: 5.9835e-05 - val_loss: 1.5388e-05\n",
            "Epoch 76/100\n",
            "61/61 [==============================] - 9s 142ms/step - loss: 4.9762e-05 - val_loss: 1.3884e-05\n",
            "Epoch 77/100\n",
            "61/61 [==============================] - 9s 143ms/step - loss: 6.6419e-05 - val_loss: 7.8027e-06\n",
            "Epoch 78/100\n",
            "61/61 [==============================] - 9s 143ms/step - loss: 6.5360e-05 - val_loss: 1.7571e-05\n",
            "Epoch 79/100\n",
            "61/61 [==============================] - 9s 143ms/step - loss: 6.8953e-05 - val_loss: 8.8799e-06\n",
            "Epoch 80/100\n",
            "61/61 [==============================] - 9s 142ms/step - loss: 6.8179e-05 - val_loss: 5.8983e-05\n",
            "Epoch 81/100\n",
            "61/61 [==============================] - 9s 143ms/step - loss: 8.4603e-05 - val_loss: 3.2205e-05\n",
            "Epoch 82/100\n",
            "61/61 [==============================] - 9s 144ms/step - loss: 4.7850e-05 - val_loss: 1.7053e-05\n",
            "Epoch 83/100\n",
            "61/61 [==============================] - 9s 145ms/step - loss: 5.3541e-05 - val_loss: 1.2061e-05\n",
            "Epoch 84/100\n",
            "61/61 [==============================] - 9s 144ms/step - loss: 4.4211e-05 - val_loss: 1.5746e-05\n",
            "Epoch 85/100\n",
            "61/61 [==============================] - 9s 144ms/step - loss: 5.4365e-05 - val_loss: 9.5334e-06\n",
            "Epoch 86/100\n",
            "61/61 [==============================] - 9s 144ms/step - loss: 4.8966e-05 - val_loss: 1.0219e-05\n",
            "Epoch 87/100\n",
            "61/61 [==============================] - 9s 143ms/step - loss: 5.8859e-05 - val_loss: 7.0974e-06\n",
            "Epoch 88/100\n",
            "61/61 [==============================] - 9s 144ms/step - loss: 4.6140e-05 - val_loss: 1.3665e-05\n",
            "Epoch 89/100\n",
            "61/61 [==============================] - 9s 143ms/step - loss: 5.7791e-05 - val_loss: 8.2136e-06\n",
            "Epoch 90/100\n",
            "61/61 [==============================] - 9s 143ms/step - loss: 8.1497e-05 - val_loss: 2.5177e-05\n",
            "Epoch 91/100\n",
            "61/61 [==============================] - 9s 144ms/step - loss: 7.0972e-05 - val_loss: 9.8912e-06\n",
            "Epoch 92/100\n",
            "61/61 [==============================] - 9s 144ms/step - loss: 5.9842e-05 - val_loss: 7.8277e-06\n",
            "Epoch 93/100\n",
            "61/61 [==============================] - 9s 145ms/step - loss: 4.9763e-05 - val_loss: 6.3797e-05\n",
            "Epoch 94/100\n",
            "61/61 [==============================] - 9s 144ms/step - loss: 5.6752e-05 - val_loss: 7.1980e-06\n",
            "Epoch 95/100\n",
            "61/61 [==============================] - 9s 145ms/step - loss: 4.3101e-05 - val_loss: 7.5907e-06\n",
            "Epoch 96/100\n",
            "61/61 [==============================] - 9s 144ms/step - loss: 5.2404e-05 - val_loss: 6.7672e-06\n",
            "Epoch 97/100\n",
            "61/61 [==============================] - 9s 143ms/step - loss: 5.0522e-05 - val_loss: 8.4213e-06\n",
            "Epoch 98/100\n",
            "61/61 [==============================] - 9s 143ms/step - loss: 5.4140e-05 - val_loss: 1.9053e-05\n",
            "Epoch 99/100\n",
            "61/61 [==============================] - 9s 143ms/step - loss: 5.4832e-05 - val_loss: 6.7885e-06\n",
            "Epoch 100/100\n",
            "61/61 [==============================] - 9s 144ms/step - loss: 5.6570e-05 - val_loss: 3.3012e-05\n"
          ]
        },
        {
          "output_type": "execute_result",
          "data": {
            "text/plain": [
              "<keras.callbacks.History at 0x7fec3aebefd0>"
            ]
          },
          "metadata": {},
          "execution_count": 18
        }
      ],
      "source": [
        "model.fit(X_train,y_train,validation_data=(X_test,ytest),epochs=100,batch_size=64,verbose=1)"
      ]
    },
    {
      "cell_type": "code",
      "execution_count": null,
      "id": "51779dd0",
      "metadata": {
        "id": "51779dd0"
      },
      "outputs": [],
      "source": [
        "train_predict=model.predict(X_train)\n",
        "test_predict=model.predict(X_test)"
      ]
    },
    {
      "cell_type": "code",
      "execution_count": null,
      "id": "ff56d6dd",
      "metadata": {
        "id": "ff56d6dd"
      },
      "outputs": [],
      "source": [
        "##Transformback to original form\n",
        "train_predict=scaler.inverse_transform(train_predict)\n",
        "test_predict=scaler.inverse_transform(test_predict)"
      ]
    },
    {
      "cell_type": "code",
      "execution_count": null,
      "id": "9b9c250e",
      "metadata": {
        "colab": {
          "base_uri": "https://localhost:8080/"
        },
        "id": "9b9c250e",
        "outputId": "b3e95973-4914-4728-8760-e6ab4f0665a1"
      },
      "outputs": [
        {
          "output_type": "execute_result",
          "data": {
            "text/plain": [
              "5.876747313672369"
            ]
          },
          "metadata": {},
          "execution_count": 21
        }
      ],
      "source": [
        "import math\n",
        "from sklearn.metrics import mean_squared_error\n",
        "math.sqrt(mean_squared_error(y_train,train_predict))"
      ]
    },
    {
      "cell_type": "code",
      "execution_count": null,
      "id": "2e3ea80c",
      "metadata": {
        "colab": {
          "base_uri": "https://localhost:8080/"
        },
        "id": "2e3ea80c",
        "outputId": "f6052386-3253-4865-b75a-9a68a1bc0e76"
      },
      "outputs": [
        {
          "output_type": "execute_result",
          "data": {
            "text/plain": [
              "3.245929514698231"
            ]
          },
          "metadata": {},
          "execution_count": 22
        }
      ],
      "source": [
        "math.sqrt(mean_squared_error(ytest,test_predict))"
      ]
    },
    {
      "cell_type": "code",
      "execution_count": null,
      "id": "b82a3ef8",
      "metadata": {
        "colab": {
          "base_uri": "https://localhost:8080/",
          "height": 267
        },
        "id": "b82a3ef8",
        "outputId": "f5d53778-9328-46d1-b85a-a8299106b749"
      },
      "outputs": [
        {
          "output_type": "display_data",
          "data": {
            "image/png": "[encoded data removed]",
            "text/plain": [
              "<Figure size 432x288 with 1 Axes>"
            ]
          },
          "metadata": {
            "needs_background": "light"
          }
        }
      ],
      "source": [
        "### Plotting \n",
        "# shift train predictions for plotting\n",
        "look_back=50\n",
        "trainPredictPlot = numpy.empty_like(df1)\n",
        "trainPredictPlot[:, :] = np.nan\n",
        "trainPredictPlot[look_back:len(train_predict)+look_back, :] = train_predict\n",
        "# shift test predictions for plotting\n",
        "testPredictPlot = numpy.empty_like(df1)\n",
        "testPredictPlot[:, :] = numpy.nan\n",
        "testPredictPlot[len(train_predict)+(look_back*2)+1:len(df1)-1, :] = test_predict\n",
        "# plot baseline and predictions\n",
        "plt.plot(scaler.inverse_transform(df1))\n",
        "plt.plot(trainPredictPlot)\n",
        "plt.plot(testPredictPlot)\n",
        "plt.show()"
      ]
    },
    {
      "cell_type": "code",
      "execution_count": null,
      "id": "556c358a",
      "metadata": {
        "colab": {
          "base_uri": "https://localhost:8080/"
        },
        "id": "556c358a",
        "outputId": "57e6bb96-7f29-4772-d3b4-8dcf22cb927d"
      },
      "outputs": [
        {
          "output_type": "execute_result",
          "data": {
            "text/plain": [
              "2100"
            ]
          },
          "metadata": {},
          "execution_count": 24
        }
      ],
      "source": [
        "len(test_data)"
      ]
    },
    {
      "cell_type": "code",
      "execution_count": null,
      "id": "a69a38e5",
      "metadata": {
        "colab": {
          "base_uri": "https://localhost:8080/"
        },
        "id": "a69a38e5",
        "outputId": "40aef6fd-80cc-4529-ecc8-69cb3da48c5d"
      },
      "outputs": [
        {
          "output_type": "execute_result",
          "data": {
            "text/plain": [
              "(1, 50)"
            ]
          },
          "metadata": {},
          "execution_count": 26
        }
      ],
      "source": [
        "x_input=test_data[2050:].reshape(1,-1)\n",
        "x_input.shape"
      ]
    },
    {
      "cell_type": "code",
      "execution_count": null,
      "id": "ab7a7eef",
      "metadata": {
        "id": "ab7a7eef"
      },
      "outputs": [],
      "source": [
        "temp_input=list(x_input)\n",
        "temp_input=temp_input[0].tolist()"
      ]
    },
    {
      "cell_type": "code",
      "execution_count": null,
      "id": "0c35b621",
      "metadata": {
        "colab": {
          "base_uri": "https://localhost:8080/"
        },
        "id": "0c35b621",
        "outputId": "680aa9e2-2397-4b3f-baf0-7b491cae3a93"
      },
      "outputs": [
        {
          "output_type": "stream",
          "name": "stdout",
          "text": [
            "[0.08494475]\n",
            "51\n",
            "1 day input [0.10228109 0.10228109 0.09786608 0.10154525 0.10375276 0.10596026\n",
            " 0.10743194 0.10890361 0.10743194 0.11037528 0.10301692 0.10743194\n",
            " 0.10816777 0.1066961  0.10743194 0.10596026 0.10522443 0.10743194\n",
            " 0.10743194 0.10596026 0.10596026 0.10522443 0.10228109 0.10007358\n",
            " 0.09713024 0.0919794  0.09345107 0.09492274 0.09492274 0.09345107\n",
            " 0.09271523 0.09639441 0.09639441 0.09345107 0.09345107 0.09271523\n",
            " 0.09124356 0.09271523 0.08830022 0.08535688 0.08241354 0.08241354\n",
            " 0.08388521 0.08314937 0.08241354 0.0816777  0.08020603 0.08020603\n",
            " 0.08241354 0.08494475]\n",
            "1 day output [[0.08710055]]\n",
            "2 day input [0.10228109 0.09786608 0.10154525 0.10375276 0.10596026 0.10743194\n",
            " 0.10890361 0.10743194 0.11037528 0.10301692 0.10743194 0.10816777\n",
            " 0.1066961  0.10743194 0.10596026 0.10522443 0.10743194 0.10743194\n",
            " 0.10596026 0.10596026 0.10522443 0.10228109 0.10007358 0.09713024\n",
            " 0.0919794  0.09345107 0.09492274 0.09492274 0.09345107 0.09271523\n",
            " 0.09639441 0.09639441 0.09345107 0.09345107 0.09271523 0.09124356\n",
            " 0.09271523 0.08830022 0.08535688 0.08241354 0.08241354 0.08388521\n",
            " 0.08314937 0.08241354 0.0816777  0.08020603 0.08020603 0.08241354\n",
            " 0.08494475 0.08710055]\n",
            "2 day output [[0.08949676]]\n",
            "3 day input [0.09786608 0.10154525 0.10375276 0.10596026 0.10743194 0.10890361\n",
            " 0.10743194 0.11037528 0.10301692 0.10743194 0.10816777 0.1066961\n",
            " 0.10743194 0.10596026 0.10522443 0.10743194 0.10743194 0.10596026\n",
            " 0.10596026 0.10522443 0.10228109 0.10007358 0.09713024 0.0919794\n",
            " 0.09345107 0.09492274 0.09492274 0.09345107 0.09271523 0.09639441\n",
            " 0.09639441 0.09345107 0.09345107 0.09271523 0.09124356 0.09271523\n",
            " 0.08830022 0.08535688 0.08241354 0.08241354 0.08388521 0.08314937\n",
            " 0.08241354 0.0816777  0.08020603 0.08020603 0.08241354 0.08494475\n",
            " 0.08710055 0.08949676]\n",
            "3 day output [[0.0918698]]\n",
            "4 day input [0.10154525 0.10375276 0.10596026 0.10743194 0.10890361 0.10743194\n",
            " 0.11037528 0.10301692 0.10743194 0.10816777 0.1066961  0.10743194\n",
            " 0.10596026 0.10522443 0.10743194 0.10743194 0.10596026 0.10596026\n",
            " 0.10522443 0.10228109 0.10007358 0.09713024 0.0919794  0.09345107\n",
            " 0.09492274 0.09492274 0.09345107 0.09271523 0.09639441 0.09639441\n",
            " 0.09345107 0.09345107 0.09271523 0.09124356 0.09271523 0.08830022\n",
            " 0.08535688 0.08241354 0.08241354 0.08388521 0.08314937 0.08241354\n",
            " 0.0816777  0.08020603 0.08020603 0.08241354 0.08494475 0.08710055\n",
            " 0.08949676 0.0918698 ]\n",
            "4 day output [[0.09416877]]\n",
            "5 day input [0.10375276 0.10596026 0.10743194 0.10890361 0.10743194 0.11037528\n",
            " 0.10301692 0.10743194 0.10816777 0.1066961  0.10743194 0.10596026\n",
            " 0.10522443 0.10743194 0.10743194 0.10596026 0.10596026 0.10522443\n",
            " 0.10228109 0.10007358 0.09713024 0.0919794  0.09345107 0.09492274\n",
            " 0.09492274 0.09345107 0.09271523 0.09639441 0.09639441 0.09345107\n",
            " 0.09345107 0.09271523 0.09124356 0.09271523 0.08830022 0.08535688\n",
            " 0.08241354 0.08241354 0.08388521 0.08314937 0.08241354 0.0816777\n",
            " 0.08020603 0.08020603 0.08241354 0.08494475 0.08710055 0.08949676\n",
            " 0.0918698  0.09416877]\n",
            "5 day output [[0.09640199]]\n",
            "6 day input [0.10596026 0.10743194 0.10890361 0.10743194 0.11037528 0.10301692\n",
            " 0.10743194 0.10816777 0.1066961  0.10743194 0.10596026 0.10522443\n",
            " 0.10743194 0.10743194 0.10596026 0.10596026 0.10522443 0.10228109\n",
            " 0.10007358 0.09713024 0.0919794  0.09345107 0.09492274 0.09492274\n",
            " 0.09345107 0.09271523 0.09639441 0.09639441 0.09345107 0.09345107\n",
            " 0.09271523 0.09124356 0.09271523 0.08830022 0.08535688 0.08241354\n",
            " 0.08241354 0.08388521 0.08314937 0.08241354 0.0816777  0.08020603\n",
            " 0.08020603 0.08241354 0.08494475 0.08710055 0.08949676 0.0918698\n",
            " 0.09416877 0.09640199]\n",
            "6 day output [[0.09860443]]\n",
            "7 day input [0.10743194 0.10890361 0.10743194 0.11037528 0.10301692 0.10743194\n",
            " 0.10816777 0.1066961  0.10743194 0.10596026 0.10522443 0.10743194\n",
            " 0.10743194 0.10596026 0.10596026 0.10522443 0.10228109 0.10007358\n",
            " 0.09713024 0.0919794  0.09345107 0.09492274 0.09492274 0.09345107\n",
            " 0.09271523 0.09639441 0.09639441 0.09345107 0.09345107 0.09271523\n",
            " 0.09124356 0.09271523 0.08830022 0.08535688 0.08241354 0.08241354\n",
            " 0.08388521 0.08314937 0.08241354 0.0816777  0.08020603 0.08020603\n",
            " 0.08241354 0.08494475 0.08710055 0.08949676 0.0918698  0.09416877\n",
            " 0.09640199 0.09860443]\n",
            "7 day output [[0.10082082]]\n",
            "8 day input [0.10890361 0.10743194 0.11037528 0.10301692 0.10743194 0.10816777\n",
            " 0.1066961  0.10743194 0.10596026 0.10522443 0.10743194 0.10743194\n",
            " 0.10596026 0.10596026 0.10522443 0.10228109 0.10007358 0.09713024\n",
            " 0.0919794  0.09345107 0.09492274 0.09492274 0.09345107 0.09271523\n",
            " 0.09639441 0.09639441 0.09345107 0.09345107 0.09271523 0.09124356\n",
            " 0.09271523 0.08830022 0.08535688 0.08241354 0.08241354 0.08388521\n",
            " 0.08314937 0.08241354 0.0816777  0.08020603 0.08020603 0.08241354\n",
            " 0.08494475 0.08710055 0.08949676 0.0918698  0.09416877 0.09640199\n",
            " 0.09860443 0.10082082]\n",
            "8 day output [[0.10309443]]\n",
            "9 day input [0.10743194 0.11037528 0.10301692 0.10743194 0.10816777 0.1066961\n",
            " 0.10743194 0.10596026 0.10522443 0.10743194 0.10743194 0.10596026\n",
            " 0.10596026 0.10522443 0.10228109 0.10007358 0.09713024 0.0919794\n",
            " 0.09345107 0.09492274 0.09492274 0.09345107 0.09271523 0.09639441\n",
            " 0.09639441 0.09345107 0.09345107 0.09271523 0.09124356 0.09271523\n",
            " 0.08830022 0.08535688 0.08241354 0.08241354 0.08388521 0.08314937\n",
            " 0.08241354 0.0816777  0.08020603 0.08020603 0.08241354 0.08494475\n",
            " 0.08710055 0.08949676 0.0918698  0.09416877 0.09640199 0.09860443\n",
            " 0.10082082 0.10309443]\n",
            "9 day output [[0.10545923]]\n",
            "10 day input [0.11037528 0.10301692 0.10743194 0.10816777 0.1066961  0.10743194\n",
            " 0.10596026 0.10522443 0.10743194 0.10743194 0.10596026 0.10596026\n",
            " 0.10522443 0.10228109 0.10007358 0.09713024 0.0919794  0.09345107\n",
            " 0.09492274 0.09492274 0.09345107 0.09271523 0.09639441 0.09639441\n",
            " 0.09345107 0.09345107 0.09271523 0.09124356 0.09271523 0.08830022\n",
            " 0.08535688 0.08241354 0.08241354 0.08388521 0.08314937 0.08241354\n",
            " 0.0816777  0.08020603 0.08020603 0.08241354 0.08494475 0.08710055\n",
            " 0.08949676 0.0918698  0.09416877 0.09640199 0.09860443 0.10082082\n",
            " 0.10309443 0.10545923]\n",
            "10 day output [[0.10793735]]\n",
            "11 day input [0.10301692 0.10743194 0.10816777 0.1066961  0.10743194 0.10596026\n",
            " 0.10522443 0.10743194 0.10743194 0.10596026 0.10596026 0.10522443\n",
            " 0.10228109 0.10007358 0.09713024 0.0919794  0.09345107 0.09492274\n",
            " 0.09492274 0.09345107 0.09271523 0.09639441 0.09639441 0.09345107\n",
            " 0.09345107 0.09271523 0.09124356 0.09271523 0.08830022 0.08535688\n",
            " 0.08241354 0.08241354 0.08388521 0.08314937 0.08241354 0.0816777\n",
            " 0.08020603 0.08020603 0.08241354 0.08494475 0.08710055 0.08949676\n",
            " 0.0918698  0.09416877 0.09640199 0.09860443 0.10082082 0.10309443\n",
            " 0.10545923 0.10793735]\n",
            "11 day output [[0.11053891]]\n",
            "12 day input [0.10743194 0.10816777 0.1066961  0.10743194 0.10596026 0.10522443\n",
            " 0.10743194 0.10743194 0.10596026 0.10596026 0.10522443 0.10228109\n",
            " 0.10007358 0.09713024 0.0919794  0.09345107 0.09492274 0.09492274\n",
            " 0.09345107 0.09271523 0.09639441 0.09639441 0.09345107 0.09345107\n",
            " 0.09271523 0.09124356 0.09271523 0.08830022 0.08535688 0.08241354\n",
            " 0.08241354 0.08388521 0.08314937 0.08241354 0.0816777  0.08020603\n",
            " 0.08020603 0.08241354 0.08494475 0.08710055 0.08949676 0.0918698\n",
            " 0.09416877 0.09640199 0.09860443 0.10082082 0.10309443 0.10545923\n",
            " 0.10793735 0.11053891]\n",
            "12 day output [[0.11326554]]\n",
            "13 day input [0.10816777 0.1066961  0.10743194 0.10596026 0.10522443 0.10743194\n",
            " 0.10743194 0.10596026 0.10596026 0.10522443 0.10228109 0.10007358\n",
            " 0.09713024 0.0919794  0.09345107 0.09492274 0.09492274 0.09345107\n",
            " 0.09271523 0.09639441 0.09639441 0.09345107 0.09345107 0.09271523\n",
            " 0.09124356 0.09271523 0.08830022 0.08535688 0.08241354 0.08241354\n",
            " 0.08388521 0.08314937 0.08241354 0.0816777  0.08020603 0.08020603\n",
            " 0.08241354 0.08494475 0.08710055 0.08949676 0.0918698  0.09416877\n",
            " 0.09640199 0.09860443 0.10082082 0.10309443 0.10545923 0.10793735\n",
            " 0.11053891 0.11326554]\n",
            "13 day output [[0.11611204]]\n",
            "14 day input [0.1066961  0.10743194 0.10596026 0.10522443 0.10743194 0.10743194\n",
            " 0.10596026 0.10596026 0.10522443 0.10228109 0.10007358 0.09713024\n",
            " 0.0919794  0.09345107 0.09492274 0.09492274 0.09345107 0.09271523\n",
            " 0.09639441 0.09639441 0.09345107 0.09345107 0.09271523 0.09124356\n",
            " 0.09271523 0.08830022 0.08535688 0.08241354 0.08241354 0.08388521\n",
            " 0.08314937 0.08241354 0.0816777  0.08020603 0.08020603 0.08241354\n",
            " 0.08494475 0.08710055 0.08949676 0.0918698  0.09416877 0.09640199\n",
            " 0.09860443 0.10082082 0.10309443 0.10545923 0.10793735 0.11053891\n",
            " 0.11326554 0.11611204]\n",
            "14 day output [[0.11907116]]\n",
            "15 day input [0.10743194 0.10596026 0.10522443 0.10743194 0.10743194 0.10596026\n",
            " 0.10596026 0.10522443 0.10228109 0.10007358 0.09713024 0.0919794\n",
            " 0.09345107 0.09492274 0.09492274 0.09345107 0.09271523 0.09639441\n",
            " 0.09639441 0.09345107 0.09345107 0.09271523 0.09124356 0.09271523\n",
            " 0.08830022 0.08535688 0.08241354 0.08241354 0.08388521 0.08314937\n",
            " 0.08241354 0.0816777  0.08020603 0.08020603 0.08241354 0.08494475\n",
            " 0.08710055 0.08949676 0.0918698  0.09416877 0.09640199 0.09860443\n",
            " 0.10082082 0.10309443 0.10545923 0.10793735 0.11053891 0.11326554\n",
            " 0.11611204 0.11907116]\n",
            "15 day output [[0.12213568]]\n",
            "16 day input [0.10596026 0.10522443 0.10743194 0.10743194 0.10596026 0.10596026\n",
            " 0.10522443 0.10228109 0.10007358 0.09713024 0.0919794  0.09345107\n",
            " 0.09492274 0.09492274 0.09345107 0.09271523 0.09639441 0.09639441\n",
            " 0.09345107 0.09345107 0.09271523 0.09124356 0.09271523 0.08830022\n",
            " 0.08535688 0.08241354 0.08241354 0.08388521 0.08314937 0.08241354\n",
            " 0.0816777  0.08020603 0.08020603 0.08241354 0.08494475 0.08710055\n",
            " 0.08949676 0.0918698  0.09416877 0.09640199 0.09860443 0.10082082\n",
            " 0.10309443 0.10545923 0.10793735 0.11053891 0.11326554 0.11611204\n",
            " 0.11907116 0.12213568]\n",
            "16 day output [[0.12530002]]\n",
            "17 day input [0.10522443 0.10743194 0.10743194 0.10596026 0.10596026 0.10522443\n",
            " 0.10228109 0.10007358 0.09713024 0.0919794  0.09345107 0.09492274\n",
            " 0.09492274 0.09345107 0.09271523 0.09639441 0.09639441 0.09345107\n",
            " 0.09345107 0.09271523 0.09124356 0.09271523 0.08830022 0.08535688\n",
            " 0.08241354 0.08241354 0.08388521 0.08314937 0.08241354 0.0816777\n",
            " 0.08020603 0.08020603 0.08241354 0.08494475 0.08710055 0.08949676\n",
            " 0.0918698  0.09416877 0.09640199 0.09860443 0.10082082 0.10309443\n",
            " 0.10545923 0.10793735 0.11053891 0.11326554 0.11611204 0.11907116\n",
            " 0.12213568 0.12530002]\n",
            "17 day output [[0.12856153]]\n",
            "18 day input [0.10743194 0.10743194 0.10596026 0.10596026 0.10522443 0.10228109\n",
            " 0.10007358 0.09713024 0.0919794  0.09345107 0.09492274 0.09492274\n",
            " 0.09345107 0.09271523 0.09639441 0.09639441 0.09345107 0.09345107\n",
            " 0.09271523 0.09124356 0.09271523 0.08830022 0.08535688 0.08241354\n",
            " 0.08241354 0.08388521 0.08314937 0.08241354 0.0816777  0.08020603\n",
            " 0.08020603 0.08241354 0.08494475 0.08710055 0.08949676 0.0918698\n",
            " 0.09416877 0.09640199 0.09860443 0.10082082 0.10309443 0.10545923\n",
            " 0.10793735 0.11053891 0.11326554 0.11611204 0.11907116 0.12213568\n",
            " 0.12530002 0.12856153]\n",
            "18 day output [[0.1319202]]\n",
            "19 day input [0.10743194 0.10596026 0.10596026 0.10522443 0.10228109 0.10007358\n",
            " 0.09713024 0.0919794  0.09345107 0.09492274 0.09492274 0.09345107\n",
            " 0.09271523 0.09639441 0.09639441 0.09345107 0.09345107 0.09271523\n",
            " 0.09124356 0.09271523 0.08830022 0.08535688 0.08241354 0.08241354\n",
            " 0.08388521 0.08314937 0.08241354 0.0816777  0.08020603 0.08020603\n",
            " 0.08241354 0.08494475 0.08710055 0.08949676 0.0918698  0.09416877\n",
            " 0.09640199 0.09860443 0.10082082 0.10309443 0.10545923 0.10793735\n",
            " 0.11053891 0.11326554 0.11611204 0.11907116 0.12213568 0.12530002\n",
            " 0.12856153 0.1319202 ]\n",
            "19 day output [[0.13537857]]\n",
            "20 day input [0.10596026 0.10596026 0.10522443 0.10228109 0.10007358 0.09713024\n",
            " 0.0919794  0.09345107 0.09492274 0.09492274 0.09345107 0.09271523\n",
            " 0.09639441 0.09639441 0.09345107 0.09345107 0.09271523 0.09124356\n",
            " 0.09271523 0.08830022 0.08535688 0.08241354 0.08241354 0.08388521\n",
            " 0.08314937 0.08241354 0.0816777  0.08020603 0.08020603 0.08241354\n",
            " 0.08494475 0.08710055 0.08949676 0.0918698  0.09416877 0.09640199\n",
            " 0.09860443 0.10082082 0.10309443 0.10545923 0.10793735 0.11053891\n",
            " 0.11326554 0.11611204 0.11907116 0.12213568 0.12530002 0.12856153\n",
            " 0.1319202  0.13537857]\n",
            "20 day output [[0.13894142]]\n",
            "21 day input [0.10596026 0.10522443 0.10228109 0.10007358 0.09713024 0.0919794\n",
            " 0.09345107 0.09492274 0.09492274 0.09345107 0.09271523 0.09639441\n",
            " 0.09639441 0.09345107 0.09345107 0.09271523 0.09124356 0.09271523\n",
            " 0.08830022 0.08535688 0.08241354 0.08241354 0.08388521 0.08314937\n",
            " 0.08241354 0.0816777  0.08020603 0.08020603 0.08241354 0.08494475\n",
            " 0.08710055 0.08949676 0.0918698  0.09416877 0.09640199 0.09860443\n",
            " 0.10082082 0.10309443 0.10545923 0.10793735 0.11053891 0.11326554\n",
            " 0.11611204 0.11907116 0.12213568 0.12530002 0.12856153 0.1319202\n",
            " 0.13537857 0.13894142]\n",
            "21 day output [[0.14261492]]\n",
            "22 day input [0.10522443 0.10228109 0.10007358 0.09713024 0.0919794  0.09345107\n",
            " 0.09492274 0.09492274 0.09345107 0.09271523 0.09639441 0.09639441\n",
            " 0.09345107 0.09345107 0.09271523 0.09124356 0.09271523 0.08830022\n",
            " 0.08535688 0.08241354 0.08241354 0.08388521 0.08314937 0.08241354\n",
            " 0.0816777  0.08020603 0.08020603 0.08241354 0.08494475 0.08710055\n",
            " 0.08949676 0.0918698  0.09416877 0.09640199 0.09860443 0.10082082\n",
            " 0.10309443 0.10545923 0.10793735 0.11053891 0.11326554 0.11611204\n",
            " 0.11907116 0.12213568 0.12530002 0.12856153 0.1319202  0.13537857\n",
            " 0.13894142 0.14261492]\n",
            "22 day output [[0.14640607]]\n",
            "23 day input [0.10228109 0.10007358 0.09713024 0.0919794  0.09345107 0.09492274\n",
            " 0.09492274 0.09345107 0.09271523 0.09639441 0.09639441 0.09345107\n",
            " 0.09345107 0.09271523 0.09124356 0.09271523 0.08830022 0.08535688\n",
            " 0.08241354 0.08241354 0.08388521 0.08314937 0.08241354 0.0816777\n",
            " 0.08020603 0.08020603 0.08241354 0.08494475 0.08710055 0.08949676\n",
            " 0.0918698  0.09416877 0.09640199 0.09860443 0.10082082 0.10309443\n",
            " 0.10545923 0.10793735 0.11053891 0.11326554 0.11611204 0.11907116\n",
            " 0.12213568 0.12530002 0.12856153 0.1319202  0.13537857 0.13894142\n",
            " 0.14261492 0.14640607]\n",
            "23 day output [[0.15032262]]\n",
            "24 day input [0.10007358 0.09713024 0.0919794  0.09345107 0.09492274 0.09492274\n",
            " 0.09345107 0.09271523 0.09639441 0.09639441 0.09345107 0.09345107\n",
            " 0.09271523 0.09124356 0.09271523 0.08830022 0.08535688 0.08241354\n",
            " 0.08241354 0.08388521 0.08314937 0.08241354 0.0816777  0.08020603\n",
            " 0.08020603 0.08241354 0.08494475 0.08710055 0.08949676 0.0918698\n",
            " 0.09416877 0.09640199 0.09860443 0.10082082 0.10309443 0.10545923\n",
            " 0.10793735 0.11053891 0.11326554 0.11611204 0.11907116 0.12213568\n",
            " 0.12530002 0.12856153 0.1319202  0.13537857 0.13894142 0.14261492\n",
            " 0.14640607 0.15032262]\n",
            "24 day output [[0.15437272]]\n",
            "25 day input [0.09713024 0.0919794  0.09345107 0.09492274 0.09492274 0.09345107\n",
            " 0.09271523 0.09639441 0.09639441 0.09345107 0.09345107 0.09271523\n",
            " 0.09124356 0.09271523 0.08830022 0.08535688 0.08241354 0.08241354\n",
            " 0.08388521 0.08314937 0.08241354 0.0816777  0.08020603 0.08020603\n",
            " 0.08241354 0.08494475 0.08710055 0.08949676 0.0918698  0.09416877\n",
            " 0.09640199 0.09860443 0.10082082 0.10309443 0.10545923 0.10793735\n",
            " 0.11053891 0.11326554 0.11611204 0.11907116 0.12213568 0.12530002\n",
            " 0.12856153 0.1319202  0.13537857 0.13894142 0.14261492 0.14640607\n",
            " 0.15032262 0.15437272]\n",
            "25 day output [[0.15856467]]\n",
            "26 day input [0.0919794  0.09345107 0.09492274 0.09492274 0.09345107 0.09271523\n",
            " 0.09639441 0.09639441 0.09345107 0.09345107 0.09271523 0.09124356\n",
            " 0.09271523 0.08830022 0.08535688 0.08241354 0.08241354 0.08388521\n",
            " 0.08314937 0.08241354 0.0816777  0.08020603 0.08020603 0.08241354\n",
            " 0.08494475 0.08710055 0.08949676 0.0918698  0.09416877 0.09640199\n",
            " 0.09860443 0.10082082 0.10309443 0.10545923 0.10793735 0.11053891\n",
            " 0.11326554 0.11611204 0.11907116 0.12213568 0.12530002 0.12856153\n",
            " 0.1319202  0.13537857 0.13894142 0.14261492 0.14640607 0.15032262\n",
            " 0.15437272 0.15856467]\n",
            "26 day output [[0.16290738]]\n",
            "27 day input [0.09345107 0.09492274 0.09492274 0.09345107 0.09271523 0.09639441\n",
            " 0.09639441 0.09345107 0.09345107 0.09271523 0.09124356 0.09271523\n",
            " 0.08830022 0.08535688 0.08241354 0.08241354 0.08388521 0.08314937\n",
            " 0.08241354 0.0816777  0.08020603 0.08020603 0.08241354 0.08494475\n",
            " 0.08710055 0.08949676 0.0918698  0.09416877 0.09640199 0.09860443\n",
            " 0.10082082 0.10309443 0.10545923 0.10793735 0.11053891 0.11326554\n",
            " 0.11611204 0.11907116 0.12213568 0.12530002 0.12856153 0.1319202\n",
            " 0.13537857 0.13894142 0.14261492 0.14640607 0.15032262 0.15437272\n",
            " 0.15856467 0.16290738]\n",
            "27 day output [[0.16741017]]\n",
            "28 day input [0.09492274 0.09492274 0.09345107 0.09271523 0.09639441 0.09639441\n",
            " 0.09345107 0.09345107 0.09271523 0.09124356 0.09271523 0.08830022\n",
            " 0.08535688 0.08241354 0.08241354 0.08388521 0.08314937 0.08241354\n",
            " 0.0816777  0.08020603 0.08020603 0.08241354 0.08494475 0.08710055\n",
            " 0.08949676 0.0918698  0.09416877 0.09640199 0.09860443 0.10082082\n",
            " 0.10309443 0.10545923 0.10793735 0.11053891 0.11326554 0.11611204\n",
            " 0.11907116 0.12213568 0.12530002 0.12856153 0.1319202  0.13537857\n",
            " 0.13894142 0.14261492 0.14640607 0.15032262 0.15437272 0.15856467\n",
            " 0.16290738 0.16741017]\n",
            "28 day output [[0.17208247]]\n",
            "29 day input [0.09492274 0.09345107 0.09271523 0.09639441 0.09639441 0.09345107\n",
            " 0.09345107 0.09271523 0.09124356 0.09271523 0.08830022 0.08535688\n",
            " 0.08241354 0.08241354 0.08388521 0.08314937 0.08241354 0.0816777\n",
            " 0.08020603 0.08020603 0.08241354 0.08494475 0.08710055 0.08949676\n",
            " 0.0918698  0.09416877 0.09640199 0.09860443 0.10082082 0.10309443\n",
            " 0.10545923 0.10793735 0.11053891 0.11326554 0.11611204 0.11907116\n",
            " 0.12213568 0.12530002 0.12856153 0.1319202  0.13537857 0.13894142\n",
            " 0.14261492 0.14640607 0.15032262 0.15437272 0.15856467 0.16290738\n",
            " 0.16741017 0.17208247]\n",
            "29 day output [[0.1769349]]\n",
            "[[0.08494475483894348], [0.087100550532341], [0.08949676156044006], [0.09186980128288269], [0.0941687673330307], [0.09640198945999146], [0.09860442578792572], [0.10082082450389862], [0.1030944287776947], [0.10545922815799713], [0.10793735086917877], [0.11053891479969025], [0.11326554417610168], [0.11611203849315643], [0.11907115578651428], [0.12213568389415741], [0.12530001997947693], [0.12856152653694153], [0.1319202035665512], [0.13537856936454773], [0.1389414221048355], [0.1426149159669876], [0.14640606939792633], [0.15032261610031128], [0.15437272191047668], [0.15856467187404633], [0.16290737688541412], [0.16741016507148743], [0.17208246886730194], [0.17693489789962769]]\n"
          ]
        }
      ],
      "source": [
        "# demonstrate prediction for next 10 days\n",
        "from numpy import array\n",
        "\n",
        "lst_output=[]\n",
        "n_steps=50\n",
        "i=0\n",
        "while(i<30):\n",
        "    \n",
        "    if(len(temp_input)>50):\n",
        "        #print(temp_input)\n",
        "        x_input=np.array(temp_input[1:])\n",
        "        print(\"{} day input {}\".format(i,x_input))\n",
        "        x_input=x_input.reshape(1,-1)\n",
        "        x_input = x_input.reshape((1, n_steps, 1))\n",
        "        #print(x_input)\n",
        "        yhat = model.predict(x_input, verbose=0)\n",
        "        print(\"{} day output {}\".format(i,yhat))\n",
        "        temp_input.extend(yhat[0].tolist())\n",
        "        temp_input=temp_input[1:]\n",
        "        #print(temp_input)\n",
        "        lst_output.extend(yhat.tolist())\n",
        "        i=i+1\n",
        "    else:\n",
        "        x_input = x_input.reshape((1, n_steps,1))\n",
        "        yhat = model.predict(x_input, verbose=0)\n",
        "        print(yhat[0])\n",
        "        temp_input.extend(yhat[0].tolist())\n",
        "        print(len(temp_input))\n",
        "        lst_output.extend(yhat.tolist())\n",
        "        i=i+1\n",
        "    \n",
        "\n",
        "print(lst_output)"
      ]
    },
    {
      "cell_type": "code",
      "execution_count": null,
      "id": "13cd7174",
      "metadata": {
        "id": "13cd7174"
      },
      "outputs": [],
      "source": [
        "day_new=np.arange(1,51)\n",
        "day_pred=np.arange(51,81)"
      ]
    },
    {
      "cell_type": "code",
      "execution_count": null,
      "id": "09305898",
      "metadata": {
        "id": "09305898"
      },
      "outputs": [],
      "source": [
        "import matplotlib.pyplot as plt"
      ]
    },
    {
      "cell_type": "code",
      "execution_count": null,
      "id": "3fe22e3e",
      "metadata": {
        "id": "3fe22e3e",
        "outputId": "2b039ffe-3ce9-4930-cde0-98a46663a96d",
        "colab": {
          "base_uri": "https://localhost:8080/"
        }
      },
      "outputs": [
        {
          "output_type": "execute_result",
          "data": {
            "text/plain": [
              "6000"
            ]
          },
          "metadata": {},
          "execution_count": 31
        }
      ],
      "source": [
        "len(df1)"
      ]
    },
    {
      "cell_type": "code",
      "execution_count": null,
      "id": "03284fd9",
      "metadata": {
        "id": "03284fd9",
        "outputId": "06b68ce8-352b-48d3-e5e5-dec854362c53",
        "colab": {
          "base_uri": "https://localhost:8080/",
          "height": 282
        }
      },
      "outputs": [
        {
          "output_type": "execute_result",
          "data": {
            "text/plain": [
              "[<matplotlib.lines.Line2D at 0x7fec3b06f690>]"
            ]
          },
          "metadata": {},
          "execution_count": 32
        },
        {
          "output_type": "display_data",
          "data": {
            "image/png": "[encoded data removed]",
            "text/plain": [
              "<Figure size 432x288 with 1 Axes>"
            ]
          },
          "metadata": {
            "needs_background": "light"
          }
        }
      ],
      "source": [
        "plt.plot(day_new,scaler.inverse_transform(df1[5950:]))\n",
        "plt.plot(day_pred,scaler.inverse_transform(lst_output))"
      ]
    },
    {
      "cell_type": "code",
      "execution_count": null,
      "id": "4cda76b2",
      "metadata": {
        "id": "4cda76b2",
        "outputId": "5c72a594-5e69-469b-91dd-5b69f148b314",
        "colab": {
          "base_uri": "https://localhost:8080/",
          "height": 282
        }
      },
      "outputs": [
        {
          "output_type": "execute_result",
          "data": {
            "text/plain": [
              "[<matplotlib.lines.Line2D at 0x7fec3b138650>]"
            ]
          },
          "metadata": {},
          "execution_count": 33
        },
        {
          "output_type": "display_data",
          "data": {
            "image/png": "[encoded data removed]",
            "text/plain": [
              "<Figure size 432x288 with 1 Axes>"
            ]
          },
          "metadata": {
            "needs_background": "light"
          }
        }
      ],
      "source": [
        "df3=df1.tolist()\n",
        "df3.extend(lst_output)\n",
        "plt.plot(df3[1200:])"
      ]
    },
    {
      "cell_type": "code",
      "execution_count": null,
      "id": "fcec56ba",
      "metadata": {
        "id": "fcec56ba"
      },
      "outputs": [],
      "source": [
        ""
      ]
    }
  ],
  "metadata": {
    "kernelspec": {
      "display_name": "Python 3",
      "language": "python",
      "name": "python3"
    },
    "language_info": {
      "codemirror_mode": {
        "name": "ipython",
        "version": 3
      },
      "file_extension": ".py",
      "mimetype": "text/x-python",
      "name": "python",
      "nbconvert_exporter": "python",
      "pygments_lexer": "ipython3",
      "version": "3.8.8"
    },
    "colab": {
      "name": "DHF-Price-Forecast.ipynb",
      "provenance": [],
      "collapsed_sections": []
    }
  },
  "nbformat": 4,
  "nbformat_minor": 5
}