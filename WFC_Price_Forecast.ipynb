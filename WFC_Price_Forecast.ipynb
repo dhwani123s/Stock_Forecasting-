{
  "cells": [
    {
      "cell_type": "code",
      "execution_count": null,
      "metadata": {
        "id": "05f01c40"
      },
      "outputs": [],
      "source": [
        "import pandas as pd\n",
        "import pandas as pd\n",
        "import numpy as np\n",
        "import keras\n",
        "import tensorflow as tf\n",
        "from keras.preprocessing.sequence import TimeseriesGenerator\n",
        "df = pd.read_csv(\"WFC.csv\") "
      ],
      "id": "05f01c40"
    },
    {
      "cell_type": "code",
      "execution_count": null,
      "metadata": {
        "id": "7cfcdc60"
      },
      "outputs": [],
      "source": [
        "df.dropna(inplace=True)"
      ],
      "id": "7cfcdc60"
    },
    {
      "cell_type": "code",
      "execution_count": null,
      "metadata": {
        "id": "7ed91aa2"
      },
      "outputs": [],
      "source": [
        "df1=df.reset_index()['Close']"
      ],
      "id": "7ed91aa2"
    },
    {
      "cell_type": "code",
      "execution_count": null,
      "metadata": {
        "colab": {
          "base_uri": "https://localhost:8080/",
          "height": 282
        },
        "id": "ec40048e",
        "outputId": "2e31bb1e-d459-467b-ce86-aa64de1304c5"
      },
      "outputs": [
        {
          "output_type": "execute_result",
          "data": {
            "text/plain": [
              "[<matplotlib.lines.Line2D at 0x7f1adb851f10>]"
            ]
          },
          "metadata": {},
          "execution_count": 40
        },
        {
          "output_type": "display_data",
          "data": {
            "image/png": "[encoded data removed]",
            "text/plain": [
              "<Figure size 432x288 with 1 Axes>"
            ]
          },
          "metadata": {
            "needs_background": "light"
          }
        }
      ],
      "source": [
        "import matplotlib.pyplot as plt\n",
        "plt.plot(df1)"
      ],
      "id": "ec40048e"
    },
    {
      "cell_type": "code",
      "execution_count": null,
      "metadata": {
        "id": "dbbe204c"
      },
      "outputs": [],
      "source": [
        "import numpy as np"
      ],
      "id": "dbbe204c"
    },
    {
      "cell_type": "code",
      "execution_count": null,
      "metadata": {
        "id": "93c0cb4e"
      },
      "outputs": [],
      "source": [
        "from sklearn.preprocessing import MinMaxScaler\n",
        "scaler=MinMaxScaler(feature_range=(0,1))\n",
        "df1=scaler.fit_transform(np.array(df1).reshape(-1,1))"
      ],
      "id": "93c0cb4e"
    },
    {
      "cell_type": "code",
      "execution_count": null,
      "metadata": {
        "id": "38ee7c31"
      },
      "outputs": [],
      "source": [
        "training_size=int(len(df1)*0.65)\n",
        "test_size=len(df1)-training_size\n",
        "train_data,test_data=df1[0:training_size,:],df1[training_size:len(df1),:1]"
      ],
      "id": "38ee7c31"
    },
    {
      "cell_type": "code",
      "execution_count": null,
      "metadata": {
        "colab": {
          "base_uri": "https://localhost:8080/"
        },
        "id": "94fe8b6a",
        "outputId": "7b7ae4f4-61a3-4fca-93df-61d19ba31de4"
      },
      "outputs": [
        {
          "output_type": "execute_result",
          "data": {
            "text/plain": [
              "(8153, 4391)"
            ]
          },
          "metadata": {},
          "execution_count": 44
        }
      ],
      "source": [
        "training_size,test_size"
      ],
      "id": "94fe8b6a"
    },
    {
      "cell_type": "code",
      "execution_count": null,
      "metadata": {
        "colab": {
          "base_uri": "https://localhost:8080/"
        },
        "id": "bcfb12fb",
        "outputId": "a929991a-b121-44aa-b06f-a1b87eeea521"
      },
      "outputs": [
        {
          "output_type": "execute_result",
          "data": {
            "text/plain": [
              "array([[0.00596917],\n",
              "       [0.00600898],\n",
              "       [0.00620794],\n",
              "       ...,\n",
              "       [0.44407443],\n",
              "       [0.44506772],\n",
              "       [0.44590818]])"
            ]
          },
          "metadata": {},
          "execution_count": 45
        }
      ],
      "source": [
        "train_data"
      ],
      "id": "bcfb12fb"
    },
    {
      "cell_type": "code",
      "execution_count": null,
      "metadata": {
        "id": "7b70d6d7"
      },
      "outputs": [],
      "source": [
        "import numpy\n",
        "# convert an array of values into a dataset matrix\n",
        "def create_dataset(dataset, time_step=1):\n",
        "\tdataX, dataY = [], []\n",
        "\tfor i in range(len(dataset)-time_step-1):\n",
        "\t\ta = dataset[i:(i+time_step), 0]   ###i=0, 0,1,2,3-----99   100 \n",
        "\t\tdataX.append(a)\n",
        "\t\tdataY.append(dataset[i + time_step, 0])\n",
        "\treturn numpy.array(dataX), numpy.array(dataY)"
      ],
      "id": "7b70d6d7"
    },
    {
      "cell_type": "code",
      "execution_count": null,
      "metadata": {
        "id": "cf0af60c"
      },
      "outputs": [],
      "source": [
        "# reshape into X=t,t+1,t+2,t+3 and Y=t+4\n",
        "time_step = 50\n",
        "X_train, y_train = create_dataset(train_data, time_step)\n",
        "X_test, ytest = create_dataset(test_data, time_step)"
      ],
      "id": "cf0af60c"
    },
    {
      "cell_type": "code",
      "execution_count": null,
      "metadata": {
        "colab": {
          "base_uri": "https://localhost:8080/"
        },
        "id": "1b937a04",
        "outputId": "4ac36850-3598-40b4-a949-eb8bca2dcbf3"
      },
      "outputs": [
        {
          "output_type": "stream",
          "name": "stdout",
          "text": [
            "(8102, 50)\n",
            "(8102,)\n"
          ]
        },
        {
          "output_type": "execute_result",
          "data": {
            "text/plain": [
              "(None, None)"
            ]
          },
          "metadata": {},
          "execution_count": 48
        }
      ],
      "source": [
        "print(X_train.shape), print(y_train.shape)"
      ],
      "id": "1b937a04"
    },
    {
      "cell_type": "code",
      "execution_count": null,
      "metadata": {
        "colab": {
          "base_uri": "https://localhost:8080/"
        },
        "id": "63f4efe5",
        "outputId": "da819ce5-a468-4882-d851-ce043999386f"
      },
      "outputs": [
        {
          "output_type": "stream",
          "name": "stdout",
          "text": [
            "(4340, 50)\n",
            "(4340,)\n"
          ]
        },
        {
          "output_type": "execute_result",
          "data": {
            "text/plain": [
              "(None, None)"
            ]
          },
          "metadata": {},
          "execution_count": 49
        }
      ],
      "source": [
        "print(X_test.shape), print(ytest.shape)"
      ],
      "id": "63f4efe5"
    },
    {
      "cell_type": "code",
      "execution_count": null,
      "metadata": {
        "id": "78c723f6"
      },
      "outputs": [],
      "source": [
        "# reshape input to be [samples, time steps, features] which is required for LSTM\n",
        "X_train =X_train.reshape(X_train.shape[0],X_train.shape[1] , 1)\n",
        "X_test = X_test.reshape(X_test.shape[0],X_test.shape[1] , 1)"
      ],
      "id": "78c723f6"
    },
    {
      "cell_type": "code",
      "execution_count": null,
      "metadata": {
        "id": "63c448c3"
      },
      "outputs": [],
      "source": [
        "### Create the Stacked LSTM model\n",
        "from tensorflow.keras.models import Sequential\n",
        "from tensorflow.keras.layers import Dense\n",
        "from tensorflow.keras.layers import LSTM"
      ],
      "id": "63c448c3"
    },
    {
      "cell_type": "code",
      "execution_count": null,
      "metadata": {
        "id": "57833498"
      },
      "outputs": [],
      "source": [
        "model=Sequential()\n",
        "model.add(LSTM(50,return_sequences=True,input_shape=(50,1)))\n",
        "model.add(LSTM(50,return_sequences=True))\n",
        "model.add(LSTM(50,return_sequences=True))\n",
        "model.add(LSTM(50))\n",
        "model.add(Dense(1))\n",
        "model.compile(loss='mean_squared_error',optimizer='adam')\n"
      ],
      "id": "57833498"
    },
    {
      "cell_type": "code",
      "execution_count": null,
      "metadata": {
        "colab": {
          "base_uri": "https://localhost:8080/"
        },
        "id": "16f14d32",
        "outputId": "d04a9887-d7a9-4a37-9232-c210c2817d3c"
      },
      "outputs": [
        {
          "output_type": "stream",
          "name": "stdout",
          "text": [
            "Model: \"sequential_3\"\n",
            "_________________________________________________________________\n",
            " Layer (type)                Output Shape              Param #   \n",
            "=================================================================\n",
            " lstm_12 (LSTM)              (None, 50, 50)            10400     \n",
            "                                                                 \n",
            " lstm_13 (LSTM)              (None, 50, 50)            20200     \n",
            "                                                                 \n",
            " lstm_14 (LSTM)              (None, 50, 50)            20200     \n",
            "                                                                 \n",
            " lstm_15 (LSTM)              (None, 50)                20200     \n",
            "                                                                 \n",
            " dense_3 (Dense)             (None, 1)                 51        \n",
            "                                                                 \n",
            "=================================================================\n",
            "Total params: 71,051\n",
            "Trainable params: 71,051\n",
            "Non-trainable params: 0\n",
            "_________________________________________________________________\n"
          ]
        }
      ],
      "source": [
        "model.summary()"
      ],
      "id": "16f14d32"
    },
    {
      "cell_type": "code",
      "execution_count": null,
      "metadata": {
        "colab": {
          "base_uri": "https://localhost:8080/"
        },
        "id": "a4554b49",
        "outputId": "304abb43-a194-492c-9e95-0e8ddfa98c55"
      },
      "outputs": [
        {
          "output_type": "stream",
          "name": "stdout",
          "text": [
            "Epoch 1/100\n",
            "127/127 [==============================] - 26s 158ms/step - loss: 9.0450e-04 - val_loss: 0.0085\n",
            "Epoch 2/100\n",
            "127/127 [==============================] - 19s 148ms/step - loss: 7.5685e-05 - val_loss: 0.0060\n",
            "Epoch 3/100\n",
            "127/127 [==============================] - 18s 143ms/step - loss: 8.5266e-05 - val_loss: 0.0062\n",
            "Epoch 4/100\n",
            "127/127 [==============================] - 18s 139ms/step - loss: 8.2441e-05 - val_loss: 0.0033\n",
            "Epoch 5/100\n",
            "127/127 [==============================] - 18s 138ms/step - loss: 7.0373e-05 - val_loss: 0.0023\n",
            "Epoch 6/100\n",
            "127/127 [==============================] - 18s 140ms/step - loss: 7.6613e-05 - val_loss: 0.0025\n",
            "Epoch 7/100\n",
            "127/127 [==============================] - 18s 143ms/step - loss: 6.7447e-05 - val_loss: 0.0034\n",
            "Epoch 8/100\n",
            "127/127 [==============================] - 18s 143ms/step - loss: 5.9500e-05 - val_loss: 0.0026\n",
            "Epoch 9/100\n",
            "127/127 [==============================] - 18s 143ms/step - loss: 6.4332e-05 - val_loss: 0.0023\n",
            "Epoch 10/100\n",
            "127/127 [==============================] - 18s 139ms/step - loss: 5.3258e-05 - val_loss: 0.0010\n",
            "Epoch 11/100\n",
            "127/127 [==============================] - 18s 140ms/step - loss: 5.7172e-05 - val_loss: 9.4591e-04\n",
            "Epoch 12/100\n",
            "127/127 [==============================] - 18s 140ms/step - loss: 4.8261e-05 - val_loss: 0.0038\n",
            "Epoch 13/100\n",
            "127/127 [==============================] - 18s 140ms/step - loss: 4.5922e-05 - val_loss: 6.9951e-04\n",
            "Epoch 14/100\n",
            "127/127 [==============================] - 18s 140ms/step - loss: 4.4360e-05 - val_loss: 0.0013\n",
            "Epoch 15/100\n",
            "127/127 [==============================] - 18s 139ms/step - loss: 4.7641e-05 - val_loss: 0.0019\n",
            "Epoch 16/100\n",
            "127/127 [==============================] - 18s 139ms/step - loss: 4.2397e-05 - val_loss: 8.9326e-04\n",
            "Epoch 17/100\n",
            "127/127 [==============================] - 18s 138ms/step - loss: 3.0409e-05 - val_loss: 8.8794e-04\n",
            "Epoch 18/100\n",
            "127/127 [==============================] - 18s 140ms/step - loss: 3.1228e-05 - val_loss: 6.7701e-04\n",
            "Epoch 19/100\n",
            "127/127 [==============================] - 18s 139ms/step - loss: 3.5371e-05 - val_loss: 4.0194e-04\n",
            "Epoch 20/100\n",
            "127/127 [==============================] - 18s 142ms/step - loss: 2.8465e-05 - val_loss: 4.1570e-04\n",
            "Epoch 21/100\n",
            "127/127 [==============================] - 18s 141ms/step - loss: 2.8827e-05 - val_loss: 0.0012\n",
            "Epoch 22/100\n",
            "127/127 [==============================] - 18s 139ms/step - loss: 3.6268e-05 - val_loss: 5.4542e-04\n",
            "Epoch 23/100\n",
            "127/127 [==============================] - 18s 140ms/step - loss: 2.6820e-05 - val_loss: 2.5823e-04\n",
            "Epoch 24/100\n",
            "127/127 [==============================] - 18s 139ms/step - loss: 2.2546e-05 - val_loss: 7.3331e-04\n",
            "Epoch 25/100\n",
            "127/127 [==============================] - 18s 139ms/step - loss: 2.5418e-05 - val_loss: 0.0017\n",
            "Epoch 26/100\n",
            "127/127 [==============================] - 18s 139ms/step - loss: 2.4169e-05 - val_loss: 4.4720e-04\n",
            "Epoch 27/100\n",
            "127/127 [==============================] - 18s 139ms/step - loss: 2.3062e-05 - val_loss: 0.0020\n",
            "Epoch 28/100\n",
            "127/127 [==============================] - 18s 139ms/step - loss: 2.0758e-05 - val_loss: 1.8995e-04\n",
            "Epoch 29/100\n",
            "127/127 [==============================] - 18s 139ms/step - loss: 2.4163e-05 - val_loss: 6.3776e-04\n",
            "Epoch 30/100\n",
            "127/127 [==============================] - 17s 138ms/step - loss: 2.1158e-05 - val_loss: 2.5267e-04\n",
            "Epoch 31/100\n",
            "127/127 [==============================] - 18s 138ms/step - loss: 1.7291e-05 - val_loss: 2.6540e-04\n",
            "Epoch 32/100\n",
            "127/127 [==============================] - 18s 138ms/step - loss: 1.8016e-05 - val_loss: 1.9860e-04\n",
            "Epoch 33/100\n",
            "127/127 [==============================] - 18s 140ms/step - loss: 1.9459e-05 - val_loss: 2.3908e-04\n",
            "Epoch 34/100\n",
            "127/127 [==============================] - 18s 140ms/step - loss: 1.8678e-05 - val_loss: 3.8259e-04\n",
            "Epoch 35/100\n",
            "127/127 [==============================] - 18s 140ms/step - loss: 1.5477e-05 - val_loss: 3.5500e-04\n",
            "Epoch 36/100\n",
            "127/127 [==============================] - 18s 139ms/step - loss: 1.7784e-05 - val_loss: 1.6689e-04\n",
            "Epoch 37/100\n",
            "127/127 [==============================] - 18s 144ms/step - loss: 1.3773e-05 - val_loss: 2.2722e-04\n",
            "Epoch 38/100\n",
            "127/127 [==============================] - 18s 143ms/step - loss: 1.3916e-05 - val_loss: 2.7968e-04\n",
            "Epoch 39/100\n",
            "127/127 [==============================] - 18s 141ms/step - loss: 1.6107e-05 - val_loss: 4.8950e-04\n",
            "Epoch 40/100\n",
            "127/127 [==============================] - 18s 139ms/step - loss: 1.2496e-05 - val_loss: 3.9938e-04\n",
            "Epoch 41/100\n",
            "127/127 [==============================] - 17s 137ms/step - loss: 1.2763e-05 - val_loss: 1.6240e-04\n",
            "Epoch 42/100\n",
            "127/127 [==============================] - 18s 138ms/step - loss: 1.7296e-05 - val_loss: 3.0799e-04\n",
            "Epoch 43/100\n",
            "127/127 [==============================] - 18s 138ms/step - loss: 1.4050e-05 - val_loss: 2.0749e-04\n",
            "Epoch 44/100\n",
            "127/127 [==============================] - 18s 139ms/step - loss: 1.3141e-05 - val_loss: 2.0512e-04\n",
            "Epoch 45/100\n",
            "127/127 [==============================] - 18s 138ms/step - loss: 1.2290e-05 - val_loss: 1.9750e-04\n",
            "Epoch 46/100\n",
            "127/127 [==============================] - 18s 138ms/step - loss: 1.4582e-05 - val_loss: 2.2849e-04\n",
            "Epoch 47/100\n",
            "127/127 [==============================] - 17s 137ms/step - loss: 1.4283e-05 - val_loss: 2.5056e-04\n",
            "Epoch 48/100\n",
            "127/127 [==============================] - 18s 141ms/step - loss: 1.5220e-05 - val_loss: 1.9745e-04\n",
            "Epoch 49/100\n",
            "127/127 [==============================] - 18s 140ms/step - loss: 1.4531e-05 - val_loss: 4.4954e-04\n",
            "Epoch 50/100\n",
            "127/127 [==============================] - 18s 140ms/step - loss: 1.1992e-05 - val_loss: 2.1523e-04\n",
            "Epoch 51/100\n",
            "127/127 [==============================] - 18s 141ms/step - loss: 1.3023e-05 - val_loss: 4.7084e-04\n",
            "Epoch 52/100\n",
            "127/127 [==============================] - 18s 142ms/step - loss: 1.9097e-05 - val_loss: 4.1585e-04\n",
            "Epoch 53/100\n",
            "127/127 [==============================] - 18s 140ms/step - loss: 1.2390e-05 - val_loss: 2.1990e-04\n",
            "Epoch 54/100\n",
            "127/127 [==============================] - 18s 140ms/step - loss: 1.2233e-05 - val_loss: 2.2726e-04\n",
            "Epoch 55/100\n",
            "127/127 [==============================] - 18s 140ms/step - loss: 1.2516e-05 - val_loss: 4.7252e-04\n",
            "Epoch 56/100\n",
            "127/127 [==============================] - 18s 138ms/step - loss: 1.3076e-05 - val_loss: 2.1519e-04\n",
            "Epoch 57/100\n",
            "127/127 [==============================] - 18s 140ms/step - loss: 1.2317e-05 - val_loss: 2.1927e-04\n",
            "Epoch 58/100\n",
            "127/127 [==============================] - 18s 140ms/step - loss: 1.5117e-05 - val_loss: 2.1180e-04\n",
            "Epoch 59/100\n",
            "127/127 [==============================] - 18s 138ms/step - loss: 1.2686e-05 - val_loss: 4.8249e-04\n",
            "Epoch 60/100\n",
            "127/127 [==============================] - 18s 140ms/step - loss: 1.1419e-05 - val_loss: 2.2669e-04\n",
            "Epoch 61/100\n",
            "127/127 [==============================] - 18s 141ms/step - loss: 1.3245e-05 - val_loss: 2.4134e-04\n",
            "Epoch 62/100\n",
            "127/127 [==============================] - 18s 141ms/step - loss: 1.1974e-05 - val_loss: 2.4404e-04\n",
            "Epoch 63/100\n",
            "127/127 [==============================] - 18s 140ms/step - loss: 1.4424e-05 - val_loss: 2.7957e-04\n",
            "Epoch 64/100\n",
            "127/127 [==============================] - 18s 140ms/step - loss: 1.3797e-05 - val_loss: 5.8910e-04\n",
            "Epoch 65/100\n",
            "127/127 [==============================] - 18s 142ms/step - loss: 1.2724e-05 - val_loss: 3.5405e-04\n",
            "Epoch 66/100\n",
            "127/127 [==============================] - 18s 139ms/step - loss: 1.4130e-05 - val_loss: 2.6134e-04\n",
            "Epoch 67/100\n",
            "127/127 [==============================] - 18s 139ms/step - loss: 1.1691e-05 - val_loss: 2.4856e-04\n",
            "Epoch 68/100\n",
            "127/127 [==============================] - 18s 139ms/step - loss: 1.1217e-05 - val_loss: 2.9026e-04\n",
            "Epoch 69/100\n",
            "127/127 [==============================] - 18s 139ms/step - loss: 1.3011e-05 - val_loss: 2.7834e-04\n",
            "Epoch 70/100\n",
            "127/127 [==============================] - 18s 139ms/step - loss: 1.0641e-05 - val_loss: 2.1980e-04\n",
            "Epoch 71/100\n",
            "127/127 [==============================] - 18s 139ms/step - loss: 1.2907e-05 - val_loss: 2.8375e-04\n",
            "Epoch 72/100\n",
            "127/127 [==============================] - 18s 139ms/step - loss: 1.1561e-05 - val_loss: 2.5415e-04\n",
            "Epoch 73/100\n",
            "127/127 [==============================] - 18s 139ms/step - loss: 1.1690e-05 - val_loss: 2.7540e-04\n",
            "Epoch 74/100\n",
            "127/127 [==============================] - 18s 138ms/step - loss: 1.2706e-05 - val_loss: 3.2405e-04\n",
            "Epoch 75/100\n",
            "127/127 [==============================] - 18s 139ms/step - loss: 1.2918e-05 - val_loss: 2.2140e-04\n",
            "Epoch 76/100\n",
            "127/127 [==============================] - 18s 138ms/step - loss: 1.4186e-05 - val_loss: 2.2341e-04\n",
            "Epoch 77/100\n",
            "127/127 [==============================] - 17s 138ms/step - loss: 1.2525e-05 - val_loss: 3.4919e-04\n",
            "Epoch 78/100\n",
            "127/127 [==============================] - 18s 140ms/step - loss: 1.0805e-05 - val_loss: 4.4793e-04\n",
            "Epoch 79/100\n",
            "127/127 [==============================] - 18s 141ms/step - loss: 1.5092e-05 - val_loss: 3.8781e-04\n",
            "Epoch 80/100\n",
            "127/127 [==============================] - 18s 141ms/step - loss: 1.1527e-05 - val_loss: 2.4741e-04\n",
            "Epoch 81/100\n",
            "127/127 [==============================] - 18s 140ms/step - loss: 1.1579e-05 - val_loss: 1.8516e-04\n",
            "Epoch 82/100\n",
            "127/127 [==============================] - 18s 139ms/step - loss: 1.2577e-05 - val_loss: 7.0409e-04\n",
            "Epoch 83/100\n",
            "127/127 [==============================] - 18s 139ms/step - loss: 1.2766e-05 - val_loss: 3.5396e-04\n",
            "Epoch 84/100\n",
            "127/127 [==============================] - 18s 139ms/step - loss: 1.1230e-05 - val_loss: 2.3668e-04\n",
            "Epoch 85/100\n",
            "127/127 [==============================] - 18s 139ms/step - loss: 1.1696e-05 - val_loss: 2.0814e-04\n",
            "Epoch 86/100\n",
            "127/127 [==============================] - 18s 139ms/step - loss: 1.2211e-05 - val_loss: 5.1558e-04\n",
            "Epoch 87/100\n",
            "127/127 [==============================] - 18s 139ms/step - loss: 1.1468e-05 - val_loss: 3.5686e-04\n",
            "Epoch 88/100\n",
            "127/127 [==============================] - 18s 139ms/step - loss: 1.3466e-05 - val_loss: 2.0556e-04\n",
            "Epoch 89/100\n",
            "127/127 [==============================] - 18s 139ms/step - loss: 1.0896e-05 - val_loss: 1.8957e-04\n",
            "Epoch 90/100\n",
            "127/127 [==============================] - 18s 140ms/step - loss: 1.3953e-05 - val_loss: 2.5439e-04\n",
            "Epoch 91/100\n",
            "127/127 [==============================] - 18s 140ms/step - loss: 1.0672e-05 - val_loss: 3.6291e-04\n",
            "Epoch 92/100\n",
            "127/127 [==============================] - 18s 141ms/step - loss: 1.3867e-05 - val_loss: 4.6260e-04\n",
            "Epoch 93/100\n",
            "127/127 [==============================] - 18s 140ms/step - loss: 1.2782e-05 - val_loss: 4.1786e-04\n",
            "Epoch 94/100\n",
            "127/127 [==============================] - 18s 138ms/step - loss: 1.1227e-05 - val_loss: 3.7971e-04\n",
            "Epoch 95/100\n",
            "127/127 [==============================] - 17s 137ms/step - loss: 1.1234e-05 - val_loss: 3.5616e-04\n",
            "Epoch 96/100\n",
            "127/127 [==============================] - 17s 137ms/step - loss: 1.1192e-05 - val_loss: 2.9428e-04\n",
            "Epoch 97/100\n",
            "127/127 [==============================] - 17s 137ms/step - loss: 1.3195e-05 - val_loss: 2.9571e-04\n",
            "Epoch 98/100\n",
            "127/127 [==============================] - 17s 137ms/step - loss: 1.0975e-05 - val_loss: 2.2648e-04\n",
            "Epoch 99/100\n",
            "127/127 [==============================] - 18s 138ms/step - loss: 1.0357e-05 - val_loss: 3.1256e-04\n",
            "Epoch 100/100\n",
            "127/127 [==============================] - 18s 139ms/step - loss: 1.0911e-05 - val_loss: 2.2025e-04\n"
          ]
        },
        {
          "output_type": "execute_result",
          "data": {
            "text/plain": [
              "<keras.callbacks.History at 0x7f1add74b790>"
            ]
          },
          "metadata": {},
          "execution_count": 58
        }
      ],
      "source": [
        "model.fit(X_train,y_train,validation_data=(X_test,ytest),epochs=100,batch_size=64,verbose=1)"
      ],
      "id": "a4554b49"
    },
    {
      "cell_type": "code",
      "execution_count": null,
      "metadata": {
        "id": "51779dd0"
      },
      "outputs": [],
      "source": [
        "train_predict=model.predict(X_train)\n",
        "test_predict=model.predict(X_test)"
      ],
      "id": "51779dd0"
    },
    {
      "cell_type": "code",
      "execution_count": null,
      "metadata": {
        "id": "ff56d6dd"
      },
      "outputs": [],
      "source": [
        "##Transformback to original form\n",
        "train_predict=scaler.inverse_transform(train_predict)\n",
        "test_predict=scaler.inverse_transform(test_predict)"
      ],
      "id": "ff56d6dd"
    },
    {
      "cell_type": "code",
      "execution_count": null,
      "metadata": {
        "id": "9b9c250e",
        "outputId": "29b454ad-3640-4f6e-abbc-e1c1d690616a",
        "colab": {
          "base_uri": "https://localhost:8080/"
        }
      },
      "outputs": [
        {
          "output_type": "execute_result",
          "data": {
            "text/plain": [
              "11.184314288405451"
            ]
          },
          "metadata": {},
          "execution_count": 61
        }
      ],
      "source": [
        "import math\n",
        "from sklearn.metrics import mean_squared_error\n",
        "math.sqrt(mean_squared_error(y_train,train_predict))"
      ],
      "id": "9b9c250e"
    },
    {
      "cell_type": "code",
      "execution_count": null,
      "metadata": {
        "id": "2e3ea80c",
        "outputId": "fc454b84-e0cb-47ca-9152-6a1afaccf3f1",
        "colab": {
          "base_uri": "https://localhost:8080/"
        }
      },
      "outputs": [
        {
          "output_type": "execute_result",
          "data": {
            "text/plain": [
              "39.95976914475327"
            ]
          },
          "metadata": {},
          "execution_count": 62
        }
      ],
      "source": [
        "math.sqrt(mean_squared_error(ytest,test_predict))"
      ],
      "id": "2e3ea80c"
    },
    {
      "cell_type": "code",
      "execution_count": null,
      "metadata": {
        "id": "b82a3ef8",
        "outputId": "95ec340b-33fb-450d-df06-63498e3ccee3",
        "colab": {
          "base_uri": "https://localhost:8080/",
          "height": 265
        }
      },
      "outputs": [
        {
          "output_type": "display_data",
          "data": {
            "image/png": "[encoded data removed]",
            "text/plain": [
              "<Figure size 432x288 with 1 Axes>"
            ]
          },
          "metadata": {
            "needs_background": "light"
          }
        }
      ],
      "source": [
        "### Plotting \n",
        "# shift train predictions for plotting\n",
        "look_back=50\n",
        "trainPredictPlot = numpy.empty_like(df1)\n",
        "trainPredictPlot[:, :] = np.nan\n",
        "trainPredictPlot[look_back:len(train_predict)+look_back, :] = train_predict\n",
        "# shift test predictions for plotting\n",
        "testPredictPlot = numpy.empty_like(df1)\n",
        "testPredictPlot[:, :] = numpy.nan\n",
        "testPredictPlot[len(train_predict)+(look_back*2)+1:len(df1)-1, :] = test_predict\n",
        "\n",
        "# plot baseline and predictions\n",
        "plt.plot(scaler.inverse_transform(df1))\n",
        "plt.plot(trainPredictPlot)\n",
        "plt.plot(testPredictPlot)\n",
        "plt.show()"
      ],
      "id": "b82a3ef8"
    },
    {
      "cell_type": "code",
      "execution_count": null,
      "metadata": {
        "id": "556c358a",
        "outputId": "d7889ead-48c1-4c2e-f726-48971232d1bb",
        "colab": {
          "base_uri": "https://localhost:8080/"
        }
      },
      "outputs": [
        {
          "output_type": "execute_result",
          "data": {
            "text/plain": [
              "4391"
            ]
          },
          "metadata": {},
          "execution_count": 71
        }
      ],
      "source": [
        "len(test_data)"
      ],
      "id": "556c358a"
    },
    {
      "cell_type": "code",
      "execution_count": null,
      "metadata": {
        "id": "a69a38e5",
        "outputId": "78da6f27-5bfb-4df7-bf68-1825fb3534d8",
        "colab": {
          "base_uri": "https://localhost:8080/"
        }
      },
      "outputs": [
        {
          "output_type": "execute_result",
          "data": {
            "text/plain": [
              "(1, 50)"
            ]
          },
          "metadata": {},
          "execution_count": 73
        }
      ],
      "source": [
        "x_input=test_data[4341:].reshape(1,-1)\n",
        "x_input.shape"
      ],
      "id": "a69a38e5"
    },
    {
      "cell_type": "code",
      "execution_count": null,
      "metadata": {
        "id": "ab7a7eef"
      },
      "outputs": [],
      "source": [
        "temp_input=list(x_input)\n",
        "temp_input=temp_input[0].tolist()"
      ],
      "id": "ab7a7eef"
    },
    {
      "cell_type": "code",
      "execution_count": null,
      "metadata": {
        "id": "0c35b621",
        "outputId": "f1149b50-cc1a-4ad8-e456-56b024cff174",
        "colab": {
          "base_uri": "https://localhost:8080/"
        }
      },
      "outputs": [
        {
          "output_type": "stream",
          "name": "stdout",
          "text": [
            "[0.8126038]\n",
            "51\n",
            "1 day input [0.76115676 0.72524626 0.70843704 0.72310691 0.72646872 0.73151151\n",
            " 0.73777673 0.73242832 0.7328868  0.72753838 0.72570468 0.76772764\n",
            " 0.79859542 0.79156614 0.81204278 0.82946319 0.83832618 0.84917579\n",
            " 0.85437137 0.84825891 0.87973795 0.85880284 0.84168805 0.83297784\n",
            " 0.81265397 0.80730563 0.81143152 0.8198361  0.81402927 0.82060015\n",
            " 0.81464053 0.84214645 0.84718924 0.83557559 0.8533017  0.86858278\n",
            " 0.89028187 0.89501902 0.89486618 0.88355821 0.87652887 0.88462789\n",
            " 0.8809604  0.85055111 0.84260493 0.83725652 0.81693272 0.79798416\n",
            " 0.81937769 0.81260377]\n",
            "1 day output [[0.80247283]]\n",
            "2 day input [0.72524626 0.70843704 0.72310691 0.72646872 0.73151151 0.73777673\n",
            " 0.73242832 0.7328868  0.72753838 0.72570468 0.76772764 0.79859542\n",
            " 0.79156614 0.81204278 0.82946319 0.83832618 0.84917579 0.85437137\n",
            " 0.84825891 0.87973795 0.85880284 0.84168805 0.83297784 0.81265397\n",
            " 0.80730563 0.81143152 0.8198361  0.81402927 0.82060015 0.81464053\n",
            " 0.84214645 0.84718924 0.83557559 0.8533017  0.86858278 0.89028187\n",
            " 0.89501902 0.89486618 0.88355821 0.87652887 0.88462789 0.8809604\n",
            " 0.85055111 0.84260493 0.83725652 0.81693272 0.79798416 0.81937769\n",
            " 0.81260377 0.80247283]\n",
            "2 day output [[0.793149]]\n",
            "3 day input [0.70843704 0.72310691 0.72646872 0.73151151 0.73777673 0.73242832\n",
            " 0.7328868  0.72753838 0.72570468 0.76772764 0.79859542 0.79156614\n",
            " 0.81204278 0.82946319 0.83832618 0.84917579 0.85437137 0.84825891\n",
            " 0.87973795 0.85880284 0.84168805 0.83297784 0.81265397 0.80730563\n",
            " 0.81143152 0.8198361  0.81402927 0.82060015 0.81464053 0.84214645\n",
            " 0.84718924 0.83557559 0.8533017  0.86858278 0.89028187 0.89501902\n",
            " 0.89486618 0.88355821 0.87652887 0.88462789 0.8809604  0.85055111\n",
            " 0.84260493 0.83725652 0.81693272 0.79798416 0.81937769 0.81260377\n",
            " 0.80247283 0.79314899]\n",
            "3 day output [[0.78603673]]\n",
            "4 day input [0.72310691 0.72646872 0.73151151 0.73777673 0.73242832 0.7328868\n",
            " 0.72753838 0.72570468 0.76772764 0.79859542 0.79156614 0.81204278\n",
            " 0.82946319 0.83832618 0.84917579 0.85437137 0.84825891 0.87973795\n",
            " 0.85880284 0.84168805 0.83297784 0.81265397 0.80730563 0.81143152\n",
            " 0.8198361  0.81402927 0.82060015 0.81464053 0.84214645 0.84718924\n",
            " 0.83557559 0.8533017  0.86858278 0.89028187 0.89501902 0.89486618\n",
            " 0.88355821 0.87652887 0.88462789 0.8809604  0.85055111 0.84260493\n",
            " 0.83725652 0.81693272 0.79798416 0.81937769 0.81260377 0.80247283\n",
            " 0.79314899 0.78603673]\n",
            "4 day output [[0.7802083]]\n",
            "5 day input [0.72646872 0.73151151 0.73777673 0.73242832 0.7328868  0.72753838\n",
            " 0.72570468 0.76772764 0.79859542 0.79156614 0.81204278 0.82946319\n",
            " 0.83832618 0.84917579 0.85437137 0.84825891 0.87973795 0.85880284\n",
            " 0.84168805 0.83297784 0.81265397 0.80730563 0.81143152 0.8198361\n",
            " 0.81402927 0.82060015 0.81464053 0.84214645 0.84718924 0.83557559\n",
            " 0.8533017  0.86858278 0.89028187 0.89501902 0.89486618 0.88355821\n",
            " 0.87652887 0.88462789 0.8809604  0.85055111 0.84260493 0.83725652\n",
            " 0.81693272 0.79798416 0.81937769 0.81260377 0.80247283 0.79314899\n",
            " 0.78603673 0.78020829]\n",
            "5 day output [[0.7751898]]\n",
            "6 day input [0.73151151 0.73777673 0.73242832 0.7328868  0.72753838 0.72570468\n",
            " 0.76772764 0.79859542 0.79156614 0.81204278 0.82946319 0.83832618\n",
            " 0.84917579 0.85437137 0.84825891 0.87973795 0.85880284 0.84168805\n",
            " 0.83297784 0.81265397 0.80730563 0.81143152 0.8198361  0.81402927\n",
            " 0.82060015 0.81464053 0.84214645 0.84718924 0.83557559 0.8533017\n",
            " 0.86858278 0.89028187 0.89501902 0.89486618 0.88355821 0.87652887\n",
            " 0.88462789 0.8809604  0.85055111 0.84260493 0.83725652 0.81693272\n",
            " 0.79798416 0.81937769 0.81260377 0.80247283 0.79314899 0.78603673\n",
            " 0.78020829 0.77518982]\n",
            "6 day output [[0.7707409]]\n",
            "7 day input [0.73777673 0.73242832 0.7328868  0.72753838 0.72570468 0.76772764\n",
            " 0.79859542 0.79156614 0.81204278 0.82946319 0.83832618 0.84917579\n",
            " 0.85437137 0.84825891 0.87973795 0.85880284 0.84168805 0.83297784\n",
            " 0.81265397 0.80730563 0.81143152 0.8198361  0.81402927 0.82060015\n",
            " 0.81464053 0.84214645 0.84718924 0.83557559 0.8533017  0.86858278\n",
            " 0.89028187 0.89501902 0.89486618 0.88355821 0.87652887 0.88462789\n",
            " 0.8809604  0.85055111 0.84260493 0.83725652 0.81693272 0.79798416\n",
            " 0.81937769 0.81260377 0.80247283 0.79314899 0.78603673 0.78020829\n",
            " 0.77518982 0.77074093]\n",
            "7 day output [[0.7667001]]\n",
            "8 day input [0.73242832 0.7328868  0.72753838 0.72570468 0.76772764 0.79859542\n",
            " 0.79156614 0.81204278 0.82946319 0.83832618 0.84917579 0.85437137\n",
            " 0.84825891 0.87973795 0.85880284 0.84168805 0.83297784 0.81265397\n",
            " 0.80730563 0.81143152 0.8198361  0.81402927 0.82060015 0.81464053\n",
            " 0.84214645 0.84718924 0.83557559 0.8533017  0.86858278 0.89028187\n",
            " 0.89501902 0.89486618 0.88355821 0.87652887 0.88462789 0.8809604\n",
            " 0.85055111 0.84260493 0.83725652 0.81693272 0.79798416 0.81937769\n",
            " 0.81260377 0.80247283 0.79314899 0.78603673 0.78020829 0.77518982\n",
            " 0.77074093 0.76670009]\n",
            "8 day output [[0.76294374]]\n",
            "9 day input [0.7328868  0.72753838 0.72570468 0.76772764 0.79859542 0.79156614\n",
            " 0.81204278 0.82946319 0.83832618 0.84917579 0.85437137 0.84825891\n",
            " 0.87973795 0.85880284 0.84168805 0.83297784 0.81265397 0.80730563\n",
            " 0.81143152 0.8198361  0.81402927 0.82060015 0.81464053 0.84214645\n",
            " 0.84718924 0.83557559 0.8533017  0.86858278 0.89028187 0.89501902\n",
            " 0.89486618 0.88355821 0.87652887 0.88462789 0.8809604  0.85055111\n",
            " 0.84260493 0.83725652 0.81693272 0.79798416 0.81937769 0.81260377\n",
            " 0.80247283 0.79314899 0.78603673 0.78020829 0.77518982 0.77074093\n",
            " 0.76670009 0.76294374]\n",
            "9 day output [[0.75938344]]\n",
            "10 day input [0.72753838 0.72570468 0.76772764 0.79859542 0.79156614 0.81204278\n",
            " 0.82946319 0.83832618 0.84917579 0.85437137 0.84825891 0.87973795\n",
            " 0.85880284 0.84168805 0.83297784 0.81265397 0.80730563 0.81143152\n",
            " 0.8198361  0.81402927 0.82060015 0.81464053 0.84214645 0.84718924\n",
            " 0.83557559 0.8533017  0.86858278 0.89028187 0.89501902 0.89486618\n",
            " 0.88355821 0.87652887 0.88462789 0.8809604  0.85055111 0.84260493\n",
            " 0.83725652 0.81693272 0.79798416 0.81937769 0.81260377 0.80247283\n",
            " 0.79314899 0.78603673 0.78020829 0.77518982 0.77074093 0.76670009\n",
            " 0.76294374 0.75938344]\n",
            "10 day output [[0.7559615]]\n",
            "11 day input [0.72570468 0.76772764 0.79859542 0.79156614 0.81204278 0.82946319\n",
            " 0.83832618 0.84917579 0.85437137 0.84825891 0.87973795 0.85880284\n",
            " 0.84168805 0.83297784 0.81265397 0.80730563 0.81143152 0.8198361\n",
            " 0.81402927 0.82060015 0.81464053 0.84214645 0.84718924 0.83557559\n",
            " 0.8533017  0.86858278 0.89028187 0.89501902 0.89486618 0.88355821\n",
            " 0.87652887 0.88462789 0.8809604  0.85055111 0.84260493 0.83725652\n",
            " 0.81693272 0.79798416 0.81937769 0.81260377 0.80247283 0.79314899\n",
            " 0.78603673 0.78020829 0.77518982 0.77074093 0.76670009 0.76294374\n",
            " 0.75938344 0.75596148]\n",
            "11 day output [[0.75264496]]\n",
            "12 day input [0.76772764 0.79859542 0.79156614 0.81204278 0.82946319 0.83832618\n",
            " 0.84917579 0.85437137 0.84825891 0.87973795 0.85880284 0.84168805\n",
            " 0.83297784 0.81265397 0.80730563 0.81143152 0.8198361  0.81402927\n",
            " 0.82060015 0.81464053 0.84214645 0.84718924 0.83557559 0.8533017\n",
            " 0.86858278 0.89028187 0.89501902 0.89486618 0.88355821 0.87652887\n",
            " 0.88462789 0.8809604  0.85055111 0.84260493 0.83725652 0.81693272\n",
            " 0.79798416 0.81937769 0.81260377 0.80247283 0.79314899 0.78603673\n",
            " 0.78020829 0.77518982 0.77074093 0.76670009 0.76294374 0.75938344\n",
            " 0.75596148 0.75264496]\n",
            "12 day output [[0.7494141]]\n",
            "13 day input [0.79859542 0.79156614 0.81204278 0.82946319 0.83832618 0.84917579\n",
            " 0.85437137 0.84825891 0.87973795 0.85880284 0.84168805 0.83297784\n",
            " 0.81265397 0.80730563 0.81143152 0.8198361  0.81402927 0.82060015\n",
            " 0.81464053 0.84214645 0.84718924 0.83557559 0.8533017  0.86858278\n",
            " 0.89028187 0.89501902 0.89486618 0.88355821 0.87652887 0.88462789\n",
            " 0.8809604  0.85055111 0.84260493 0.83725652 0.81693272 0.79798416\n",
            " 0.81937769 0.81260377 0.80247283 0.79314899 0.78603673 0.78020829\n",
            " 0.77518982 0.77074093 0.76670009 0.76294374 0.75938344 0.75596148\n",
            " 0.75264496 0.74941409]\n",
            "13 day output [[0.7462581]]\n",
            "14 day input [0.79156614 0.81204278 0.82946319 0.83832618 0.84917579 0.85437137\n",
            " 0.84825891 0.87973795 0.85880284 0.84168805 0.83297784 0.81265397\n",
            " 0.80730563 0.81143152 0.8198361  0.81402927 0.82060015 0.81464053\n",
            " 0.84214645 0.84718924 0.83557559 0.8533017  0.86858278 0.89028187\n",
            " 0.89501902 0.89486618 0.88355821 0.87652887 0.88462789 0.8809604\n",
            " 0.85055111 0.84260493 0.83725652 0.81693272 0.79798416 0.81937769\n",
            " 0.81260377 0.80247283 0.79314899 0.78603673 0.78020829 0.77518982\n",
            " 0.77074093 0.76670009 0.76294374 0.75938344 0.75596148 0.75264496\n",
            " 0.74941409 0.74625808]\n",
            "14 day output [[0.7431702]]\n",
            "15 day input [0.81204278 0.82946319 0.83832618 0.84917579 0.85437137 0.84825891\n",
            " 0.87973795 0.85880284 0.84168805 0.83297784 0.81265397 0.80730563\n",
            " 0.81143152 0.8198361  0.81402927 0.82060015 0.81464053 0.84214645\n",
            " 0.84718924 0.83557559 0.8533017  0.86858278 0.89028187 0.89501902\n",
            " 0.89486618 0.88355821 0.87652887 0.88462789 0.8809604  0.85055111\n",
            " 0.84260493 0.83725652 0.81693272 0.79798416 0.81937769 0.81260377\n",
            " 0.80247283 0.79314899 0.78603673 0.78020829 0.77518982 0.77074093\n",
            " 0.76670009 0.76294374 0.75938344 0.75596148 0.75264496 0.74941409\n",
            " 0.74625808 0.7431702 ]\n",
            "15 day output [[0.7401458]]\n",
            "16 day input [0.82946319 0.83832618 0.84917579 0.85437137 0.84825891 0.87973795\n",
            " 0.85880284 0.84168805 0.83297784 0.81265397 0.80730563 0.81143152\n",
            " 0.8198361  0.81402927 0.82060015 0.81464053 0.84214645 0.84718924\n",
            " 0.83557559 0.8533017  0.86858278 0.89028187 0.89501902 0.89486618\n",
            " 0.88355821 0.87652887 0.88462789 0.8809604  0.85055111 0.84260493\n",
            " 0.83725652 0.81693272 0.79798416 0.81937769 0.81260377 0.80247283\n",
            " 0.79314899 0.78603673 0.78020829 0.77518982 0.77074093 0.76670009\n",
            " 0.76294374 0.75938344 0.75596148 0.75264496 0.74941409 0.74625808\n",
            " 0.7431702  0.7401458 ]\n",
            "16 day output [[0.7371808]]\n",
            "17 day input [0.83832618 0.84917579 0.85437137 0.84825891 0.87973795 0.85880284\n",
            " 0.84168805 0.83297784 0.81265397 0.80730563 0.81143152 0.8198361\n",
            " 0.81402927 0.82060015 0.81464053 0.84214645 0.84718924 0.83557559\n",
            " 0.8533017  0.86858278 0.89028187 0.89501902 0.89486618 0.88355821\n",
            " 0.87652887 0.88462789 0.8809604  0.85055111 0.84260493 0.83725652\n",
            " 0.81693272 0.79798416 0.81937769 0.81260377 0.80247283 0.79314899\n",
            " 0.78603673 0.78020829 0.77518982 0.77074093 0.76670009 0.76294374\n",
            " 0.75938344 0.75596148 0.75264496 0.74941409 0.74625808 0.7431702\n",
            " 0.7401458  0.73718083]\n",
            "17 day output [[0.734272]]\n",
            "18 day input [0.84917579 0.85437137 0.84825891 0.87973795 0.85880284 0.84168805\n",
            " 0.83297784 0.81265397 0.80730563 0.81143152 0.8198361  0.81402927\n",
            " 0.82060015 0.81464053 0.84214645 0.84718924 0.83557559 0.8533017\n",
            " 0.86858278 0.89028187 0.89501902 0.89486618 0.88355821 0.87652887\n",
            " 0.88462789 0.8809604  0.85055111 0.84260493 0.83725652 0.81693272\n",
            " 0.79798416 0.81937769 0.81260377 0.80247283 0.79314899 0.78603673\n",
            " 0.78020829 0.77518982 0.77074093 0.76670009 0.76294374 0.75938344\n",
            " 0.75596148 0.75264496 0.74941409 0.74625808 0.7431702  0.7401458\n",
            " 0.73718083 0.734272  ]\n",
            "18 day output [[0.7314162]]\n",
            "19 day input [0.85437137 0.84825891 0.87973795 0.85880284 0.84168805 0.83297784\n",
            " 0.81265397 0.80730563 0.81143152 0.8198361  0.81402927 0.82060015\n",
            " 0.81464053 0.84214645 0.84718924 0.83557559 0.8533017  0.86858278\n",
            " 0.89028187 0.89501902 0.89486618 0.88355821 0.87652887 0.88462789\n",
            " 0.8809604  0.85055111 0.84260493 0.83725652 0.81693272 0.79798416\n",
            " 0.81937769 0.81260377 0.80247283 0.79314899 0.78603673 0.78020829\n",
            " 0.77518982 0.77074093 0.76670009 0.76294374 0.75938344 0.75596148\n",
            " 0.75264496 0.74941409 0.74625808 0.7431702  0.7401458  0.73718083\n",
            " 0.734272   0.73141623]\n",
            "19 day output [[0.7286104]]\n",
            "20 day input [0.84825891 0.87973795 0.85880284 0.84168805 0.83297784 0.81265397\n",
            " 0.80730563 0.81143152 0.8198361  0.81402927 0.82060015 0.81464053\n",
            " 0.84214645 0.84718924 0.83557559 0.8533017  0.86858278 0.89028187\n",
            " 0.89501902 0.89486618 0.88355821 0.87652887 0.88462789 0.8809604\n",
            " 0.85055111 0.84260493 0.83725652 0.81693272 0.79798416 0.81937769\n",
            " 0.81260377 0.80247283 0.79314899 0.78603673 0.78020829 0.77518982\n",
            " 0.77074093 0.76670009 0.76294374 0.75938344 0.75596148 0.75264496\n",
            " 0.74941409 0.74625808 0.7431702  0.7401458  0.73718083 0.734272\n",
            " 0.73141623 0.7286104 ]\n",
            "20 day output [[0.725853]]\n",
            "21 day input [0.87973795 0.85880284 0.84168805 0.83297784 0.81265397 0.80730563\n",
            " 0.81143152 0.8198361  0.81402927 0.82060015 0.81464053 0.84214645\n",
            " 0.84718924 0.83557559 0.8533017  0.86858278 0.89028187 0.89501902\n",
            " 0.89486618 0.88355821 0.87652887 0.88462789 0.8809604  0.85055111\n",
            " 0.84260493 0.83725652 0.81693272 0.79798416 0.81937769 0.81260377\n",
            " 0.80247283 0.79314899 0.78603673 0.78020829 0.77518982 0.77074093\n",
            " 0.76670009 0.76294374 0.75938344 0.75596148 0.75264496 0.74941409\n",
            " 0.74625808 0.7431702  0.7401458  0.73718083 0.734272   0.73141623\n",
            " 0.7286104  0.72585303]\n",
            "21 day output [[0.7231425]]\n",
            "22 day input [0.85880284 0.84168805 0.83297784 0.81265397 0.80730563 0.81143152\n",
            " 0.8198361  0.81402927 0.82060015 0.81464053 0.84214645 0.84718924\n",
            " 0.83557559 0.8533017  0.86858278 0.89028187 0.89501902 0.89486618\n",
            " 0.88355821 0.87652887 0.88462789 0.8809604  0.85055111 0.84260493\n",
            " 0.83725652 0.81693272 0.79798416 0.81937769 0.81260377 0.80247283\n",
            " 0.79314899 0.78603673 0.78020829 0.77518982 0.77074093 0.76670009\n",
            " 0.76294374 0.75938344 0.75596148 0.75264496 0.74941409 0.74625808\n",
            " 0.7431702  0.7401458  0.73718083 0.734272   0.73141623 0.7286104\n",
            " 0.72585303 0.7231425 ]\n",
            "22 day output [[0.72047794]]\n",
            "23 day input [0.84168805 0.83297784 0.81265397 0.80730563 0.81143152 0.8198361\n",
            " 0.81402927 0.82060015 0.81464053 0.84214645 0.84718924 0.83557559\n",
            " 0.8533017  0.86858278 0.89028187 0.89501902 0.89486618 0.88355821\n",
            " 0.87652887 0.88462789 0.8809604  0.85055111 0.84260493 0.83725652\n",
            " 0.81693272 0.79798416 0.81937769 0.81260377 0.80247283 0.79314899\n",
            " 0.78603673 0.78020829 0.77518982 0.77074093 0.76670009 0.76294374\n",
            " 0.75938344 0.75596148 0.75264496 0.74941409 0.74625808 0.7431702\n",
            " 0.7401458  0.73718083 0.734272   0.73141623 0.7286104  0.72585303\n",
            " 0.7231425  0.72047794]\n",
            "23 day output [[0.7178596]]\n",
            "24 day input [0.83297784 0.81265397 0.80730563 0.81143152 0.8198361  0.81402927\n",
            " 0.82060015 0.81464053 0.84214645 0.84718924 0.83557559 0.8533017\n",
            " 0.86858278 0.89028187 0.89501902 0.89486618 0.88355821 0.87652887\n",
            " 0.88462789 0.8809604  0.85055111 0.84260493 0.83725652 0.81693272\n",
            " 0.79798416 0.81937769 0.81260377 0.80247283 0.79314899 0.78603673\n",
            " 0.78020829 0.77518982 0.77074093 0.76670009 0.76294374 0.75938344\n",
            " 0.75596148 0.75264496 0.74941409 0.74625808 0.7431702  0.7401458\n",
            " 0.73718083 0.734272   0.73141623 0.7286104  0.72585303 0.7231425\n",
            " 0.72047794 0.71785963]\n",
            "24 day output [[0.71528673]]\n",
            "25 day input [0.81265397 0.80730563 0.81143152 0.8198361  0.81402927 0.82060015\n",
            " 0.81464053 0.84214645 0.84718924 0.83557559 0.8533017  0.86858278\n",
            " 0.89028187 0.89501902 0.89486618 0.88355821 0.87652887 0.88462789\n",
            " 0.8809604  0.85055111 0.84260493 0.83725652 0.81693272 0.79798416\n",
            " 0.81937769 0.81260377 0.80247283 0.79314899 0.78603673 0.78020829\n",
            " 0.77518982 0.77074093 0.76670009 0.76294374 0.75938344 0.75596148\n",
            " 0.75264496 0.74941409 0.74625808 0.7431702  0.7401458  0.73718083\n",
            " 0.734272   0.73141623 0.7286104  0.72585303 0.7231425  0.72047794\n",
            " 0.71785963 0.71528673]\n",
            "25 day output [[0.7127598]]\n",
            "26 day input [0.80730563 0.81143152 0.8198361  0.81402927 0.82060015 0.81464053\n",
            " 0.84214645 0.84718924 0.83557559 0.8533017  0.86858278 0.89028187\n",
            " 0.89501902 0.89486618 0.88355821 0.87652887 0.88462789 0.8809604\n",
            " 0.85055111 0.84260493 0.83725652 0.81693272 0.79798416 0.81937769\n",
            " 0.81260377 0.80247283 0.79314899 0.78603673 0.78020829 0.77518982\n",
            " 0.77074093 0.76670009 0.76294374 0.75938344 0.75596148 0.75264496\n",
            " 0.74941409 0.74625808 0.7431702  0.7401458  0.73718083 0.734272\n",
            " 0.73141623 0.7286104  0.72585303 0.7231425  0.72047794 0.71785963\n",
            " 0.71528673 0.71275979]\n",
            "26 day output [[0.7102787]]\n",
            "27 day input [0.81143152 0.8198361  0.81402927 0.82060015 0.81464053 0.84214645\n",
            " 0.84718924 0.83557559 0.8533017  0.86858278 0.89028187 0.89501902\n",
            " 0.89486618 0.88355821 0.87652887 0.88462789 0.8809604  0.85055111\n",
            " 0.84260493 0.83725652 0.81693272 0.79798416 0.81937769 0.81260377\n",
            " 0.80247283 0.79314899 0.78603673 0.78020829 0.77518982 0.77074093\n",
            " 0.76670009 0.76294374 0.75938344 0.75596148 0.75264496 0.74941409\n",
            " 0.74625808 0.7431702  0.7401458  0.73718083 0.734272   0.73141623\n",
            " 0.7286104  0.72585303 0.7231425  0.72047794 0.71785963 0.71528673\n",
            " 0.71275979 0.71027869]\n",
            "27 day output [[0.70784366]]\n",
            "28 day input [0.8198361  0.81402927 0.82060015 0.81464053 0.84214645 0.84718924\n",
            " 0.83557559 0.8533017  0.86858278 0.89028187 0.89501902 0.89486618\n",
            " 0.88355821 0.87652887 0.88462789 0.8809604  0.85055111 0.84260493\n",
            " 0.83725652 0.81693272 0.79798416 0.81937769 0.81260377 0.80247283\n",
            " 0.79314899 0.78603673 0.78020829 0.77518982 0.77074093 0.76670009\n",
            " 0.76294374 0.75938344 0.75596148 0.75264496 0.74941409 0.74625808\n",
            " 0.7431702  0.7401458  0.73718083 0.734272   0.73141623 0.7286104\n",
            " 0.72585303 0.7231425  0.72047794 0.71785963 0.71528673 0.71275979\n",
            " 0.71027869 0.70784366]\n",
            "28 day output [[0.7054537]]\n",
            "29 day input [0.81402927 0.82060015 0.81464053 0.84214645 0.84718924 0.83557559\n",
            " 0.8533017  0.86858278 0.89028187 0.89501902 0.89486618 0.88355821\n",
            " 0.87652887 0.88462789 0.8809604  0.85055111 0.84260493 0.83725652\n",
            " 0.81693272 0.79798416 0.81937769 0.81260377 0.80247283 0.79314899\n",
            " 0.78603673 0.78020829 0.77518982 0.77074093 0.76670009 0.76294374\n",
            " 0.75938344 0.75596148 0.75264496 0.74941409 0.74625808 0.7431702\n",
            " 0.7401458  0.73718083 0.734272   0.73141623 0.7286104  0.72585303\n",
            " 0.7231425  0.72047794 0.71785963 0.71528673 0.71275979 0.71027869\n",
            " 0.70784366 0.70545369]\n",
            "29 day output [[0.7031084]]\n",
            "[[0.812603771686554], [0.8024728298187256], [0.7931489944458008], [0.7860367298126221], [0.7802082896232605], [0.7751898169517517], [0.7707409262657166], [0.7667000889778137], [0.7629437446594238], [0.7593834400177002], [0.7559614777565002], [0.752644956111908], [0.7494140863418579], [0.7462580800056458], [0.7431702017784119], [0.7401458024978638], [0.7371808290481567], [0.7342720031738281], [0.7314162254333496], [0.7286103963851929], [0.7258530259132385], [0.7231425046920776], [0.7204779386520386], [0.7178596258163452], [0.7152867317199707], [0.712759792804718], [0.7102786898612976], [0.7078436613082886], [0.7054536938667297], [0.7031083703041077]]\n"
          ]
        }
      ],
      "source": [
        "# demonstrate prediction for next 10 days\n",
        "from numpy import array\n",
        "\n",
        "lst_output=[]\n",
        "n_steps=50\n",
        "i=0\n",
        "while(i<30):\n",
        "    \n",
        "    if(len(temp_input)>50):\n",
        "        #print(temp_input)\n",
        "        x_input=np.array(temp_input[1:])\n",
        "        print(\"{} day input {}\".format(i,x_input))\n",
        "        x_input=x_input.reshape(1,-1)\n",
        "        x_input = x_input.reshape((1, n_steps, 1))\n",
        "        #print(x_input)\n",
        "        yhat = model.predict(x_input, verbose=0)\n",
        "        print(\"{} day output {}\".format(i,yhat))\n",
        "        temp_input.extend(yhat[0].tolist())\n",
        "        temp_input=temp_input[1:]\n",
        "        #print(temp_input)\n",
        "        lst_output.extend(yhat.tolist())\n",
        "        i=i+1\n",
        "    else:\n",
        "        x_input = x_input.reshape((1, n_steps,1))\n",
        "        yhat = model.predict(x_input, verbose=0)\n",
        "        print(yhat[0])\n",
        "        temp_input.extend(yhat[0].tolist())\n",
        "        print(len(temp_input))\n",
        "        lst_output.extend(yhat.tolist())\n",
        "        i=i+1\n",
        "    \n",
        "\n",
        "print(lst_output)"
      ],
      "id": "0c35b621"
    },
    {
      "cell_type": "code",
      "execution_count": null,
      "metadata": {
        "id": "13cd7174"
      },
      "outputs": [],
      "source": [
        "day_new=np.arange(1,51)\n",
        "day_pred=np.arange(51,81)"
      ],
      "id": "13cd7174"
    },
    {
      "cell_type": "code",
      "execution_count": null,
      "metadata": {
        "id": "09305898"
      },
      "outputs": [],
      "source": [
        "import matplotlib.pyplot as plt"
      ],
      "id": "09305898"
    },
    {
      "cell_type": "code",
      "execution_count": null,
      "metadata": {
        "id": "3fe22e3e",
        "outputId": "e0e45d94-e302-41b4-fc81-03c09a7c9e4a",
        "colab": {
          "base_uri": "https://localhost:8080/"
        }
      },
      "outputs": [
        {
          "output_type": "execute_result",
          "data": {
            "text/plain": [
              "12544"
            ]
          },
          "metadata": {},
          "execution_count": 83
        }
      ],
      "source": [
        "len(df1)"
      ],
      "id": "3fe22e3e"
    },
    {
      "cell_type": "code",
      "execution_count": null,
      "metadata": {
        "id": "03284fd9",
        "outputId": "4f41b9b4-3f7f-40ec-e236-3a1a0c257c6a",
        "colab": {
          "base_uri": "https://localhost:8080/",
          "height": 282
        }
      },
      "outputs": [
        {
          "output_type": "execute_result",
          "data": {
            "text/plain": [
              "[<matplotlib.lines.Line2D at 0x7f1ad8060510>]"
            ]
          },
          "metadata": {},
          "execution_count": 84
        },
        {
          "output_type": "display_data",
          "data": {
            "image/png": "[encoded data removed]",
            "text/plain": [
              "<Figure size 432x288 with 1 Axes>"
            ]
          },
          "metadata": {
            "needs_background": "light"
          }
        }
      ],
      "source": [
        "plt.plot(day_new,scaler.inverse_transform(df1[12494:]))\n",
        "plt.plot(day_pred,scaler.inverse_transform(lst_output))"
      ],
      "id": "03284fd9"
    },
    {
      "cell_type": "code",
      "execution_count": null,
      "metadata": {
        "id": "4cda76b2",
        "outputId": "e3fdddff-a44f-4e58-ae22-e5650bd47dcd",
        "colab": {
          "base_uri": "https://localhost:8080/",
          "height": 282
        }
      },
      "outputs": [
        {
          "output_type": "execute_result",
          "data": {
            "text/plain": [
              "[<matplotlib.lines.Line2D at 0x7f1ada903bd0>]"
            ]
          },
          "metadata": {},
          "execution_count": 85
        },
        {
          "output_type": "display_data",
          "data": {
            "image/png": "[encoded data removed]",
            "text/plain": [
              "<Figure size 432x288 with 1 Axes>"
            ]
          },
          "metadata": {
            "needs_background": "light"
          }
        }
      ],
      "source": [
        "df3=df1.tolist()\n",
        "df3.extend(lst_output)\n",
        "plt.plot(df3[1200:])"
      ],
      "id": "4cda76b2"
    },
    {
      "cell_type": "code",
      "execution_count": null,
      "metadata": {
        "id": "fcec56ba"
      },
      "outputs": [],
      "source": [
        ""
      ],
      "id": "fcec56ba"
    }
  ],
  "metadata": {
    "colab": {
      "name": "WFC-Price-Forecast.ipynb",
      "provenance": [],
      "collapsed_sections": []
    },
    "kernelspec": {
      "display_name": "Python 3",
      "language": "python",
      "name": "python3"
    },
    "language_info": {
      "codemirror_mode": {
        "name": "ipython",
        "version": 3
      },
      "file_extension": ".py",
      "mimetype": "text/x-python",
      "name": "python",
      "nbconvert_exporter": "python",
      "pygments_lexer": "ipython3",
      "version": "3.8.8"
    }
  },
  "nbformat": 4,
  "nbformat_minor": 5
}