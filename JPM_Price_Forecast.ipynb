{
  "cells": [
    {
      "cell_type": "code",
      "execution_count": null,
      "metadata": {
        "id": "05f01c40"
      },
      "outputs": [],
      "source": [
        "import pandas as pd\n",
        "import pandas as pd\n",
        "import numpy as np\n",
        "import keras\n",
        "import tensorflow as tf\n",
        "from keras.preprocessing.sequence import TimeseriesGenerator\n",
        "df = pd.read_csv(\"JPM.csv\") "
      ],
      "id": "05f01c40"
    },
    {
      "cell_type": "code",
      "execution_count": null,
      "metadata": {
        "id": "7cfcdc60"
      },
      "outputs": [],
      "source": [
        "df.dropna(inplace=True)"
      ],
      "id": "7cfcdc60"
    },
    {
      "cell_type": "code",
      "execution_count": null,
      "metadata": {
        "id": "7ed91aa2"
      },
      "outputs": [],
      "source": [
        "df1=df.reset_index()['Close']"
      ],
      "id": "7ed91aa2"
    },
    {
      "cell_type": "code",
      "execution_count": null,
      "metadata": {
        "colab": {
          "base_uri": "https://localhost:8080/",
          "height": 282
        },
        "id": "ec40048e",
        "outputId": "17d4c946-b842-446a-ca28-ececf9e75360"
      },
      "outputs": [
        {
          "data": {
            "text/plain": [
              "[<matplotlib.lines.Line2D at 0x7fa2abbc0d90>]"
            ]
          },
          "execution_count": 4,
          "metadata": {},
          "output_type": "execute_result"
        },
        {
          "data": {
            "image/png": "[encoded data removed]",
            "text/plain": [
              "<Figure size 432x288 with 1 Axes>"
            ]
          },
          "metadata": {},
          "output_type": "display_data"
        }
      ],
      "source": [
        "import matplotlib.pyplot as plt\n",
        "plt.plot(df1)"
      ],
      "id": "ec40048e"
    },
    {
      "cell_type": "code",
      "execution_count": null,
      "metadata": {
        "id": "dbbe204c"
      },
      "outputs": [],
      "source": [
        "import numpy as np"
      ],
      "id": "dbbe204c"
    },
    {
      "cell_type": "code",
      "execution_count": null,
      "metadata": {
        "id": "93c0cb4e"
      },
      "outputs": [],
      "source": [
        "from sklearn.preprocessing import MinMaxScaler\n",
        "scaler=MinMaxScaler(feature_range=(0,1))\n",
        "df1=scaler.fit_transform(np.array(df1).reshape(-1,1))"
      ],
      "id": "93c0cb4e"
    },
    {
      "cell_type": "code",
      "execution_count": null,
      "metadata": {
        "id": "38ee7c31"
      },
      "outputs": [],
      "source": [
        "training_size=int(len(df1)*0.65)\n",
        "test_size=len(df1)-training_size\n",
        "train_data,test_data=df1[0:training_size,:],df1[training_size:len(df1),:1]"
      ],
      "id": "38ee7c31"
    },
    {
      "cell_type": "code",
      "execution_count": null,
      "metadata": {
        "colab": {
          "base_uri": "https://localhost:8080/"
        },
        "id": "94fe8b6a",
        "outputId": "47cdd690-d190-4df6-f091-99b76a90a122"
      },
      "outputs": [
        {
          "data": {
            "text/plain": [
              "(6875, 3703)"
            ]
          },
          "execution_count": 8,
          "metadata": {},
          "output_type": "execute_result"
        }
      ],
      "source": [
        "training_size,test_size"
      ],
      "id": "94fe8b6a"
    },
    {
      "cell_type": "code",
      "execution_count": null,
      "metadata": {
        "colab": {
          "base_uri": "https://localhost:8080/"
        },
        "id": "bcfb12fb",
        "outputId": "43f9120c-cc82-4322-f722-534e5a7b7747"
      },
      "outputs": [
        {
          "data": {
            "text/plain": [
              "array([[0.00986929],\n",
              "       [0.01008921],\n",
              "       [0.01052907],\n",
              "       ...,\n",
              "       [0.2794157 ],\n",
              "       [0.27300257],\n",
              "       [0.27858437]])"
            ]
          },
          "execution_count": 9,
          "metadata": {},
          "output_type": "execute_result"
        }
      ],
      "source": [
        "train_data"
      ],
      "id": "bcfb12fb"
    },
    {
      "cell_type": "code",
      "execution_count": null,
      "metadata": {
        "id": "7b70d6d7"
      },
      "outputs": [],
      "source": [
        "import numpy\n",
        "# convert an array of values into a dataset matrix\n",
        "def create_dataset(dataset, time_step=1):\n",
        "\tdataX, dataY = [], []\n",
        "\tfor i in range(len(dataset)-time_step-1):\n",
        "\t\ta = dataset[i:(i+time_step), 0]   ###i=0, 0,1,2,3-----99   100 \n",
        "\t\tdataX.append(a)\n",
        "\t\tdataY.append(dataset[i + time_step, 0])\n",
        "\treturn numpy.array(dataX), numpy.array(dataY)"
      ],
      "id": "7b70d6d7"
    },
    {
      "cell_type": "code",
      "execution_count": null,
      "metadata": {
        "id": "cf0af60c"
      },
      "outputs": [],
      "source": [
        "# reshape into X=t,t+1,t+2,t+3 and Y=t+4\n",
        "time_step = 50\n",
        "X_train, y_train = create_dataset(train_data, time_step)\n",
        "X_test, ytest = create_dataset(test_data, time_step)"
      ],
      "id": "cf0af60c"
    },
    {
      "cell_type": "code",
      "execution_count": null,
      "metadata": {
        "colab": {
          "base_uri": "https://localhost:8080/"
        },
        "id": "1b937a04",
        "outputId": "c5f6adc0-5588-4655-87b0-c8f4728836cf"
      },
      "outputs": [
        {
          "name": "stdout",
          "output_type": "stream",
          "text": [
            "(6824, 50)\n",
            "(6824,)\n"
          ]
        },
        {
          "data": {
            "text/plain": [
              "(None, None)"
            ]
          },
          "execution_count": 12,
          "metadata": {},
          "output_type": "execute_result"
        }
      ],
      "source": [
        "print(X_train.shape), print(y_train.shape)"
      ],
      "id": "1b937a04"
    },
    {
      "cell_type": "code",
      "execution_count": null,
      "metadata": {
        "colab": {
          "base_uri": "https://localhost:8080/"
        },
        "id": "63f4efe5",
        "outputId": "f868f75c-d2e7-493f-8934-db8a4cb4c7b6"
      },
      "outputs": [
        {
          "name": "stdout",
          "output_type": "stream",
          "text": [
            "(3652, 50)\n",
            "(3652,)\n"
          ]
        },
        {
          "data": {
            "text/plain": [
              "(None, None)"
            ]
          },
          "execution_count": 13,
          "metadata": {},
          "output_type": "execute_result"
        }
      ],
      "source": [
        "print(X_test.shape), print(ytest.shape)"
      ],
      "id": "63f4efe5"
    },
    {
      "cell_type": "code",
      "execution_count": null,
      "metadata": {
        "id": "78c723f6"
      },
      "outputs": [],
      "source": [
        "# reshape input to be [samples, time steps, features] which is required for LSTM\n",
        "X_train =X_train.reshape(X_train.shape[0],X_train.shape[1] , 1)\n",
        "X_test = X_test.reshape(X_test.shape[0],X_test.shape[1] , 1)"
      ],
      "id": "78c723f6"
    },
    {
      "cell_type": "code",
      "execution_count": null,
      "metadata": {
        "id": "63c448c3"
      },
      "outputs": [],
      "source": [
        "### Create the Stacked LSTM model\n",
        "from tensorflow.keras.models import Sequential\n",
        "from tensorflow.keras.layers import Dense\n",
        "from tensorflow.keras.layers import LSTM"
      ],
      "id": "63c448c3"
    },
    {
      "cell_type": "code",
      "execution_count": null,
      "metadata": {
        "id": "57833498"
      },
      "outputs": [],
      "source": [
        "model=Sequential()\n",
        "model.add(LSTM(50,return_sequences=True,input_shape=(50,1)))\n",
        "model.add(LSTM(50,return_sequences=True))\n",
        "model.add(LSTM(50,return_sequences=True))\n",
        "model.add(LSTM(50))\n",
        "model.add(Dense(1))\n",
        "model.compile(loss='mean_squared_error',optimizer='adam')\n"
      ],
      "id": "57833498"
    },
    {
      "cell_type": "code",
      "execution_count": null,
      "metadata": {
        "colab": {
          "base_uri": "https://localhost:8080/"
        },
        "id": "16f14d32",
        "outputId": "e62988eb-4241-445b-8f5f-739ad56ecb16"
      },
      "outputs": [
        {
          "name": "stdout",
          "output_type": "stream",
          "text": [
            "Model: \"sequential\"\n",
            "_________________________________________________________________\n",
            " Layer (type)                Output Shape              Param #   \n",
            "=================================================================\n",
            " lstm (LSTM)                 (None, 50, 50)            10400     \n",
            "                                                                 \n",
            " lstm_1 (LSTM)               (None, 50, 50)            20200     \n",
            "                                                                 \n",
            " lstm_2 (LSTM)               (None, 50, 50)            20200     \n",
            "                                                                 \n",
            " lstm_3 (LSTM)               (None, 50)                20200     \n",
            "                                                                 \n",
            " dense (Dense)               (None, 1)                 51        \n",
            "                                                                 \n",
            "=================================================================\n",
            "Total params: 71,051\n",
            "Trainable params: 71,051\n",
            "Non-trainable params: 0\n",
            "_________________________________________________________________\n"
          ]
        }
      ],
      "source": [
        "model.summary()"
      ],
      "id": "16f14d32"
    },
    {
      "cell_type": "code",
      "execution_count": null,
      "metadata": {
        "colab": {
          "base_uri": "https://localhost:8080/"
        },
        "id": "a4554b49",
        "outputId": "a5ff4b82-7a74-45e5-c624-8798f330fa5b"
      },
      "outputs": [
        {
          "name": "stdout",
          "output_type": "stream",
          "text": [
            "Epoch 1/100\n",
            "107/107 [==============================] - 22s 140ms/step - loss: 7.9649e-04 - val_loss: 0.0075\n",
            "Epoch 2/100\n",
            "107/107 [==============================] - 14s 127ms/step - loss: 1.3645e-04 - val_loss: 0.0070\n",
            "Epoch 3/100\n",
            "107/107 [==============================] - 14s 132ms/step - loss: 1.2159e-04 - val_loss: 0.0054\n",
            "Epoch 4/100\n",
            "107/107 [==============================] - 14s 127ms/step - loss: 1.0424e-04 - val_loss: 0.0034\n",
            "Epoch 5/100\n",
            "107/107 [==============================] - 14s 127ms/step - loss: 9.8208e-05 - val_loss: 0.0036\n",
            "Epoch 6/100\n",
            "107/107 [==============================] - 15s 138ms/step - loss: 9.1227e-05 - val_loss: 0.0073\n",
            "Epoch 7/100\n",
            "107/107 [==============================] - 14s 128ms/step - loss: 9.3554e-05 - val_loss: 0.0051\n",
            "Epoch 8/100\n",
            "107/107 [==============================] - 14s 128ms/step - loss: 7.6026e-05 - val_loss: 0.0035\n",
            "Epoch 9/100\n",
            "107/107 [==============================] - 14s 128ms/step - loss: 7.2688e-05 - val_loss: 0.0019\n",
            "Epoch 10/100\n",
            "107/107 [==============================] - 14s 129ms/step - loss: 6.5348e-05 - val_loss: 0.0023\n",
            "Epoch 11/100\n",
            "107/107 [==============================] - 17s 158ms/step - loss: 6.6779e-05 - val_loss: 0.0046\n",
            "Epoch 12/100\n",
            "107/107 [==============================] - 19s 176ms/step - loss: 5.6313e-05 - val_loss: 0.0019\n",
            "Epoch 13/100\n",
            "107/107 [==============================] - 14s 128ms/step - loss: 4.5908e-05 - val_loss: 0.0012\n",
            "Epoch 14/100\n",
            "107/107 [==============================] - 14s 128ms/step - loss: 4.9904e-05 - val_loss: 0.0018\n",
            "Epoch 15/100\n",
            "107/107 [==============================] - 14s 129ms/step - loss: 4.1996e-05 - val_loss: 0.0020\n",
            "Epoch 16/100\n",
            "107/107 [==============================] - 14s 128ms/step - loss: 3.9205e-05 - val_loss: 0.0022\n",
            "Epoch 17/100\n",
            "107/107 [==============================] - 14s 128ms/step - loss: 3.7201e-05 - val_loss: 0.0022\n",
            "Epoch 18/100\n",
            "107/107 [==============================] - 15s 138ms/step - loss: 3.1522e-05 - val_loss: 7.9242e-04\n",
            "Epoch 19/100\n",
            "107/107 [==============================] - 14s 128ms/step - loss: 2.8985e-05 - val_loss: 0.0013\n",
            "Epoch 20/100\n",
            "107/107 [==============================] - 14s 129ms/step - loss: 2.8404e-05 - val_loss: 0.0012\n",
            "Epoch 21/100\n",
            "107/107 [==============================] - 14s 129ms/step - loss: 3.4532e-05 - val_loss: 0.0017\n",
            "Epoch 22/100\n",
            "107/107 [==============================] - 14s 128ms/step - loss: 2.5867e-05 - val_loss: 0.0016\n",
            "Epoch 23/100\n",
            "107/107 [==============================] - 14s 127ms/step - loss: 2.2846e-05 - val_loss: 8.5128e-04\n",
            "Epoch 24/100\n",
            "107/107 [==============================] - 14s 128ms/step - loss: 2.4769e-05 - val_loss: 0.0023\n",
            "Epoch 25/100\n",
            "107/107 [==============================] - 14s 128ms/step - loss: 2.2298e-05 - val_loss: 0.0010\n",
            "Epoch 26/100\n",
            "107/107 [==============================] - 14s 127ms/step - loss: 2.3647e-05 - val_loss: 0.0012\n",
            "Epoch 27/100\n",
            "107/107 [==============================] - 14s 127ms/step - loss: 2.4017e-05 - val_loss: 7.0002e-04\n",
            "Epoch 28/100\n",
            "107/107 [==============================] - 14s 128ms/step - loss: 2.4697e-05 - val_loss: 0.0011\n",
            "Epoch 29/100\n",
            "107/107 [==============================] - 14s 128ms/step - loss: 2.2965e-05 - val_loss: 0.0013\n",
            "Epoch 30/100\n",
            "107/107 [==============================] - 14s 126ms/step - loss: 1.9535e-05 - val_loss: 0.0013\n",
            "Epoch 31/100\n",
            "107/107 [==============================] - 14s 129ms/step - loss: 1.7437e-05 - val_loss: 8.7810e-04\n",
            "Epoch 32/100\n",
            "107/107 [==============================] - 14s 129ms/step - loss: 1.9135e-05 - val_loss: 9.1401e-04\n",
            "Epoch 33/100\n",
            "107/107 [==============================] - 14s 129ms/step - loss: 1.7647e-05 - val_loss: 4.8503e-04\n",
            "Epoch 34/100\n",
            "107/107 [==============================] - 14s 128ms/step - loss: 1.9394e-05 - val_loss: 0.0010\n",
            "Epoch 35/100\n",
            "107/107 [==============================] - 14s 128ms/step - loss: 1.8715e-05 - val_loss: 7.4815e-04\n",
            "Epoch 36/100\n",
            "107/107 [==============================] - 14s 127ms/step - loss: 2.3704e-05 - val_loss: 0.0016\n",
            "Epoch 37/100\n",
            "107/107 [==============================] - 14s 127ms/step - loss: 1.8656e-05 - val_loss: 0.0011\n",
            "Epoch 38/100\n",
            "107/107 [==============================] - 14s 128ms/step - loss: 1.8314e-05 - val_loss: 0.0016\n",
            "Epoch 39/100\n",
            "107/107 [==============================] - 14s 127ms/step - loss: 1.7251e-05 - val_loss: 0.0014\n",
            "Epoch 40/100\n",
            "107/107 [==============================] - 14s 127ms/step - loss: 1.7991e-05 - val_loss: 7.1380e-04\n",
            "Epoch 41/100\n",
            "107/107 [==============================] - 14s 127ms/step - loss: 2.3207e-05 - val_loss: 9.8646e-04\n",
            "Epoch 42/100\n",
            "107/107 [==============================] - 14s 126ms/step - loss: 1.8774e-05 - val_loss: 0.0013\n",
            "Epoch 43/100\n",
            "107/107 [==============================] - 14s 127ms/step - loss: 1.8730e-05 - val_loss: 8.9833e-04\n",
            "Epoch 44/100\n",
            "107/107 [==============================] - 14s 128ms/step - loss: 1.5309e-05 - val_loss: 9.8779e-04\n",
            "Epoch 45/100\n",
            "107/107 [==============================] - 14s 127ms/step - loss: 1.6195e-05 - val_loss: 0.0010\n",
            "Epoch 46/100\n",
            "107/107 [==============================] - 14s 127ms/step - loss: 1.6736e-05 - val_loss: 0.0010\n",
            "Epoch 47/100\n",
            "107/107 [==============================] - 14s 127ms/step - loss: 1.5496e-05 - val_loss: 0.0010\n",
            "Epoch 48/100\n",
            "107/107 [==============================] - 14s 127ms/step - loss: 1.6900e-05 - val_loss: 0.0011\n",
            "Epoch 49/100\n",
            "107/107 [==============================] - 14s 129ms/step - loss: 1.6907e-05 - val_loss: 9.3991e-04\n",
            "Epoch 50/100\n",
            "107/107 [==============================] - 14s 130ms/step - loss: 1.7133e-05 - val_loss: 0.0010\n",
            "Epoch 51/100\n",
            "107/107 [==============================] - 14s 128ms/step - loss: 2.0025e-05 - val_loss: 6.9802e-04\n",
            "Epoch 52/100\n",
            "107/107 [==============================] - 14s 128ms/step - loss: 1.5662e-05 - val_loss: 5.4027e-04\n",
            "Epoch 53/100\n",
            "107/107 [==============================] - 14s 128ms/step - loss: 1.8682e-05 - val_loss: 0.0011\n",
            "Epoch 54/100\n",
            "107/107 [==============================] - 14s 128ms/step - loss: 1.7462e-05 - val_loss: 0.0011\n",
            "Epoch 55/100\n",
            "107/107 [==============================] - 14s 128ms/step - loss: 1.5891e-05 - val_loss: 0.0011\n",
            "Epoch 56/100\n",
            "107/107 [==============================] - 14s 128ms/step - loss: 1.5084e-05 - val_loss: 0.0013\n",
            "Epoch 57/100\n",
            "107/107 [==============================] - 14s 128ms/step - loss: 1.5963e-05 - val_loss: 9.4354e-04\n",
            "Epoch 58/100\n",
            "107/107 [==============================] - 14s 128ms/step - loss: 1.4450e-05 - val_loss: 7.4171e-04\n",
            "Epoch 59/100\n",
            "107/107 [==============================] - 14s 127ms/step - loss: 1.5324e-05 - val_loss: 0.0012\n",
            "Epoch 60/100\n",
            "107/107 [==============================] - 14s 127ms/step - loss: 1.7977e-05 - val_loss: 7.4738e-04\n",
            "Epoch 61/100\n",
            "107/107 [==============================] - 14s 129ms/step - loss: 1.9283e-05 - val_loss: 0.0014\n",
            "Epoch 62/100\n",
            "107/107 [==============================] - 14s 128ms/step - loss: 1.4926e-05 - val_loss: 0.0018\n",
            "Epoch 63/100\n",
            "107/107 [==============================] - 14s 128ms/step - loss: 1.7143e-05 - val_loss: 0.0014\n",
            "Epoch 64/100\n",
            "107/107 [==============================] - 14s 127ms/step - loss: 1.5911e-05 - val_loss: 0.0012\n",
            "Epoch 65/100\n",
            "107/107 [==============================] - 14s 128ms/step - loss: 1.5104e-05 - val_loss: 0.0011\n",
            "Epoch 66/100\n",
            "107/107 [==============================] - 14s 127ms/step - loss: 1.4672e-05 - val_loss: 0.0017\n",
            "Epoch 67/100\n",
            "107/107 [==============================] - 14s 129ms/step - loss: 1.6038e-05 - val_loss: 0.0015\n",
            "Epoch 68/100\n",
            "107/107 [==============================] - 14s 128ms/step - loss: 1.5272e-05 - val_loss: 0.0016\n",
            "Epoch 69/100\n",
            "107/107 [==============================] - 14s 129ms/step - loss: 1.5487e-05 - val_loss: 0.0014\n",
            "Epoch 70/100\n",
            "107/107 [==============================] - 14s 129ms/step - loss: 1.6727e-05 - val_loss: 0.0025\n",
            "Epoch 71/100\n",
            "107/107 [==============================] - 14s 128ms/step - loss: 1.6102e-05 - val_loss: 0.0017\n",
            "Epoch 72/100\n",
            "107/107 [==============================] - 14s 127ms/step - loss: 1.6742e-05 - val_loss: 0.0018\n",
            "Epoch 73/100\n",
            "107/107 [==============================] - 13s 126ms/step - loss: 1.5545e-05 - val_loss: 0.0016\n",
            "Epoch 74/100\n",
            "107/107 [==============================] - 14s 128ms/step - loss: 1.5952e-05 - val_loss: 0.0016\n",
            "Epoch 75/100\n",
            "107/107 [==============================] - 14s 129ms/step - loss: 1.4362e-05 - val_loss: 0.0019\n",
            "Epoch 76/100\n",
            "107/107 [==============================] - 14s 129ms/step - loss: 1.5813e-05 - val_loss: 0.0015\n",
            "Epoch 77/100\n",
            "107/107 [==============================] - 14s 130ms/step - loss: 1.4991e-05 - val_loss: 0.0019\n",
            "Epoch 78/100\n",
            "107/107 [==============================] - 14s 128ms/step - loss: 1.5736e-05 - val_loss: 0.0020\n",
            "Epoch 79/100\n",
            "107/107 [==============================] - 14s 129ms/step - loss: 1.6575e-05 - val_loss: 0.0024\n",
            "Epoch 80/100\n",
            "107/107 [==============================] - 14s 127ms/step - loss: 1.7123e-05 - val_loss: 0.0019\n",
            "Epoch 81/100\n",
            "107/107 [==============================] - 14s 127ms/step - loss: 1.6048e-05 - val_loss: 0.0023\n",
            "Epoch 82/100\n",
            "107/107 [==============================] - 14s 128ms/step - loss: 1.5170e-05 - val_loss: 0.0025\n",
            "Epoch 83/100\n",
            "107/107 [==============================] - 14s 128ms/step - loss: 1.5834e-05 - val_loss: 0.0024\n",
            "Epoch 84/100\n",
            "107/107 [==============================] - 14s 128ms/step - loss: 1.4556e-05 - val_loss: 0.0020\n",
            "Epoch 85/100\n",
            "107/107 [==============================] - 14s 129ms/step - loss: 1.4994e-05 - val_loss: 0.0028\n",
            "Epoch 86/100\n",
            "107/107 [==============================] - 14s 127ms/step - loss: 1.5520e-05 - val_loss: 0.0024\n",
            "Epoch 87/100\n",
            "107/107 [==============================] - 13s 126ms/step - loss: 1.5254e-05 - val_loss: 0.0025\n",
            "Epoch 88/100\n",
            "107/107 [==============================] - 14s 128ms/step - loss: 1.4193e-05 - val_loss: 0.0028\n",
            "Epoch 89/100\n",
            "107/107 [==============================] - 14s 128ms/step - loss: 1.4603e-05 - val_loss: 0.0026\n",
            "Epoch 90/100\n",
            "107/107 [==============================] - 14s 129ms/step - loss: 1.5137e-05 - val_loss: 0.0031\n",
            "Epoch 91/100\n",
            "107/107 [==============================] - 14s 129ms/step - loss: 1.5788e-05 - val_loss: 0.0030\n",
            "Epoch 92/100\n",
            "107/107 [==============================] - 14s 129ms/step - loss: 1.5021e-05 - val_loss: 0.0028\n",
            "Epoch 93/100\n",
            "107/107 [==============================] - 14s 131ms/step - loss: 1.4659e-05 - val_loss: 0.0034\n",
            "Epoch 94/100\n",
            "107/107 [==============================] - 14s 129ms/step - loss: 1.4858e-05 - val_loss: 0.0027\n",
            "Epoch 95/100\n",
            "107/107 [==============================] - 14s 128ms/step - loss: 1.4191e-05 - val_loss: 0.0032\n",
            "Epoch 96/100\n",
            "107/107 [==============================] - 14s 130ms/step - loss: 1.4039e-05 - val_loss: 0.0028\n",
            "Epoch 97/100\n",
            "107/107 [==============================] - 14s 130ms/step - loss: 1.4702e-05 - val_loss: 0.0033\n",
            "Epoch 98/100\n",
            "107/107 [==============================] - 14s 130ms/step - loss: 1.4601e-05 - val_loss: 0.0036\n",
            "Epoch 99/100\n",
            "107/107 [==============================] - 14s 128ms/step - loss: 1.4317e-05 - val_loss: 0.0036\n",
            "Epoch 100/100\n",
            "107/107 [==============================] - 14s 130ms/step - loss: 1.5650e-05 - val_loss: 0.0028\n"
          ]
        },
        {
          "data": {
            "text/plain": [
              "<keras.callbacks.History at 0x7fa2a9d63f10>"
            ]
          },
          "execution_count": 18,
          "metadata": {},
          "output_type": "execute_result"
        }
      ],
      "source": [
        "model.fit(X_train,y_train,validation_data=(X_test,ytest),epochs=100,batch_size=64,verbose=1)"
      ],
      "id": "a4554b49"
    },
    {
      "cell_type": "code",
      "execution_count": null,
      "metadata": {
        "id": "51779dd0"
      },
      "outputs": [],
      "source": [
        "train_predict=model.predict(X_train)\n",
        "test_predict=model.predict(X_test)"
      ],
      "id": "51779dd0"
    },
    {
      "cell_type": "code",
      "execution_count": null,
      "metadata": {
        "id": "ff56d6dd"
      },
      "outputs": [],
      "source": [
        "##Transformback to original form\n",
        "train_predict=scaler.inverse_transform(train_predict)\n",
        "test_predict=scaler.inverse_transform(test_predict)"
      ],
      "id": "ff56d6dd"
    },
    {
      "cell_type": "code",
      "execution_count": null,
      "metadata": {
        "colab": {
          "base_uri": "https://localhost:8080/"
        },
        "id": "9b9c250e",
        "outputId": "0853b7c3-2d30-46ab-ad7f-78d68dee50a0"
      },
      "outputs": [
        {
          "data": {
            "text/plain": [
              "27.880607422556892"
            ]
          },
          "execution_count": 30,
          "metadata": {},
          "output_type": "execute_result"
        }
      ],
      "source": [
        "import math\n",
        "from sklearn.metrics import mean_squared_error\n",
        "math.sqrt(mean_squared_error(y_train,train_predict))"
      ],
      "id": "9b9c250e"
    },
    {
      "cell_type": "code",
      "execution_count": null,
      "metadata": {
        "colab": {
          "base_uri": "https://localhost:8080/"
        },
        "id": "2e3ea80c",
        "outputId": "8b0aafb5-a54e-4a34-87d5-c9bdbda58e20"
      },
      "outputs": [
        {
          "data": {
            "text/plain": [
              "74.6352153070611"
            ]
          },
          "execution_count": 31,
          "metadata": {},
          "output_type": "execute_result"
        }
      ],
      "source": [
        "math.sqrt(mean_squared_error(ytest,test_predict))"
      ],
      "id": "2e3ea80c"
    },
    {
      "cell_type": "code",
      "execution_count": null,
      "metadata": {
        "colab": {
          "base_uri": "https://localhost:8080/",
          "height": 265
        },
        "id": "b82a3ef8",
        "outputId": "5080977a-a725-4ab7-9bf2-356ec03b46ac"
      },
      "outputs": [
        {
          "data": {
            "image/png": "[encoded data removed]",
            "text/plain": [
              "<Figure size 432x288 with 1 Axes>"
            ]
          },
          "metadata": {},
          "output_type": "display_data"
        }
      ],
      "source": [
        "### Plotting \n",
        "# shift train predictions for plotting\n",
        "look_back=50\n",
        "trainPredictPlot = numpy.empty_like(df1)\n",
        "trainPredictPlot[:, :] = np.nan\n",
        "trainPredictPlot[look_back:len(train_predict)+look_back, :] = train_predict\n",
        "# shift test predictions for plotting\n",
        "testPredictPlot = numpy.empty_like(df1)\n",
        "testPredictPlot[:, :] = numpy.nan\n",
        "testPredictPlot[len(train_predict)+(look_back*2)+1:len(df1)-1, :] = test_predict\n",
        "# plot baseline and predictions\n",
        "plt.plot(scaler.inverse_transform(df1))\n",
        "plt.plot(trainPredictPlot)\n",
        "plt.plot(testPredictPlot)\n",
        "plt.show()"
      ],
      "id": "b82a3ef8"
    },
    {
      "cell_type": "code",
      "execution_count": null,
      "metadata": {
        "colab": {
          "base_uri": "https://localhost:8080/"
        },
        "id": "556c358a",
        "outputId": "4baa871a-b2d9-4051-91ce-b08ee1963521"
      },
      "outputs": [
        {
          "data": {
            "text/plain": [
              "3703"
            ]
          },
          "execution_count": 33,
          "metadata": {},
          "output_type": "execute_result"
        }
      ],
      "source": [
        "len(test_data)"
      ],
      "id": "556c358a"
    },
    {
      "cell_type": "code",
      "execution_count": null,
      "metadata": {
        "colab": {
          "base_uri": "https://localhost:8080/"
        },
        "id": "a69a38e5",
        "outputId": "80aec8ac-1d28-42cf-a042-e180e146e7cc"
      },
      "outputs": [
        {
          "data": {
            "text/plain": [
              "(1, 50)"
            ]
          },
          "execution_count": 34,
          "metadata": {},
          "output_type": "execute_result"
        }
      ],
      "source": [
        "x_input=test_data[3653:].reshape(1,-1)\n",
        "x_input.shape"
      ],
      "id": "a69a38e5"
    },
    {
      "cell_type": "code",
      "execution_count": null,
      "metadata": {
        "id": "ab7a7eef"
      },
      "outputs": [],
      "source": [
        "temp_input=list(x_input)\n",
        "temp_input=temp_input[0].tolist()"
      ],
      "id": "ab7a7eef"
    },
    {
      "cell_type": "code",
      "execution_count": null,
      "metadata": {
        "colab": {
          "base_uri": "https://localhost:8080/"
        },
        "id": "0c35b621",
        "outputId": "98c2c56a-4bfd-4c3c-a0d2-43313cb9b125"
      },
      "outputs": [
        {
          "name": "stdout",
          "output_type": "stream",
          "text": [
            "[0.718698]\n",
            "51\n",
            "1 day input [0.93248422 0.91081022 0.89406492 0.90683173 0.91045395 0.91377926\n",
            " 0.91912357 0.92197381 0.92149876 0.9210237  0.92025182 0.94014428\n",
            " 0.97654466 0.95249547 0.96282774 0.97256616 0.97351627 0.97452573\n",
            " 0.98016688 0.97891985 0.91752026 0.8782103  0.86431516 0.85677388\n",
            " 0.84145366 0.84068168 0.85006383 0.85831774 0.84281939 0.85053889\n",
            " 0.86235567 0.87749767 0.87031266 0.86294942 0.88587037 0.88889883\n",
            " 0.9060004  0.9098602  0.9060004  0.89394614 0.88545474 0.89869661\n",
            " 0.90035926 0.87916032 0.88337638 0.88177308 0.86289007 0.83830649\n",
            " 0.85861466 0.71869802]\n",
            "1 day output [[0.6511254]]\n",
            "2 day input [0.91081022 0.89406492 0.90683173 0.91045395 0.91377926 0.91912357\n",
            " 0.92197381 0.92149876 0.9210237  0.92025182 0.94014428 0.97654466\n",
            " 0.95249547 0.96282774 0.97256616 0.97351627 0.97452573 0.98016688\n",
            " 0.97891985 0.91752026 0.8782103  0.86431516 0.85677388 0.84145366\n",
            " 0.84068168 0.85006383 0.85831774 0.84281939 0.85053889 0.86235567\n",
            " 0.87749767 0.87031266 0.86294942 0.88587037 0.88889883 0.9060004\n",
            " 0.9098602  0.9060004  0.89394614 0.88545474 0.89869661 0.90035926\n",
            " 0.87916032 0.88337638 0.88177308 0.86289007 0.83830649 0.85861466\n",
            " 0.71869802 0.65112537]\n",
            "2 day output [[0.60297894]]\n",
            "3 day input [0.89406492 0.90683173 0.91045395 0.91377926 0.91912357 0.92197381\n",
            " 0.92149876 0.9210237  0.92025182 0.94014428 0.97654466 0.95249547\n",
            " 0.96282774 0.97256616 0.97351627 0.97452573 0.98016688 0.97891985\n",
            " 0.91752026 0.8782103  0.86431516 0.85677388 0.84145366 0.84068168\n",
            " 0.85006383 0.85831774 0.84281939 0.85053889 0.86235567 0.87749767\n",
            " 0.87031266 0.86294942 0.88587037 0.88889883 0.9060004  0.9098602\n",
            " 0.9060004  0.89394614 0.88545474 0.89869661 0.90035926 0.87916032\n",
            " 0.88337638 0.88177308 0.86289007 0.83830649 0.85861466 0.71869802\n",
            " 0.65112537 0.60297894]\n",
            "3 day output [[0.5639399]]\n",
            "4 day input [0.90683173 0.91045395 0.91377926 0.91912357 0.92197381 0.92149876\n",
            " 0.9210237  0.92025182 0.94014428 0.97654466 0.95249547 0.96282774\n",
            " 0.97256616 0.97351627 0.97452573 0.98016688 0.97891985 0.91752026\n",
            " 0.8782103  0.86431516 0.85677388 0.84145366 0.84068168 0.85006383\n",
            " 0.85831774 0.84281939 0.85053889 0.86235567 0.87749767 0.87031266\n",
            " 0.86294942 0.88587037 0.88889883 0.9060004  0.9098602  0.9060004\n",
            " 0.89394614 0.88545474 0.89869661 0.90035926 0.87916032 0.88337638\n",
            " 0.88177308 0.86289007 0.83830649 0.85861466 0.71869802 0.65112537\n",
            " 0.60297894 0.56393993]\n",
            "4 day output [[0.5316823]]\n",
            "5 day input [0.91045395 0.91377926 0.91912357 0.92197381 0.92149876 0.9210237\n",
            " 0.92025182 0.94014428 0.97654466 0.95249547 0.96282774 0.97256616\n",
            " 0.97351627 0.97452573 0.98016688 0.97891985 0.91752026 0.8782103\n",
            " 0.86431516 0.85677388 0.84145366 0.84068168 0.85006383 0.85831774\n",
            " 0.84281939 0.85053889 0.86235567 0.87749767 0.87031266 0.86294942\n",
            " 0.88587037 0.88889883 0.9060004  0.9098602  0.9060004  0.89394614\n",
            " 0.88545474 0.89869661 0.90035926 0.87916032 0.88337638 0.88177308\n",
            " 0.86289007 0.83830649 0.85861466 0.71869802 0.65112537 0.60297894\n",
            " 0.56393993 0.53168231]\n",
            "5 day output [[0.5046255]]\n",
            "6 day input [0.91377926 0.91912357 0.92197381 0.92149876 0.9210237  0.92025182\n",
            " 0.94014428 0.97654466 0.95249547 0.96282774 0.97256616 0.97351627\n",
            " 0.97452573 0.98016688 0.97891985 0.91752026 0.8782103  0.86431516\n",
            " 0.85677388 0.84145366 0.84068168 0.85006383 0.85831774 0.84281939\n",
            " 0.85053889 0.86235567 0.87749767 0.87031266 0.86294942 0.88587037\n",
            " 0.88889883 0.9060004  0.9098602  0.9060004  0.89394614 0.88545474\n",
            " 0.89869661 0.90035926 0.87916032 0.88337638 0.88177308 0.86289007\n",
            " 0.83830649 0.85861466 0.71869802 0.65112537 0.60297894 0.56393993\n",
            " 0.53168231 0.5046255 ]\n",
            "6 day output [[0.48191085]]\n",
            "7 day input [0.91912357 0.92197381 0.92149876 0.9210237  0.92025182 0.94014428\n",
            " 0.97654466 0.95249547 0.96282774 0.97256616 0.97351627 0.97452573\n",
            " 0.98016688 0.97891985 0.91752026 0.8782103  0.86431516 0.85677388\n",
            " 0.84145366 0.84068168 0.85006383 0.85831774 0.84281939 0.85053889\n",
            " 0.86235567 0.87749767 0.87031266 0.86294942 0.88587037 0.88889883\n",
            " 0.9060004  0.9098602  0.9060004  0.89394614 0.88545474 0.89869661\n",
            " 0.90035926 0.87916032 0.88337638 0.88177308 0.86289007 0.83830649\n",
            " 0.85861466 0.71869802 0.65112537 0.60297894 0.56393993 0.53168231\n",
            " 0.5046255  0.48191085]\n",
            "7 day output [[0.46286666]]\n",
            "8 day input [0.92197381 0.92149876 0.9210237  0.92025182 0.94014428 0.97654466\n",
            " 0.95249547 0.96282774 0.97256616 0.97351627 0.97452573 0.98016688\n",
            " 0.97891985 0.91752026 0.8782103  0.86431516 0.85677388 0.84145366\n",
            " 0.84068168 0.85006383 0.85831774 0.84281939 0.85053889 0.86235567\n",
            " 0.87749767 0.87031266 0.86294942 0.88587037 0.88889883 0.9060004\n",
            " 0.9098602  0.9060004  0.89394614 0.88545474 0.89869661 0.90035926\n",
            " 0.87916032 0.88337638 0.88177308 0.86289007 0.83830649 0.85861466\n",
            " 0.71869802 0.65112537 0.60297894 0.56393993 0.53168231 0.5046255\n",
            " 0.48191085 0.46286666]\n",
            "8 day output [[0.4469199]]\n",
            "9 day input [0.92149876 0.9210237  0.92025182 0.94014428 0.97654466 0.95249547\n",
            " 0.96282774 0.97256616 0.97351627 0.97452573 0.98016688 0.97891985\n",
            " 0.91752026 0.8782103  0.86431516 0.85677388 0.84145366 0.84068168\n",
            " 0.85006383 0.85831774 0.84281939 0.85053889 0.86235567 0.87749767\n",
            " 0.87031266 0.86294942 0.88587037 0.88889883 0.9060004  0.9098602\n",
            " 0.9060004  0.89394614 0.88545474 0.89869661 0.90035926 0.87916032\n",
            " 0.88337638 0.88177308 0.86289007 0.83830649 0.85861466 0.71869802\n",
            " 0.65112537 0.60297894 0.56393993 0.53168231 0.5046255  0.48191085\n",
            " 0.46286666 0.44691989]\n",
            "9 day output [[0.43357202]]\n",
            "10 day input [0.9210237  0.92025182 0.94014428 0.97654466 0.95249547 0.96282774\n",
            " 0.97256616 0.97351627 0.97452573 0.98016688 0.97891985 0.91752026\n",
            " 0.8782103  0.86431516 0.85677388 0.84145366 0.84068168 0.85006383\n",
            " 0.85831774 0.84281939 0.85053889 0.86235567 0.87749767 0.87031266\n",
            " 0.86294942 0.88587037 0.88889883 0.9060004  0.9098602  0.9060004\n",
            " 0.89394614 0.88545474 0.89869661 0.90035926 0.87916032 0.88337638\n",
            " 0.88177308 0.86289007 0.83830649 0.85861466 0.71869802 0.65112537\n",
            " 0.60297894 0.56393993 0.53168231 0.5046255  0.48191085 0.46286666\n",
            " 0.44691989 0.43357202]\n",
            "10 day output [[0.42239493]]\n",
            "11 day input [0.92025182 0.94014428 0.97654466 0.95249547 0.96282774 0.97256616\n",
            " 0.97351627 0.97452573 0.98016688 0.97891985 0.91752026 0.8782103\n",
            " 0.86431516 0.85677388 0.84145366 0.84068168 0.85006383 0.85831774\n",
            " 0.84281939 0.85053889 0.86235567 0.87749767 0.87031266 0.86294942\n",
            " 0.88587037 0.88889883 0.9060004  0.9098602  0.9060004  0.89394614\n",
            " 0.88545474 0.89869661 0.90035926 0.87916032 0.88337638 0.88177308\n",
            " 0.86289007 0.83830649 0.85861466 0.71869802 0.65112537 0.60297894\n",
            " 0.56393993 0.53168231 0.5046255  0.48191085 0.46286666 0.44691989\n",
            " 0.43357202 0.42239493]\n",
            "11 day output [[0.41303357]]\n",
            "12 day input [0.94014428 0.97654466 0.95249547 0.96282774 0.97256616 0.97351627\n",
            " 0.97452573 0.98016688 0.97891985 0.91752026 0.8782103  0.86431516\n",
            " 0.85677388 0.84145366 0.84068168 0.85006383 0.85831774 0.84281939\n",
            " 0.85053889 0.86235567 0.87749767 0.87031266 0.86294942 0.88587037\n",
            " 0.88889883 0.9060004  0.9098602  0.9060004  0.89394614 0.88545474\n",
            " 0.89869661 0.90035926 0.87916032 0.88337638 0.88177308 0.86289007\n",
            " 0.83830649 0.85861466 0.71869802 0.65112537 0.60297894 0.56393993\n",
            " 0.53168231 0.5046255  0.48191085 0.46286666 0.44691989 0.43357202\n",
            " 0.42239493 0.41303357]\n",
            "12 day output [[0.40520105]]\n",
            "13 day input [0.97654466 0.95249547 0.96282774 0.97256616 0.97351627 0.97452573\n",
            " 0.98016688 0.97891985 0.91752026 0.8782103  0.86431516 0.85677388\n",
            " 0.84145366 0.84068168 0.85006383 0.85831774 0.84281939 0.85053889\n",
            " 0.86235567 0.87749767 0.87031266 0.86294942 0.88587037 0.88889883\n",
            " 0.9060004  0.9098602  0.9060004  0.89394614 0.88545474 0.89869661\n",
            " 0.90035926 0.87916032 0.88337638 0.88177308 0.86289007 0.83830649\n",
            " 0.85861466 0.71869802 0.65112537 0.60297894 0.56393993 0.53168231\n",
            " 0.5046255  0.48191085 0.46286666 0.44691989 0.43357202 0.42239493\n",
            " 0.41303357 0.40520105]\n",
            "13 day output [[0.39867213]]\n",
            "14 day input [0.95249547 0.96282774 0.97256616 0.97351627 0.97452573 0.98016688\n",
            " 0.97891985 0.91752026 0.8782103  0.86431516 0.85677388 0.84145366\n",
            " 0.84068168 0.85006383 0.85831774 0.84281939 0.85053889 0.86235567\n",
            " 0.87749767 0.87031266 0.86294942 0.88587037 0.88889883 0.9060004\n",
            " 0.9098602  0.9060004  0.89394614 0.88545474 0.89869661 0.90035926\n",
            " 0.87916032 0.88337638 0.88177308 0.86289007 0.83830649 0.85861466\n",
            " 0.71869802 0.65112537 0.60297894 0.56393993 0.53168231 0.5046255\n",
            " 0.48191085 0.46286666 0.44691989 0.43357202 0.42239493 0.41303357\n",
            " 0.40520105 0.39867213]\n",
            "14 day output [[0.39327446]]\n",
            "15 day input [0.96282774 0.97256616 0.97351627 0.97452573 0.98016688 0.97891985\n",
            " 0.91752026 0.8782103  0.86431516 0.85677388 0.84145366 0.84068168\n",
            " 0.85006383 0.85831774 0.84281939 0.85053889 0.86235567 0.87749767\n",
            " 0.87031266 0.86294942 0.88587037 0.88889883 0.9060004  0.9098602\n",
            " 0.9060004  0.89394614 0.88545474 0.89869661 0.90035926 0.87916032\n",
            " 0.88337638 0.88177308 0.86289007 0.83830649 0.85861466 0.71869802\n",
            " 0.65112537 0.60297894 0.56393993 0.53168231 0.5046255  0.48191085\n",
            " 0.46286666 0.44691989 0.43357202 0.42239493 0.41303357 0.40520105\n",
            " 0.39867213 0.39327446]\n",
            "15 day output [[0.38887736]]\n",
            "16 day input [0.97256616 0.97351627 0.97452573 0.98016688 0.97891985 0.91752026\n",
            " 0.8782103  0.86431516 0.85677388 0.84145366 0.84068168 0.85006383\n",
            " 0.85831774 0.84281939 0.85053889 0.86235567 0.87749767 0.87031266\n",
            " 0.86294942 0.88587037 0.88889883 0.9060004  0.9098602  0.9060004\n",
            " 0.89394614 0.88545474 0.89869661 0.90035926 0.87916032 0.88337638\n",
            " 0.88177308 0.86289007 0.83830649 0.85861466 0.71869802 0.65112537\n",
            " 0.60297894 0.56393993 0.53168231 0.5046255  0.48191085 0.46286666\n",
            " 0.44691989 0.43357202 0.42239493 0.41303357 0.40520105 0.39867213\n",
            " 0.39327446 0.38887736]\n",
            "16 day output [[0.38537997]]\n",
            "17 day input [0.97351627 0.97452573 0.98016688 0.97891985 0.91752026 0.8782103\n",
            " 0.86431516 0.85677388 0.84145366 0.84068168 0.85006383 0.85831774\n",
            " 0.84281939 0.85053889 0.86235567 0.87749767 0.87031266 0.86294942\n",
            " 0.88587037 0.88889883 0.9060004  0.9098602  0.9060004  0.89394614\n",
            " 0.88545474 0.89869661 0.90035926 0.87916032 0.88337638 0.88177308\n",
            " 0.86289007 0.83830649 0.85861466 0.71869802 0.65112537 0.60297894\n",
            " 0.56393993 0.53168231 0.5046255  0.48191085 0.46286666 0.44691989\n",
            " 0.43357202 0.42239493 0.41303357 0.40520105 0.39867213 0.39327446\n",
            " 0.38887736 0.38537997]\n",
            "17 day output [[0.38270217]]\n",
            "18 day input [0.97452573 0.98016688 0.97891985 0.91752026 0.8782103  0.86431516\n",
            " 0.85677388 0.84145366 0.84068168 0.85006383 0.85831774 0.84281939\n",
            " 0.85053889 0.86235567 0.87749767 0.87031266 0.86294942 0.88587037\n",
            " 0.88889883 0.9060004  0.9098602  0.9060004  0.89394614 0.88545474\n",
            " 0.89869661 0.90035926 0.87916032 0.88337638 0.88177308 0.86289007\n",
            " 0.83830649 0.85861466 0.71869802 0.65112537 0.60297894 0.56393993\n",
            " 0.53168231 0.5046255  0.48191085 0.46286666 0.44691989 0.43357202\n",
            " 0.42239493 0.41303357 0.40520105 0.39867213 0.39327446 0.38887736\n",
            " 0.38537997 0.38270217]\n",
            "18 day output [[0.38077497]]\n",
            "19 day input [0.98016688 0.97891985 0.91752026 0.8782103  0.86431516 0.85677388\n",
            " 0.84145366 0.84068168 0.85006383 0.85831774 0.84281939 0.85053889\n",
            " 0.86235567 0.87749767 0.87031266 0.86294942 0.88587037 0.88889883\n",
            " 0.9060004  0.9098602  0.9060004  0.89394614 0.88545474 0.89869661\n",
            " 0.90035926 0.87916032 0.88337638 0.88177308 0.86289007 0.83830649\n",
            " 0.85861466 0.71869802 0.65112537 0.60297894 0.56393993 0.53168231\n",
            " 0.5046255  0.48191085 0.46286666 0.44691989 0.43357202 0.42239493\n",
            " 0.41303357 0.40520105 0.39867213 0.39327446 0.38887736 0.38537997\n",
            " 0.38270217 0.38077497]\n",
            "19 day output [[0.37953395]]\n",
            "20 day input [0.97891985 0.91752026 0.8782103  0.86431516 0.85677388 0.84145366\n",
            " 0.84068168 0.85006383 0.85831774 0.84281939 0.85053889 0.86235567\n",
            " 0.87749767 0.87031266 0.86294942 0.88587037 0.88889883 0.9060004\n",
            " 0.9098602  0.9060004  0.89394614 0.88545474 0.89869661 0.90035926\n",
            " 0.87916032 0.88337638 0.88177308 0.86289007 0.83830649 0.85861466\n",
            " 0.71869802 0.65112537 0.60297894 0.56393993 0.53168231 0.5046255\n",
            " 0.48191085 0.46286666 0.44691989 0.43357202 0.42239493 0.41303357\n",
            " 0.40520105 0.39867213 0.39327446 0.38887736 0.38537997 0.38270217\n",
            " 0.38077497 0.37953395]\n",
            "20 day output [[0.37891448]]\n",
            "21 day input [0.91752026 0.8782103  0.86431516 0.85677388 0.84145366 0.84068168\n",
            " 0.85006383 0.85831774 0.84281939 0.85053889 0.86235567 0.87749767\n",
            " 0.87031266 0.86294942 0.88587037 0.88889883 0.9060004  0.9098602\n",
            " 0.9060004  0.89394614 0.88545474 0.89869661 0.90035926 0.87916032\n",
            " 0.88337638 0.88177308 0.86289007 0.83830649 0.85861466 0.71869802\n",
            " 0.65112537 0.60297894 0.56393993 0.53168231 0.5046255  0.48191085\n",
            " 0.46286666 0.44691989 0.43357202 0.42239493 0.41303357 0.40520105\n",
            " 0.39867213 0.39327446 0.38887736 0.38537997 0.38270217 0.38077497\n",
            " 0.37953395 0.37891448]\n",
            "21 day output [[0.3788497]]\n",
            "22 day input [0.8782103  0.86431516 0.85677388 0.84145366 0.84068168 0.85006383\n",
            " 0.85831774 0.84281939 0.85053889 0.86235567 0.87749767 0.87031266\n",
            " 0.86294942 0.88587037 0.88889883 0.9060004  0.9098602  0.9060004\n",
            " 0.89394614 0.88545474 0.89869661 0.90035926 0.87916032 0.88337638\n",
            " 0.88177308 0.86289007 0.83830649 0.85861466 0.71869802 0.65112537\n",
            " 0.60297894 0.56393993 0.53168231 0.5046255  0.48191085 0.46286666\n",
            " 0.44691989 0.43357202 0.42239493 0.41303357 0.40520105 0.39867213\n",
            " 0.39327446 0.38887736 0.38537997 0.38270217 0.38077497 0.37953395\n",
            " 0.37891448 0.37884969]\n",
            "22 day output [[0.37926844]]\n",
            "23 day input [0.86431516 0.85677388 0.84145366 0.84068168 0.85006383 0.85831774\n",
            " 0.84281939 0.85053889 0.86235567 0.87749767 0.87031266 0.86294942\n",
            " 0.88587037 0.88889883 0.9060004  0.9098602  0.9060004  0.89394614\n",
            " 0.88545474 0.89869661 0.90035926 0.87916032 0.88337638 0.88177308\n",
            " 0.86289007 0.83830649 0.85861466 0.71869802 0.65112537 0.60297894\n",
            " 0.56393993 0.53168231 0.5046255  0.48191085 0.46286666 0.44691989\n",
            " 0.43357202 0.42239493 0.41303357 0.40520105 0.39867213 0.39327446\n",
            " 0.38887736 0.38537997 0.38270217 0.38077497 0.37953395 0.37891448\n",
            " 0.37884969 0.37926844]\n",
            "23 day output [[0.38009596]]\n",
            "24 day input [0.85677388 0.84145366 0.84068168 0.85006383 0.85831774 0.84281939\n",
            " 0.85053889 0.86235567 0.87749767 0.87031266 0.86294942 0.88587037\n",
            " 0.88889883 0.9060004  0.9098602  0.9060004  0.89394614 0.88545474\n",
            " 0.89869661 0.90035926 0.87916032 0.88337638 0.88177308 0.86289007\n",
            " 0.83830649 0.85861466 0.71869802 0.65112537 0.60297894 0.56393993\n",
            " 0.53168231 0.5046255  0.48191085 0.46286666 0.44691989 0.43357202\n",
            " 0.42239493 0.41303357 0.40520105 0.39867213 0.39327446 0.38887736\n",
            " 0.38537997 0.38270217 0.38077497 0.37953395 0.37891448 0.37884969\n",
            " 0.37926844 0.38009596]\n",
            "24 day output [[0.38125575]]\n",
            "25 day input [0.84145366 0.84068168 0.85006383 0.85831774 0.84281939 0.85053889\n",
            " 0.86235567 0.87749767 0.87031266 0.86294942 0.88587037 0.88889883\n",
            " 0.9060004  0.9098602  0.9060004  0.89394614 0.88545474 0.89869661\n",
            " 0.90035926 0.87916032 0.88337638 0.88177308 0.86289007 0.83830649\n",
            " 0.85861466 0.71869802 0.65112537 0.60297894 0.56393993 0.53168231\n",
            " 0.5046255  0.48191085 0.46286666 0.44691989 0.43357202 0.42239493\n",
            " 0.41303357 0.40520105 0.39867213 0.39327446 0.38887736 0.38537997\n",
            " 0.38270217 0.38077497 0.37953395 0.37891448 0.37884969 0.37926844\n",
            " 0.38009596 0.38125575]\n",
            "25 day output [[0.38267103]]\n",
            "26 day input [0.84068168 0.85006383 0.85831774 0.84281939 0.85053889 0.86235567\n",
            " 0.87749767 0.87031266 0.86294942 0.88587037 0.88889883 0.9060004\n",
            " 0.9098602  0.9060004  0.89394614 0.88545474 0.89869661 0.90035926\n",
            " 0.87916032 0.88337638 0.88177308 0.86289007 0.83830649 0.85861466\n",
            " 0.71869802 0.65112537 0.60297894 0.56393993 0.53168231 0.5046255\n",
            " 0.48191085 0.46286666 0.44691989 0.43357202 0.42239493 0.41303357\n",
            " 0.40520105 0.39867213 0.39327446 0.38887736 0.38537997 0.38270217\n",
            " 0.38077497 0.37953395 0.37891448 0.37884969 0.37926844 0.38009596\n",
            " 0.38125575 0.38267103]\n",
            "26 day output [[0.38426808]]\n",
            "27 day input [0.85006383 0.85831774 0.84281939 0.85053889 0.86235567 0.87749767\n",
            " 0.87031266 0.86294942 0.88587037 0.88889883 0.9060004  0.9098602\n",
            " 0.9060004  0.89394614 0.88545474 0.89869661 0.90035926 0.87916032\n",
            " 0.88337638 0.88177308 0.86289007 0.83830649 0.85861466 0.71869802\n",
            " 0.65112537 0.60297894 0.56393993 0.53168231 0.5046255  0.48191085\n",
            " 0.46286666 0.44691989 0.43357202 0.42239493 0.41303357 0.40520105\n",
            " 0.39867213 0.39327446 0.38887736 0.38537997 0.38270217 0.38077497\n",
            " 0.37953395 0.37891448 0.37884969 0.37926844 0.38009596 0.38125575\n",
            " 0.38267103 0.38426808]\n",
            "27 day output [[0.3859772]]\n",
            "28 day input [0.85831774 0.84281939 0.85053889 0.86235567 0.87749767 0.87031266\n",
            " 0.86294942 0.88587037 0.88889883 0.9060004  0.9098602  0.9060004\n",
            " 0.89394614 0.88545474 0.89869661 0.90035926 0.87916032 0.88337638\n",
            " 0.88177308 0.86289007 0.83830649 0.85861466 0.71869802 0.65112537\n",
            " 0.60297894 0.56393993 0.53168231 0.5046255  0.48191085 0.46286666\n",
            " 0.44691989 0.43357202 0.42239493 0.41303357 0.40520105 0.39867213\n",
            " 0.39327446 0.38887736 0.38537997 0.38270217 0.38077497 0.37953395\n",
            " 0.37891448 0.37884969 0.37926844 0.38009596 0.38125575 0.38267103\n",
            " 0.38426808 0.38597721]\n",
            "28 day output [[0.38773602]]\n",
            "29 day input [0.84281939 0.85053889 0.86235567 0.87749767 0.87031266 0.86294942\n",
            " 0.88587037 0.88889883 0.9060004  0.9098602  0.9060004  0.89394614\n",
            " 0.88545474 0.89869661 0.90035926 0.87916032 0.88337638 0.88177308\n",
            " 0.86289007 0.83830649 0.85861466 0.71869802 0.65112537 0.60297894\n",
            " 0.56393993 0.53168231 0.5046255  0.48191085 0.46286666 0.44691989\n",
            " 0.43357202 0.42239493 0.41303357 0.40520105 0.39867213 0.39327446\n",
            " 0.38887736 0.38537997 0.38270217 0.38077497 0.37953395 0.37891448\n",
            " 0.37884969 0.37926844 0.38009596 0.38125575 0.38267103 0.38426808\n",
            " 0.38597721 0.38773602]\n",
            "29 day output [[0.3894896]]\n",
            "[[0.7186980247497559], [0.6511253714561462], [0.6029789447784424], [0.5639399290084839], [0.5316823124885559], [0.5046254992485046], [0.4819108545780182], [0.4628666639328003], [0.44691988825798035], [0.43357202410697937], [0.42239493131637573], [0.4130335748195648], [0.4052010476589203], [0.3986721336841583], [0.3932744562625885], [0.38887736201286316], [0.38537997007369995], [0.38270217180252075], [0.38077497482299805], [0.37953394651412964], [0.378914475440979], [0.37884968519210815], [0.37926843762397766], [0.3800959587097168], [0.38125574588775635], [0.3826710283756256], [0.3842680752277374], [0.38597720861434937], [0.3877360224723816], [0.3894895911216736]]\n"
          ]
        }
      ],
      "source": [
        "# demonstrate prediction for next 10 days\n",
        "from numpy import array\n",
        "\n",
        "lst_output=[]\n",
        "n_steps=50\n",
        "i=0\n",
        "while(i<100):\n",
        "    \n",
        "    if(len(temp_input)>50):\n",
        "        #print(temp_input)\n",
        "        x_input=np.array(temp_input[1:])\n",
        "        print(\"{} day input {}\".format(i,x_input))\n",
        "        x_input=x_input.reshape(1,-1)\n",
        "        x_input = x_input.reshape((1, n_steps, 1))\n",
        "        #print(x_input)\n",
        "        yhat = model.predict(x_input, verbose=0)\n",
        "        print(\"{} day output {}\".format(i,yhat))\n",
        "        temp_input.extend(yhat[0].tolist())\n",
        "        temp_input=temp_input[1:]\n",
        "        #print(temp_input)\n",
        "        lst_output.extend(yhat.tolist())\n",
        "        i=i+1\n",
        "    else:\n",
        "        x_input = x_input.reshape((1, n_steps,1))\n",
        "        yhat = model.predict(x_input, verbose=0)\n",
        "        print(yhat[0])\n",
        "        temp_input.extend(yhat[0].tolist())\n",
        "        print(len(temp_input))\n",
        "        lst_output.extend(yhat.tolist())\n",
        "        i=i+1\n",
        "    \n",
        "\n",
        "print(lst_output)"
      ],
      "id": "0c35b621"
    },
    {
      "cell_type": "code",
      "execution_count": null,
      "metadata": {
        "id": "13cd7174"
      },
      "outputs": [],
      "source": [
        "day_new=np.arange(1,51)\n",
        "day_pred=np.arange(51,81)"
      ],
      "id": "13cd7174"
    },
    {
      "cell_type": "code",
      "execution_count": null,
      "metadata": {
        "id": "09305898"
      },
      "outputs": [],
      "source": [
        "import matplotlib.pyplot as plt"
      ],
      "id": "09305898"
    },
    {
      "cell_type": "code",
      "execution_count": null,
      "metadata": {
        "colab": {
          "base_uri": "https://localhost:8080/"
        },
        "id": "3fe22e3e",
        "outputId": "03dac7df-6978-486a-d9e4-d26751bb48f6"
      },
      "outputs": [
        {
          "data": {
            "text/plain": [
              "10578"
            ]
          },
          "execution_count": 39,
          "metadata": {},
          "output_type": "execute_result"
        }
      ],
      "source": [
        "len(df1)"
      ],
      "id": "3fe22e3e"
    },
    {
      "cell_type": "code",
      "execution_count": null,
      "metadata": {
        "colab": {
          "background_save": true
        },
        "id": "03284fd9",
        "outputId": "f8368e0d-8e29-4c7c-8840-7b07f3bfa2fc"
      },
      "outputs": [
        {
          "data": {
            "text/plain": [
              "[<matplotlib.lines.Line2D at 0x7fa2a5a98f90>]"
            ]
          },
          "execution_count": null,
          "metadata": {},
          "output_type": "execute_result"
        },
        {
          "data": {
            "image/png": "[encoded data removed]",
            "text/plain": [
              "<Figure size 432x288 with 1 Axes>"
            ]
          },
          "metadata": {},
          "output_type": "display_data"
        }
      ],
      "source": [
        "plt.plot(day_new,scaler.inverse_transform(df1[10528:]))\n",
        "plt.plot(day_pred,scaler.inverse_transform(lst_output))"
      ],
      "id": "03284fd9"
    },
    {
      "cell_type": "code",
      "execution_count": null,
      "metadata": {
        "colab": {
          "base_uri": "https://localhost:8080/",
          "height": 282
        },
        "id": "4cda76b2",
        "outputId": "5c72a594-5e69-469b-91dd-5b69f148b314"
      },
      "outputs": [
        {
          "data": {
            "text/plain": [
              "[<matplotlib.lines.Line2D at 0x7fec3b138650>]"
            ]
          },
          "execution_count": 33,
          "metadata": {},
          "output_type": "execute_result"
        },
        {
          "data": {
            "image/png": "[encoded data removed]",
            "text/plain": [
              "<Figure size 432x288 with 1 Axes>"
            ]
          },
          "metadata": {},
          "output_type": "display_data"
        }
      ],
      "source": [
        "df3=df1.tolist()\n",
        "df3.extend(lst_output)\n",
        "plt.plot(df3[1200:])"
      ],
      "id": "4cda76b2"
    },
    {
      "cell_type": "code",
      "execution_count": null,
      "metadata": {
        "id": "fcec56ba"
      },
      "outputs": [],
      "source": [
        ""
      ],
      "id": "fcec56ba"
    }
  ],
  "metadata": {
    "colab": {
      "collapsed_sections": [],
      "name": "JPM-Price-Forecast.ipynb",
      "provenance": []
    },
    "kernelspec": {
      "display_name": "Python 3",
      "language": "python",
      "name": "python3"
    },
    "language_info": {
      "codemirror_mode": {
        "name": "ipython",
        "version": 3
      },
      "file_extension": ".py",
      "mimetype": "text/x-python",
      "name": "python",
      "nbconvert_exporter": "python",
      "pygments_lexer": "ipython3",
      "version": "3.8.8"
    }
  },
  "nbformat": 4,
  "nbformat_minor": 5
}