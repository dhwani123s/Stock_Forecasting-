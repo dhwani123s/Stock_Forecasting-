{
  "cells": [
    {
      "cell_type": "code",
      "execution_count": null,
      "id": "05f01c40",
      "metadata": {
        "id": "05f01c40"
      },
      "outputs": [],
      "source": [
        "import pandas as pd\n",
        "import pandas as pd\n",
        "import numpy as np\n",
        "import keras\n",
        "import tensorflow as tf\n",
        "from keras.preprocessing.sequence import TimeseriesGenerator\n",
        "df = pd.read_csv(\"GS.csv\") "
      ]
    },
    {
      "cell_type": "code",
      "execution_count": null,
      "id": "7cfcdc60",
      "metadata": {
        "id": "7cfcdc60"
      },
      "outputs": [],
      "source": [
        "df.dropna(inplace=True)"
      ]
    },
    {
      "cell_type": "code",
      "source": [
        ""
      ],
      "metadata": {
        "id": "ZYOMjaxaqXnA"
      },
      "id": "ZYOMjaxaqXnA",
      "execution_count": null,
      "outputs": []
    },
    {
      "cell_type": "code",
      "execution_count": null,
      "id": "7ed91aa2",
      "metadata": {
        "id": "7ed91aa2"
      },
      "outputs": [],
      "source": [
        "df1=df.reset_index()['Close']"
      ]
    },
    {
      "cell_type": "code",
      "execution_count": null,
      "id": "ec40048e",
      "metadata": {
        "colab": {
          "base_uri": "https://localhost:8080/",
          "height": 282
        },
        "id": "ec40048e",
        "outputId": "c44aaee1-3c69-4185-a5f5-0878509c9bf8"
      },
      "outputs": [
        {
          "output_type": "execute_result",
          "data": {
            "text/plain": [
              "[<matplotlib.lines.Line2D at 0x7f998b421f50>]"
            ]
          },
          "metadata": {},
          "execution_count": 4
        },
        {
          "output_type": "display_data",
          "data": {
            "image/png": "[encoded data removed]",
            "text/plain": [
              "<Figure size 432x288 with 1 Axes>"
            ]
          },
          "metadata": {
            "needs_background": "light"
          }
        }
      ],
      "source": [
        "import matplotlib.pyplot as plt\n",
        "plt.plot(df1)"
      ]
    },
    {
      "cell_type": "code",
      "execution_count": null,
      "id": "dbbe204c",
      "metadata": {
        "id": "dbbe204c"
      },
      "outputs": [],
      "source": [
        "import numpy as np"
      ]
    },
    {
      "cell_type": "code",
      "execution_count": null,
      "id": "93c0cb4e",
      "metadata": {
        "id": "93c0cb4e"
      },
      "outputs": [],
      "source": [
        "from sklearn.preprocessing import MinMaxScaler\n",
        "scaler=MinMaxScaler(feature_range=(0,1))\n",
        "df1=scaler.fit_transform(np.array(df1).reshape(-1,1))"
      ]
    },
    {
      "cell_type": "code",
      "execution_count": null,
      "id": "38ee7c31",
      "metadata": {
        "id": "38ee7c31"
      },
      "outputs": [],
      "source": [
        "training_size=int(len(df1)*0.65)\n",
        "test_size=len(df1)-training_size\n",
        "train_data,test_data=df1[0:training_size,:],df1[training_size:len(df1),:1]"
      ]
    },
    {
      "cell_type": "code",
      "execution_count": null,
      "id": "94fe8b6a",
      "metadata": {
        "colab": {
          "base_uri": "https://localhost:8080/"
        },
        "id": "94fe8b6a",
        "outputId": "f9471127-2af0-4858-d9bd-6a3058daaa1f"
      },
      "outputs": [
        {
          "output_type": "execute_result",
          "data": {
            "text/plain": [
              "(3732, 2011)"
            ]
          },
          "metadata": {},
          "execution_count": 8
        }
      ],
      "source": [
        "training_size,test_size"
      ]
    },
    {
      "cell_type": "code",
      "execution_count": null,
      "id": "bcfb12fb",
      "metadata": {
        "colab": {
          "base_uri": "https://localhost:8080/"
        },
        "id": "bcfb12fb",
        "outputId": "bbeabf5e-0154-45c7-ba01-9983de00c2c6"
      },
      "outputs": [
        {
          "output_type": "execute_result",
          "data": {
            "text/plain": [
              "array([[0.04941509],\n",
              "       [0.04605352],\n",
              "       [0.04286002],\n",
              "       ...,\n",
              "       [0.30778538],\n",
              "       [0.30318678],\n",
              "       [0.31391689]])"
            ]
          },
          "metadata": {},
          "execution_count": 9
        }
      ],
      "source": [
        "train_data"
      ]
    },
    {
      "cell_type": "code",
      "execution_count": null,
      "id": "7b70d6d7",
      "metadata": {
        "id": "7b70d6d7"
      },
      "outputs": [],
      "source": [
        "import numpy\n",
        "# convert an array of values into a dataset matrix\n",
        "def create_dataset(dataset, time_step=1):\n",
        "\tdataX, dataY = [], []\n",
        "\tfor i in range(len(dataset)-time_step-1):\n",
        "\t\ta = dataset[i:(i+time_step), 0]   ###i=0, 0,1,2,3-----99   100 \n",
        "\t\tdataX.append(a)\n",
        "\t\tdataY.append(dataset[i + time_step, 0])\n",
        "\treturn numpy.array(dataX), numpy.array(dataY)"
      ]
    },
    {
      "cell_type": "code",
      "execution_count": null,
      "id": "cf0af60c",
      "metadata": {
        "id": "cf0af60c"
      },
      "outputs": [],
      "source": [
        "# reshape into X=t,t+1,t+2,t+3 and Y=t+4\n",
        "time_step = 50\n",
        "X_train, y_train = create_dataset(train_data, time_step)\n",
        "X_test, ytest = create_dataset(test_data, time_step)"
      ]
    },
    {
      "cell_type": "code",
      "execution_count": null,
      "id": "1b937a04",
      "metadata": {
        "colab": {
          "base_uri": "https://localhost:8080/"
        },
        "id": "1b937a04",
        "outputId": "6451b6dc-a7ae-4e02-e762-cf2f80485ef3"
      },
      "outputs": [
        {
          "output_type": "stream",
          "name": "stdout",
          "text": [
            "(3681, 50)\n",
            "(3681,)\n"
          ]
        },
        {
          "output_type": "execute_result",
          "data": {
            "text/plain": [
              "(None, None)"
            ]
          },
          "metadata": {},
          "execution_count": 12
        }
      ],
      "source": [
        "print(X_train.shape), print(y_train.shape)"
      ]
    },
    {
      "cell_type": "code",
      "execution_count": null,
      "id": "63f4efe5",
      "metadata": {
        "colab": {
          "base_uri": "https://localhost:8080/"
        },
        "id": "63f4efe5",
        "outputId": "6e249311-a4b1-433e-b404-5a5e05c7e1d9"
      },
      "outputs": [
        {
          "output_type": "stream",
          "name": "stdout",
          "text": [
            "(1960, 50)\n",
            "(1960,)\n"
          ]
        },
        {
          "output_type": "execute_result",
          "data": {
            "text/plain": [
              "(None, None)"
            ]
          },
          "metadata": {},
          "execution_count": 13
        }
      ],
      "source": [
        "print(X_test.shape), print(ytest.shape)"
      ]
    },
    {
      "cell_type": "code",
      "execution_count": null,
      "id": "78c723f6",
      "metadata": {
        "id": "78c723f6"
      },
      "outputs": [],
      "source": [
        "# reshape input to be [samples, time steps, features] which is required for LSTM\n",
        "X_train =X_train.reshape(X_train.shape[0],X_train.shape[1] , 1)\n",
        "X_test = X_test.reshape(X_test.shape[0],X_test.shape[1] , 1)"
      ]
    },
    {
      "cell_type": "code",
      "execution_count": null,
      "id": "63c448c3",
      "metadata": {
        "id": "63c448c3"
      },
      "outputs": [],
      "source": [
        "### Create the Stacked LSTM model\n",
        "from tensorflow.keras.models import Sequential\n",
        "from tensorflow.keras.layers import Dense\n",
        "from tensorflow.keras.layers import LSTM"
      ]
    },
    {
      "cell_type": "code",
      "execution_count": null,
      "id": "57833498",
      "metadata": {
        "id": "57833498"
      },
      "outputs": [],
      "source": [
        "model=Sequential()\n",
        "model.add(LSTM(50,return_sequences=True,input_shape=(50,1)))\n",
        "model.add(LSTM(50,return_sequences=True))\n",
        "model.add(LSTM(50,return_sequences=True))\n",
        "model.add(LSTM(50))\n",
        "model.add(Dense(1))\n",
        "model.compile(loss='mean_squared_error',optimizer='adam')\n"
      ]
    },
    {
      "cell_type": "code",
      "execution_count": null,
      "id": "16f14d32",
      "metadata": {
        "colab": {
          "base_uri": "https://localhost:8080/"
        },
        "id": "16f14d32",
        "outputId": "f3265ea8-2f85-4b13-b308-6affe0edc25a"
      },
      "outputs": [
        {
          "output_type": "stream",
          "name": "stdout",
          "text": [
            "Model: \"sequential_1\"\n",
            "_________________________________________________________________\n",
            " Layer (type)                Output Shape              Param #   \n",
            "=================================================================\n",
            " lstm_4 (LSTM)               (None, 50, 50)            10400     \n",
            "                                                                 \n",
            " lstm_5 (LSTM)               (None, 50, 50)            20200     \n",
            "                                                                 \n",
            " lstm_6 (LSTM)               (None, 50, 50)            20200     \n",
            "                                                                 \n",
            " lstm_7 (LSTM)               (None, 50)                20200     \n",
            "                                                                 \n",
            " dense_1 (Dense)             (None, 1)                 51        \n",
            "                                                                 \n",
            "=================================================================\n",
            "Total params: 71,051\n",
            "Trainable params: 71,051\n",
            "Non-trainable params: 0\n",
            "_________________________________________________________________\n"
          ]
        }
      ],
      "source": [
        "model.summary()"
      ]
    },
    {
      "cell_type": "code",
      "execution_count": null,
      "id": "a4554b49",
      "metadata": {
        "colab": {
          "base_uri": "https://localhost:8080/"
        },
        "id": "a4554b49",
        "outputId": "9790c253-3fa5-43aa-da9e-174192a0d35e"
      },
      "outputs": [
        {
          "output_type": "stream",
          "name": "stdout",
          "text": [
            "Epoch 1/100\n",
            "58/58 [==============================] - 17s 170ms/step - loss: 0.0047 - val_loss: 0.0019\n",
            "Epoch 2/100\n",
            "58/58 [==============================] - 8s 139ms/step - loss: 6.0380e-04 - val_loss: 0.0015\n",
            "Epoch 3/100\n",
            "58/58 [==============================] - 8s 139ms/step - loss: 4.7926e-04 - val_loss: 0.0014\n",
            "Epoch 4/100\n",
            "58/58 [==============================] - 8s 138ms/step - loss: 4.2978e-04 - val_loss: 0.0022\n",
            "Epoch 5/100\n",
            "58/58 [==============================] - 8s 138ms/step - loss: 3.9048e-04 - val_loss: 0.0012\n",
            "Epoch 6/100\n",
            "58/58 [==============================] - 9s 153ms/step - loss: 3.6544e-04 - val_loss: 0.0011\n",
            "Epoch 7/100\n",
            "58/58 [==============================] - 8s 137ms/step - loss: 3.6752e-04 - val_loss: 0.0013\n",
            "Epoch 8/100\n",
            "58/58 [==============================] - 8s 140ms/step - loss: 3.1974e-04 - val_loss: 7.9949e-04\n",
            "Epoch 9/100\n",
            "58/58 [==============================] - 8s 138ms/step - loss: 3.1185e-04 - val_loss: 0.0012\n",
            "Epoch 10/100\n",
            "58/58 [==============================] - 8s 138ms/step - loss: 3.1378e-04 - val_loss: 0.0018\n",
            "Epoch 11/100\n",
            "58/58 [==============================] - 8s 139ms/step - loss: 3.1345e-04 - val_loss: 0.0012\n",
            "Epoch 12/100\n",
            "58/58 [==============================] - 9s 149ms/step - loss: 2.8512e-04 - val_loss: 0.0011\n",
            "Epoch 13/100\n",
            "58/58 [==============================] - 8s 140ms/step - loss: 2.8847e-04 - val_loss: 0.0015\n",
            "Epoch 14/100\n",
            "58/58 [==============================] - 8s 140ms/step - loss: 2.4991e-04 - val_loss: 5.4729e-04\n",
            "Epoch 15/100\n",
            "58/58 [==============================] - 8s 139ms/step - loss: 2.9896e-04 - val_loss: 0.0014\n",
            "Epoch 16/100\n",
            "58/58 [==============================] - 8s 141ms/step - loss: 2.5426e-04 - val_loss: 4.4219e-04\n",
            "Epoch 17/100\n",
            "58/58 [==============================] - 8s 141ms/step - loss: 2.2046e-04 - val_loss: 3.9731e-04\n",
            "Epoch 18/100\n",
            "58/58 [==============================] - 8s 140ms/step - loss: 2.1325e-04 - val_loss: 4.4891e-04\n",
            "Epoch 19/100\n",
            "58/58 [==============================] - 8s 144ms/step - loss: 2.0548e-04 - val_loss: 6.1805e-04\n",
            "Epoch 20/100\n",
            "58/58 [==============================] - 8s 140ms/step - loss: 1.8500e-04 - val_loss: 4.4286e-04\n",
            "Epoch 21/100\n",
            "58/58 [==============================] - 8s 140ms/step - loss: 1.9570e-04 - val_loss: 3.5168e-04\n",
            "Epoch 22/100\n",
            "58/58 [==============================] - 8s 140ms/step - loss: 1.8585e-04 - val_loss: 3.0482e-04\n",
            "Epoch 23/100\n",
            "58/58 [==============================] - 8s 139ms/step - loss: 1.6453e-04 - val_loss: 2.8234e-04\n",
            "Epoch 24/100\n",
            "58/58 [==============================] - 8s 139ms/step - loss: 1.5869e-04 - val_loss: 4.1536e-04\n",
            "Epoch 25/100\n",
            "58/58 [==============================] - 9s 151ms/step - loss: 1.4872e-04 - val_loss: 3.5568e-04\n",
            "Epoch 26/100\n",
            "58/58 [==============================] - 8s 141ms/step - loss: 1.3572e-04 - val_loss: 2.1798e-04\n",
            "Epoch 27/100\n",
            "58/58 [==============================] - 8s 140ms/step - loss: 1.2912e-04 - val_loss: 5.3552e-04\n",
            "Epoch 28/100\n",
            "58/58 [==============================] - 9s 150ms/step - loss: 1.5045e-04 - val_loss: 2.9557e-04\n",
            "Epoch 29/100\n",
            "58/58 [==============================] - 9s 148ms/step - loss: 1.1721e-04 - val_loss: 6.1142e-04\n",
            "Epoch 30/100\n",
            "58/58 [==============================] - 9s 147ms/step - loss: 1.1442e-04 - val_loss: 3.1523e-04\n",
            "Epoch 31/100\n",
            "58/58 [==============================] - 8s 142ms/step - loss: 1.0543e-04 - val_loss: 2.7289e-04\n",
            "Epoch 32/100\n",
            "58/58 [==============================] - 8s 146ms/step - loss: 1.0088e-04 - val_loss: 2.4298e-04\n",
            "Epoch 33/100\n",
            "58/58 [==============================] - 9s 150ms/step - loss: 1.0132e-04 - val_loss: 4.9619e-04\n",
            "Epoch 34/100\n",
            "58/58 [==============================] - 9s 150ms/step - loss: 9.6669e-05 - val_loss: 2.1185e-04\n",
            "Epoch 35/100\n",
            "58/58 [==============================] - 8s 146ms/step - loss: 9.7499e-05 - val_loss: 4.2947e-04\n",
            "Epoch 36/100\n",
            "58/58 [==============================] - 8s 143ms/step - loss: 9.8913e-05 - val_loss: 2.7066e-04\n",
            "Epoch 37/100\n",
            "58/58 [==============================] - 9s 148ms/step - loss: 9.1979e-05 - val_loss: 3.9757e-04\n",
            "Epoch 38/100\n",
            "58/58 [==============================] - 9s 152ms/step - loss: 1.0976e-04 - val_loss: 2.4485e-04\n",
            "Epoch 39/100\n",
            "58/58 [==============================] - 9s 150ms/step - loss: 9.1379e-05 - val_loss: 3.5533e-04\n",
            "Epoch 40/100\n",
            "58/58 [==============================] - 8s 145ms/step - loss: 8.5510e-05 - val_loss: 2.6558e-04\n",
            "Epoch 41/100\n",
            "58/58 [==============================] - 9s 147ms/step - loss: 8.6113e-05 - val_loss: 2.3144e-04\n",
            "Epoch 42/100\n",
            "58/58 [==============================] - 9s 152ms/step - loss: 8.4857e-05 - val_loss: 2.5479e-04\n",
            "Epoch 43/100\n",
            "58/58 [==============================] - 8s 142ms/step - loss: 8.7073e-05 - val_loss: 2.3829e-04\n",
            "Epoch 44/100\n",
            "58/58 [==============================] - 8s 147ms/step - loss: 8.8520e-05 - val_loss: 5.7230e-04\n",
            "Epoch 45/100\n",
            "58/58 [==============================] - 9s 148ms/step - loss: 8.4407e-05 - val_loss: 3.8092e-04\n",
            "Epoch 46/100\n",
            "58/58 [==============================] - 8s 144ms/step - loss: 1.0931e-04 - val_loss: 3.5775e-04\n",
            "Epoch 47/100\n",
            "58/58 [==============================] - 9s 149ms/step - loss: 8.3614e-05 - val_loss: 2.4296e-04\n",
            "Epoch 48/100\n",
            "58/58 [==============================] - 8s 147ms/step - loss: 8.6690e-05 - val_loss: 2.2369e-04\n",
            "Epoch 49/100\n",
            "58/58 [==============================] - 8s 146ms/step - loss: 9.3140e-05 - val_loss: 2.7120e-04\n",
            "Epoch 50/100\n",
            "58/58 [==============================] - 8s 146ms/step - loss: 9.5352e-05 - val_loss: 2.4038e-04\n",
            "Epoch 51/100\n",
            "58/58 [==============================] - 8s 144ms/step - loss: 9.4837e-05 - val_loss: 3.4457e-04\n",
            "Epoch 52/100\n",
            "58/58 [==============================] - 8s 146ms/step - loss: 8.0041e-05 - val_loss: 2.7058e-04\n",
            "Epoch 53/100\n",
            "58/58 [==============================] - 9s 150ms/step - loss: 8.3656e-05 - val_loss: 2.8300e-04\n",
            "Epoch 54/100\n",
            "58/58 [==============================] - 8s 146ms/step - loss: 8.8739e-05 - val_loss: 4.0025e-04\n",
            "Epoch 55/100\n",
            "58/58 [==============================] - 8s 145ms/step - loss: 8.2675e-05 - val_loss: 2.9759e-04\n",
            "Epoch 56/100\n",
            "58/58 [==============================] - 8s 145ms/step - loss: 8.0684e-05 - val_loss: 4.0583e-04\n",
            "Epoch 57/100\n",
            "58/58 [==============================] - 9s 147ms/step - loss: 8.3482e-05 - val_loss: 2.4068e-04\n",
            "Epoch 58/100\n",
            "58/58 [==============================] - 9s 149ms/step - loss: 9.1962e-05 - val_loss: 6.7181e-04\n",
            "Epoch 59/100\n",
            "58/58 [==============================] - 8s 146ms/step - loss: 7.7957e-05 - val_loss: 5.1432e-04\n",
            "Epoch 60/100\n",
            "58/58 [==============================] - 8s 145ms/step - loss: 7.9909e-05 - val_loss: 2.4386e-04\n",
            "Epoch 61/100\n",
            "58/58 [==============================] - 9s 147ms/step - loss: 8.0408e-05 - val_loss: 2.5371e-04\n",
            "Epoch 62/100\n",
            "58/58 [==============================] - 9s 147ms/step - loss: 8.4659e-05 - val_loss: 2.9726e-04\n",
            "Epoch 63/100\n",
            "58/58 [==============================] - 9s 148ms/step - loss: 8.4875e-05 - val_loss: 5.2519e-04\n",
            "Epoch 64/100\n",
            "58/58 [==============================] - 8s 144ms/step - loss: 8.1413e-05 - val_loss: 8.5872e-04\n",
            "Epoch 65/100\n",
            "58/58 [==============================] - 9s 148ms/step - loss: 8.6891e-05 - val_loss: 6.2653e-04\n",
            "Epoch 66/100\n",
            "58/58 [==============================] - 9s 147ms/step - loss: 8.3336e-05 - val_loss: 2.8602e-04\n",
            "Epoch 67/100\n",
            "58/58 [==============================] - 9s 150ms/step - loss: 8.2458e-05 - val_loss: 3.0111e-04\n",
            "Epoch 68/100\n",
            "58/58 [==============================] - 9s 149ms/step - loss: 9.7952e-05 - val_loss: 3.9716e-04\n",
            "Epoch 69/100\n",
            "58/58 [==============================] - 8s 145ms/step - loss: 8.5170e-05 - val_loss: 5.6703e-04\n",
            "Epoch 70/100\n",
            "58/58 [==============================] - 9s 148ms/step - loss: 7.9954e-05 - val_loss: 2.6462e-04\n",
            "Epoch 71/100\n",
            "58/58 [==============================] - 8s 144ms/step - loss: 7.6532e-05 - val_loss: 2.7149e-04\n",
            "Epoch 72/100\n",
            "58/58 [==============================] - 8s 145ms/step - loss: 7.5313e-05 - val_loss: 4.3555e-04\n",
            "Epoch 73/100\n",
            "58/58 [==============================] - 8s 145ms/step - loss: 7.4568e-05 - val_loss: 4.3998e-04\n",
            "Epoch 74/100\n",
            "58/58 [==============================] - 9s 151ms/step - loss: 8.4052e-05 - val_loss: 0.0013\n",
            "Epoch 75/100\n",
            "58/58 [==============================] - 9s 148ms/step - loss: 8.7640e-05 - val_loss: 5.9020e-04\n",
            "Epoch 76/100\n",
            "58/58 [==============================] - 8s 146ms/step - loss: 8.0997e-05 - val_loss: 6.6177e-04\n",
            "Epoch 77/100\n",
            "58/58 [==============================] - 8s 145ms/step - loss: 7.4860e-05 - val_loss: 4.0747e-04\n",
            "Epoch 78/100\n",
            "58/58 [==============================] - 9s 148ms/step - loss: 7.8763e-05 - val_loss: 3.3949e-04\n",
            "Epoch 79/100\n",
            "58/58 [==============================] - 8s 145ms/step - loss: 9.0782e-05 - val_loss: 3.2326e-04\n",
            "Epoch 80/100\n",
            "58/58 [==============================] - 9s 148ms/step - loss: 7.6019e-05 - val_loss: 4.9489e-04\n",
            "Epoch 81/100\n",
            "58/58 [==============================] - 9s 149ms/step - loss: 7.3222e-05 - val_loss: 8.3714e-04\n",
            "Epoch 82/100\n",
            "58/58 [==============================] - 8s 143ms/step - loss: 7.3342e-05 - val_loss: 4.1568e-04\n",
            "Epoch 83/100\n",
            "58/58 [==============================] - 8s 143ms/step - loss: 7.5320e-05 - val_loss: 3.9949e-04\n",
            "Epoch 84/100\n",
            "58/58 [==============================] - 8s 142ms/step - loss: 7.8072e-05 - val_loss: 4.8431e-04\n",
            "Epoch 85/100\n",
            "58/58 [==============================] - 8s 140ms/step - loss: 7.0319e-05 - val_loss: 6.9767e-04\n",
            "Epoch 86/100\n",
            "58/58 [==============================] - 8s 142ms/step - loss: 9.2900e-05 - val_loss: 4.9914e-04\n",
            "Epoch 87/100\n",
            "58/58 [==============================] - 8s 146ms/step - loss: 7.8861e-05 - val_loss: 6.1033e-04\n",
            "Epoch 88/100\n",
            "58/58 [==============================] - 8s 139ms/step - loss: 7.2202e-05 - val_loss: 5.2714e-04\n",
            "Epoch 89/100\n",
            "58/58 [==============================] - 8s 143ms/step - loss: 7.4781e-05 - val_loss: 4.4812e-04\n",
            "Epoch 90/100\n",
            "58/58 [==============================] - 9s 149ms/step - loss: 7.6218e-05 - val_loss: 9.2413e-04\n",
            "Epoch 91/100\n",
            "58/58 [==============================] - 8s 146ms/step - loss: 7.0186e-05 - val_loss: 5.7311e-04\n",
            "Epoch 92/100\n",
            "58/58 [==============================] - 8s 143ms/step - loss: 7.2827e-05 - val_loss: 4.3342e-04\n",
            "Epoch 93/100\n",
            "58/58 [==============================] - 8s 142ms/step - loss: 9.3363e-05 - val_loss: 6.7746e-04\n",
            "Epoch 94/100\n",
            "58/58 [==============================] - 8s 144ms/step - loss: 7.2818e-05 - val_loss: 5.1229e-04\n",
            "Epoch 95/100\n",
            "58/58 [==============================] - 8s 144ms/step - loss: 7.3399e-05 - val_loss: 5.4753e-04\n",
            "Epoch 96/100\n",
            "58/58 [==============================] - 8s 140ms/step - loss: 7.1119e-05 - val_loss: 9.9475e-04\n",
            "Epoch 97/100\n",
            "58/58 [==============================] - 8s 140ms/step - loss: 7.1393e-05 - val_loss: 4.9541e-04\n",
            "Epoch 98/100\n",
            "58/58 [==============================] - 8s 142ms/step - loss: 7.0094e-05 - val_loss: 5.2778e-04\n",
            "Epoch 99/100\n",
            "58/58 [==============================] - 9s 150ms/step - loss: 8.5225e-05 - val_loss: 9.2407e-04\n",
            "Epoch 100/100\n",
            "58/58 [==============================] - 9s 149ms/step - loss: 7.4650e-05 - val_loss: 5.8392e-04\n"
          ]
        },
        {
          "output_type": "execute_result",
          "data": {
            "text/plain": [
              "<keras.callbacks.History at 0x7f9984a49690>"
            ]
          },
          "metadata": {},
          "execution_count": 21
        }
      ],
      "source": [
        "model.fit(X_train,y_train,validation_data=(X_test,ytest),epochs=100,batch_size=64,verbose=1)"
      ]
    },
    {
      "cell_type": "code",
      "execution_count": null,
      "id": "51779dd0",
      "metadata": {
        "id": "51779dd0"
      },
      "outputs": [],
      "source": [
        "train_predict=model.predict(X_train)\n",
        "test_predict=model.predict(X_test)"
      ]
    },
    {
      "cell_type": "code",
      "execution_count": null,
      "id": "ff56d6dd",
      "metadata": {
        "id": "ff56d6dd"
      },
      "outputs": [],
      "source": [
        "##Transformback to original form\n",
        "train_predict=scaler.inverse_transform(train_predict)\n",
        "test_predict=scaler.inverse_transform(test_predict)"
      ]
    },
    {
      "cell_type": "code",
      "execution_count": null,
      "id": "9b9c250e",
      "metadata": {
        "colab": {
          "base_uri": "https://localhost:8080/"
        },
        "id": "9b9c250e",
        "outputId": "b9da682a-53f0-4d67-8b85-cff9ac8f99b1"
      },
      "outputs": [
        {
          "output_type": "execute_result",
          "data": {
            "text/plain": [
              "133.0629765377585"
            ]
          },
          "metadata": {},
          "execution_count": 24
        }
      ],
      "source": [
        "import math\n",
        "from sklearn.metrics import mean_squared_error\n",
        "math.sqrt(mean_squared_error(y_train,train_predict))"
      ]
    },
    {
      "cell_type": "code",
      "execution_count": null,
      "id": "2e3ea80c",
      "metadata": {
        "colab": {
          "base_uri": "https://localhost:8080/"
        },
        "id": "2e3ea80c",
        "outputId": "9d593482-96ae-4d33-ef35-08c5f4f7058e"
      },
      "outputs": [
        {
          "output_type": "execute_result",
          "data": {
            "text/plain": [
              "232.01761759750514"
            ]
          },
          "metadata": {},
          "execution_count": 25
        }
      ],
      "source": [
        "math.sqrt(mean_squared_error(ytest,test_predict))"
      ]
    },
    {
      "cell_type": "code",
      "execution_count": null,
      "id": "b82a3ef8",
      "metadata": {
        "colab": {
          "base_uri": "https://localhost:8080/",
          "height": 265
        },
        "id": "b82a3ef8",
        "outputId": "d7bdd256-0f70-4999-8a09-9f8ebd948e29"
      },
      "outputs": [
        {
          "output_type": "display_data",
          "data": {
            "image/png": "[encoded data removed]",
            "text/plain": [
              "<Figure size 432x288 with 1 Axes>"
            ]
          },
          "metadata": {
            "needs_background": "light"
          }
        }
      ],
      "source": [
        "### Plotting \n",
        "# shift train predictions for plotting\n",
        "look_back=50\n",
        "trainPredictPlot = numpy.empty_like(df1)\n",
        "trainPredictPlot[:, :] = np.nan\n",
        "trainPredictPlot[look_back:len(train_predict)+look_back, :] = train_predict\n",
        "# shift test predictions for plotting\n",
        "testPredictPlot = numpy.empty_like(df1)\n",
        "testPredictPlot[:, :] = numpy.nan\n",
        "testPredictPlot[len(train_predict)+(look_back*2)+1:len(df1)-1, :] = test_predict\n",
        "# plot baseline and predictions\n",
        "plt.plot(scaler.inverse_transform(df1))\n",
        "plt.plot(trainPredictPlot)\n",
        "plt.plot(testPredictPlot)\n",
        "plt.show()"
      ]
    },
    {
      "cell_type": "code",
      "execution_count": null,
      "id": "556c358a",
      "metadata": {
        "colab": {
          "base_uri": "https://localhost:8080/"
        },
        "id": "556c358a",
        "outputId": "63e20ac9-598f-4d74-a7af-e72ee5ee73ed"
      },
      "outputs": [
        {
          "output_type": "execute_result",
          "data": {
            "text/plain": [
              "2011"
            ]
          },
          "metadata": {},
          "execution_count": 27
        }
      ],
      "source": [
        "len(test_data)"
      ]
    },
    {
      "cell_type": "code",
      "execution_count": null,
      "id": "a69a38e5",
      "metadata": {
        "colab": {
          "base_uri": "https://localhost:8080/"
        },
        "id": "a69a38e5",
        "outputId": "94a5fdcd-462f-4e2c-bbf5-c19c87547243"
      },
      "outputs": [
        {
          "output_type": "execute_result",
          "data": {
            "text/plain": [
              "(1, 50)"
            ]
          },
          "metadata": {},
          "execution_count": 28
        }
      ],
      "source": [
        "x_input=test_data[1961:].reshape(1,-1)\n",
        "x_input.shape"
      ]
    },
    {
      "cell_type": "code",
      "execution_count": null,
      "id": "ab7a7eef",
      "metadata": {
        "id": "ab7a7eef"
      },
      "outputs": [],
      "source": [
        "temp_input=list(x_input)\n",
        "temp_input=temp_input[0].tolist()"
      ]
    },
    {
      "cell_type": "code",
      "execution_count": null,
      "id": "0c35b621",
      "metadata": {
        "colab": {
          "base_uri": "https://localhost:8080/"
        },
        "id": "0c35b621",
        "outputId": "670c9c5d-4a3e-43e2-de48-e9776ae7cca1"
      },
      "outputs": [
        {
          "output_type": "stream",
          "name": "stdout",
          "text": [
            "[0.7605975]\n",
            "51\n",
            "1 day input [0.92878846 0.88691672 0.85951319 0.88293667 0.88834202 0.89562997\n",
            " 0.90369774 0.90254129 0.89874951 0.89692076 0.88893366 0.92330236\n",
            " 0.95597689 0.93217695 0.92760518 0.929165   0.93362917 0.94406342\n",
            " 0.90980232 0.91112003 0.884604   0.81323111 0.79419121 0.79628883\n",
            " 0.78502084 0.78362246 0.77867415 0.78171302 0.77727577 0.79335755\n",
            " 0.8139841  0.83920934 0.83652008 0.82527901 0.84872933 0.85020839\n",
            " 0.85545247 0.86736586 0.85671642 0.83652008 0.82893636 0.83888664\n",
            " 0.82842539 0.79887049 0.79074897 0.78598893 0.77770606 0.7750168\n",
            " 0.8017211  0.76059753]\n",
            "1 day output [[0.73302263]]\n",
            "2 day input [0.88691672 0.85951319 0.88293667 0.88834202 0.89562997 0.90369774\n",
            " 0.90254129 0.89874951 0.89692076 0.88893366 0.92330236 0.95597689\n",
            " 0.93217695 0.92760518 0.929165   0.93362917 0.94406342 0.90980232\n",
            " 0.91112003 0.884604   0.81323111 0.79419121 0.79628883 0.78502084\n",
            " 0.78362246 0.77867415 0.78171302 0.77727577 0.79335755 0.8139841\n",
            " 0.83920934 0.83652008 0.82527901 0.84872933 0.85020839 0.85545247\n",
            " 0.86736586 0.85671642 0.83652008 0.82893636 0.83888664 0.82842539\n",
            " 0.79887049 0.79074897 0.78598893 0.77770606 0.7750168  0.8017211\n",
            " 0.76059753 0.73302263]\n",
            "2 day output [[0.71344703]]\n",
            "3 day input [0.85951319 0.88293667 0.88834202 0.89562997 0.90369774 0.90254129\n",
            " 0.89874951 0.89692076 0.88893366 0.92330236 0.95597689 0.93217695\n",
            " 0.92760518 0.929165   0.93362917 0.94406342 0.90980232 0.91112003\n",
            " 0.884604   0.81323111 0.79419121 0.79628883 0.78502084 0.78362246\n",
            " 0.77867415 0.78171302 0.77727577 0.79335755 0.8139841  0.83920934\n",
            " 0.83652008 0.82527901 0.84872933 0.85020839 0.85545247 0.86736586\n",
            " 0.85671642 0.83652008 0.82893636 0.83888664 0.82842539 0.79887049\n",
            " 0.79074897 0.78598893 0.77770606 0.7750168  0.8017211  0.76059753\n",
            " 0.73302263 0.71344703]\n",
            "3 day output [[0.6955332]]\n",
            "4 day input [0.88293667 0.88834202 0.89562997 0.90369774 0.90254129 0.89874951\n",
            " 0.89692076 0.88893366 0.92330236 0.95597689 0.93217695 0.92760518\n",
            " 0.929165   0.93362917 0.94406342 0.90980232 0.91112003 0.884604\n",
            " 0.81323111 0.79419121 0.79628883 0.78502084 0.78362246 0.77867415\n",
            " 0.78171302 0.77727577 0.79335755 0.8139841  0.83920934 0.83652008\n",
            " 0.82527901 0.84872933 0.85020839 0.85545247 0.86736586 0.85671642\n",
            " 0.83652008 0.82893636 0.83888664 0.82842539 0.79887049 0.79074897\n",
            " 0.78598893 0.77770606 0.7750168  0.8017211  0.76059753 0.73302263\n",
            " 0.71344703 0.69553322]\n",
            "4 day output [[0.680773]]\n",
            "5 day input [0.88834202 0.89562997 0.90369774 0.90254129 0.89874951 0.89692076\n",
            " 0.88893366 0.92330236 0.95597689 0.93217695 0.92760518 0.929165\n",
            " 0.93362917 0.94406342 0.90980232 0.91112003 0.884604   0.81323111\n",
            " 0.79419121 0.79628883 0.78502084 0.78362246 0.77867415 0.78171302\n",
            " 0.77727577 0.79335755 0.8139841  0.83920934 0.83652008 0.82527901\n",
            " 0.84872933 0.85020839 0.85545247 0.86736586 0.85671642 0.83652008\n",
            " 0.82893636 0.83888664 0.82842539 0.79887049 0.79074897 0.78598893\n",
            " 0.77770606 0.7750168  0.8017211  0.76059753 0.73302263 0.71344703\n",
            " 0.69553322 0.68077302]\n",
            "5 day output [[0.66785103]]\n",
            "6 day input [0.89562997 0.90369774 0.90254129 0.89874951 0.89692076 0.88893366\n",
            " 0.92330236 0.95597689 0.93217695 0.92760518 0.929165   0.93362917\n",
            " 0.94406342 0.90980232 0.91112003 0.884604   0.81323111 0.79419121\n",
            " 0.79628883 0.78502084 0.78362246 0.77867415 0.78171302 0.77727577\n",
            " 0.79335755 0.8139841  0.83920934 0.83652008 0.82527901 0.84872933\n",
            " 0.85020839 0.85545247 0.86736586 0.85671642 0.83652008 0.82893636\n",
            " 0.83888664 0.82842539 0.79887049 0.79074897 0.78598893 0.77770606\n",
            " 0.7750168  0.8017211  0.76059753 0.73302263 0.71344703 0.69553322\n",
            " 0.68077302 0.66785103]\n",
            "6 day output [[0.65634465]]\n",
            "7 day input [0.90369774 0.90254129 0.89874951 0.89692076 0.88893366 0.92330236\n",
            " 0.95597689 0.93217695 0.92760518 0.929165   0.93362917 0.94406342\n",
            " 0.90980232 0.91112003 0.884604   0.81323111 0.79419121 0.79628883\n",
            " 0.78502084 0.78362246 0.77867415 0.78171302 0.77727577 0.79335755\n",
            " 0.8139841  0.83920934 0.83652008 0.82527901 0.84872933 0.85020839\n",
            " 0.85545247 0.86736586 0.85671642 0.83652008 0.82893636 0.83888664\n",
            " 0.82842539 0.79887049 0.79074897 0.78598893 0.77770606 0.7750168\n",
            " 0.8017211  0.76059753 0.73302263 0.71344703 0.69553322 0.68077302\n",
            " 0.66785103 0.65634465]\n",
            "7 day output [[0.6458113]]\n",
            "8 day input [0.90254129 0.89874951 0.89692076 0.88893366 0.92330236 0.95597689\n",
            " 0.93217695 0.92760518 0.929165   0.93362917 0.94406342 0.90980232\n",
            " 0.91112003 0.884604   0.81323111 0.79419121 0.79628883 0.78502084\n",
            " 0.78362246 0.77867415 0.78171302 0.77727577 0.79335755 0.8139841\n",
            " 0.83920934 0.83652008 0.82527901 0.84872933 0.85020839 0.85545247\n",
            " 0.86736586 0.85671642 0.83652008 0.82893636 0.83888664 0.82842539\n",
            " 0.79887049 0.79074897 0.78598893 0.77770606 0.7750168  0.8017211\n",
            " 0.76059753 0.73302263 0.71344703 0.69553322 0.68077302 0.66785103\n",
            " 0.65634465 0.64581132]\n",
            "8 day output [[0.6360065]]\n",
            "9 day input [0.89874951 0.89692076 0.88893366 0.92330236 0.95597689 0.93217695\n",
            " 0.92760518 0.929165   0.93362917 0.94406342 0.90980232 0.91112003\n",
            " 0.884604   0.81323111 0.79419121 0.79628883 0.78502084 0.78362246\n",
            " 0.77867415 0.78171302 0.77727577 0.79335755 0.8139841  0.83920934\n",
            " 0.83652008 0.82527901 0.84872933 0.85020839 0.85545247 0.86736586\n",
            " 0.85671642 0.83652008 0.82893636 0.83888664 0.82842539 0.79887049\n",
            " 0.79074897 0.78598893 0.77770606 0.7750168  0.8017211  0.76059753\n",
            " 0.73302263 0.71344703 0.69553322 0.68077302 0.66785103 0.65634465\n",
            " 0.64581132 0.63600647]\n",
            "9 day output [[0.6267778]]\n",
            "10 day input [0.89692076 0.88893366 0.92330236 0.95597689 0.93217695 0.92760518\n",
            " 0.929165   0.93362917 0.94406342 0.90980232 0.91112003 0.884604\n",
            " 0.81323111 0.79419121 0.79628883 0.78502084 0.78362246 0.77867415\n",
            " 0.78171302 0.77727577 0.79335755 0.8139841  0.83920934 0.83652008\n",
            " 0.82527901 0.84872933 0.85020839 0.85545247 0.86736586 0.85671642\n",
            " 0.83652008 0.82893636 0.83888664 0.82842539 0.79887049 0.79074897\n",
            " 0.78598893 0.77770606 0.7750168  0.8017211  0.76059753 0.73302263\n",
            " 0.71344703 0.69553322 0.68077302 0.66785103 0.65634465 0.64581132\n",
            " 0.63600647 0.62677783]\n",
            "10 day output [[0.6180444]]\n",
            "11 day input [0.88893366 0.92330236 0.95597689 0.93217695 0.92760518 0.929165\n",
            " 0.93362917 0.94406342 0.90980232 0.91112003 0.884604   0.81323111\n",
            " 0.79419121 0.79628883 0.78502084 0.78362246 0.77867415 0.78171302\n",
            " 0.77727577 0.79335755 0.8139841  0.83920934 0.83652008 0.82527901\n",
            " 0.84872933 0.85020839 0.85545247 0.86736586 0.85671642 0.83652008\n",
            " 0.82893636 0.83888664 0.82842539 0.79887049 0.79074897 0.78598893\n",
            " 0.77770606 0.7750168  0.8017211  0.76059753 0.73302263 0.71344703\n",
            " 0.69553322 0.68077302 0.66785103 0.65634465 0.64581132 0.63600647\n",
            " 0.62677783 0.61804438]\n",
            "11 day output [[0.6097645]]\n",
            "12 day input [0.92330236 0.95597689 0.93217695 0.92760518 0.929165   0.93362917\n",
            " 0.94406342 0.90980232 0.91112003 0.884604   0.81323111 0.79419121\n",
            " 0.79628883 0.78502084 0.78362246 0.77867415 0.78171302 0.77727577\n",
            " 0.79335755 0.8139841  0.83920934 0.83652008 0.82527901 0.84872933\n",
            " 0.85020839 0.85545247 0.86736586 0.85671642 0.83652008 0.82893636\n",
            " 0.83888664 0.82842539 0.79887049 0.79074897 0.78598893 0.77770606\n",
            " 0.7750168  0.8017211  0.76059753 0.73302263 0.71344703 0.69553322\n",
            " 0.68077302 0.66785103 0.65634465 0.64581132 0.63600647 0.62677783\n",
            " 0.61804438 0.60976452]\n",
            "12 day output [[0.60191685]]\n",
            "13 day input [0.95597689 0.93217695 0.92760518 0.929165   0.93362917 0.94406342\n",
            " 0.90980232 0.91112003 0.884604   0.81323111 0.79419121 0.79628883\n",
            " 0.78502084 0.78362246 0.77867415 0.78171302 0.77727577 0.79335755\n",
            " 0.8139841  0.83920934 0.83652008 0.82527901 0.84872933 0.85020839\n",
            " 0.85545247 0.86736586 0.85671642 0.83652008 0.82893636 0.83888664\n",
            " 0.82842539 0.79887049 0.79074897 0.78598893 0.77770606 0.7750168\n",
            " 0.8017211  0.76059753 0.73302263 0.71344703 0.69553322 0.68077302\n",
            " 0.66785103 0.65634465 0.64581132 0.63600647 0.62677783 0.61804438\n",
            " 0.60976452 0.60191685]\n",
            "13 day output [[0.59448934]]\n",
            "14 day input [0.93217695 0.92760518 0.929165   0.93362917 0.94406342 0.90980232\n",
            " 0.91112003 0.884604   0.81323111 0.79419121 0.79628883 0.78502084\n",
            " 0.78362246 0.77867415 0.78171302 0.77727577 0.79335755 0.8139841\n",
            " 0.83920934 0.83652008 0.82527901 0.84872933 0.85020839 0.85545247\n",
            " 0.86736586 0.85671642 0.83652008 0.82893636 0.83888664 0.82842539\n",
            " 0.79887049 0.79074897 0.78598893 0.77770606 0.7750168  0.8017211\n",
            " 0.76059753 0.73302263 0.71344703 0.69553322 0.68077302 0.66785103\n",
            " 0.65634465 0.64581132 0.63600647 0.62677783 0.61804438 0.60976452\n",
            " 0.60191685 0.59448934]\n",
            "14 day output [[0.5874727]]\n",
            "15 day input [0.92760518 0.929165   0.93362917 0.94406342 0.90980232 0.91112003\n",
            " 0.884604   0.81323111 0.79419121 0.79628883 0.78502084 0.78362246\n",
            " 0.77867415 0.78171302 0.77727577 0.79335755 0.8139841  0.83920934\n",
            " 0.83652008 0.82527901 0.84872933 0.85020839 0.85545247 0.86736586\n",
            " 0.85671642 0.83652008 0.82893636 0.83888664 0.82842539 0.79887049\n",
            " 0.79074897 0.78598893 0.77770606 0.7750168  0.8017211  0.76059753\n",
            " 0.73302263 0.71344703 0.69553322 0.68077302 0.66785103 0.65634465\n",
            " 0.64581132 0.63600647 0.62677783 0.61804438 0.60976452 0.60191685\n",
            " 0.59448934 0.58747268]\n",
            "15 day output [[0.58085585]]\n",
            "16 day input [0.929165   0.93362917 0.94406342 0.90980232 0.91112003 0.884604\n",
            " 0.81323111 0.79419121 0.79628883 0.78502084 0.78362246 0.77867415\n",
            " 0.78171302 0.77727577 0.79335755 0.8139841  0.83920934 0.83652008\n",
            " 0.82527901 0.84872933 0.85020839 0.85545247 0.86736586 0.85671642\n",
            " 0.83652008 0.82893636 0.83888664 0.82842539 0.79887049 0.79074897\n",
            " 0.78598893 0.77770606 0.7750168  0.8017211  0.76059753 0.73302263\n",
            " 0.71344703 0.69553322 0.68077302 0.66785103 0.65634465 0.64581132\n",
            " 0.63600647 0.62677783 0.61804438 0.60976452 0.60191685 0.59448934\n",
            " 0.58747268 0.58085585]\n",
            "16 day output [[0.57462734]]\n",
            "17 day input [0.93362917 0.94406342 0.90980232 0.91112003 0.884604   0.81323111\n",
            " 0.79419121 0.79628883 0.78502084 0.78362246 0.77867415 0.78171302\n",
            " 0.77727577 0.79335755 0.8139841  0.83920934 0.83652008 0.82527901\n",
            " 0.84872933 0.85020839 0.85545247 0.86736586 0.85671642 0.83652008\n",
            " 0.82893636 0.83888664 0.82842539 0.79887049 0.79074897 0.78598893\n",
            " 0.77770606 0.7750168  0.8017211  0.76059753 0.73302263 0.71344703\n",
            " 0.69553322 0.68077302 0.66785103 0.65634465 0.64581132 0.63600647\n",
            " 0.62677783 0.61804438 0.60976452 0.60191685 0.59448934 0.58747268\n",
            " 0.58085585 0.57462734]\n",
            "17 day output [[0.56877327]]\n",
            "18 day input [0.94406342 0.90980232 0.91112003 0.884604   0.81323111 0.79419121\n",
            " 0.79628883 0.78502084 0.78362246 0.77867415 0.78171302 0.77727577\n",
            " 0.79335755 0.8139841  0.83920934 0.83652008 0.82527901 0.84872933\n",
            " 0.85020839 0.85545247 0.86736586 0.85671642 0.83652008 0.82893636\n",
            " 0.83888664 0.82842539 0.79887049 0.79074897 0.78598893 0.77770606\n",
            " 0.7750168  0.8017211  0.76059753 0.73302263 0.71344703 0.69553322\n",
            " 0.68077302 0.66785103 0.65634465 0.64581132 0.63600647 0.62677783\n",
            " 0.61804438 0.60976452 0.60191685 0.59448934 0.58747268 0.58085585\n",
            " 0.57462734 0.56877327]\n",
            "18 day output [[0.56327903]]\n",
            "19 day input [0.90980232 0.91112003 0.884604   0.81323111 0.79419121 0.79628883\n",
            " 0.78502084 0.78362246 0.77867415 0.78171302 0.77727577 0.79335755\n",
            " 0.8139841  0.83920934 0.83652008 0.82527901 0.84872933 0.85020839\n",
            " 0.85545247 0.86736586 0.85671642 0.83652008 0.82893636 0.83888664\n",
            " 0.82842539 0.79887049 0.79074897 0.78598893 0.77770606 0.7750168\n",
            " 0.8017211  0.76059753 0.73302263 0.71344703 0.69553322 0.68077302\n",
            " 0.66785103 0.65634465 0.64581132 0.63600647 0.62677783 0.61804438\n",
            " 0.60976452 0.60191685 0.59448934 0.58747268 0.58085585 0.57462734\n",
            " 0.56877327 0.56327903]\n",
            "19 day output [[0.5581286]]\n",
            "20 day input [0.91112003 0.884604   0.81323111 0.79419121 0.79628883 0.78502084\n",
            " 0.78362246 0.77867415 0.78171302 0.77727577 0.79335755 0.8139841\n",
            " 0.83920934 0.83652008 0.82527901 0.84872933 0.85020839 0.85545247\n",
            " 0.86736586 0.85671642 0.83652008 0.82893636 0.83888664 0.82842539\n",
            " 0.79887049 0.79074897 0.78598893 0.77770606 0.7750168  0.8017211\n",
            " 0.76059753 0.73302263 0.71344703 0.69553322 0.68077302 0.66785103\n",
            " 0.65634465 0.64581132 0.63600647 0.62677783 0.61804438 0.60976452\n",
            " 0.60191685 0.59448934 0.58747268 0.58085585 0.57462734 0.56877327\n",
            " 0.56327903 0.5581286 ]\n",
            "20 day output [[0.5533059]]\n",
            "21 day input [0.884604   0.81323111 0.79419121 0.79628883 0.78502084 0.78362246\n",
            " 0.77867415 0.78171302 0.77727577 0.79335755 0.8139841  0.83920934\n",
            " 0.83652008 0.82527901 0.84872933 0.85020839 0.85545247 0.86736586\n",
            " 0.85671642 0.83652008 0.82893636 0.83888664 0.82842539 0.79887049\n",
            " 0.79074897 0.78598893 0.77770606 0.7750168  0.8017211  0.76059753\n",
            " 0.73302263 0.71344703 0.69553322 0.68077302 0.66785103 0.65634465\n",
            " 0.64581132 0.63600647 0.62677783 0.61804438 0.60976452 0.60191685\n",
            " 0.59448934 0.58747268 0.58085585 0.57462734 0.56877327 0.56327903\n",
            " 0.5581286  0.55330592]\n",
            "21 day output [[0.5487942]]\n",
            "22 day input [0.81323111 0.79419121 0.79628883 0.78502084 0.78362246 0.77867415\n",
            " 0.78171302 0.77727577 0.79335755 0.8139841  0.83920934 0.83652008\n",
            " 0.82527901 0.84872933 0.85020839 0.85545247 0.86736586 0.85671642\n",
            " 0.83652008 0.82893636 0.83888664 0.82842539 0.79887049 0.79074897\n",
            " 0.78598893 0.77770606 0.7750168  0.8017211  0.76059753 0.73302263\n",
            " 0.71344703 0.69553322 0.68077302 0.66785103 0.65634465 0.64581132\n",
            " 0.63600647 0.62677783 0.61804438 0.60976452 0.60191685 0.59448934\n",
            " 0.58747268 0.58085585 0.57462734 0.56877327 0.56327903 0.5581286\n",
            " 0.55330592 0.54879421]\n",
            "22 day output [[0.5445773]]\n",
            "23 day input [0.79419121 0.79628883 0.78502084 0.78362246 0.77867415 0.78171302\n",
            " 0.77727577 0.79335755 0.8139841  0.83920934 0.83652008 0.82527901\n",
            " 0.84872933 0.85020839 0.85545247 0.86736586 0.85671642 0.83652008\n",
            " 0.82893636 0.83888664 0.82842539 0.79887049 0.79074897 0.78598893\n",
            " 0.77770606 0.7750168  0.8017211  0.76059753 0.73302263 0.71344703\n",
            " 0.69553322 0.68077302 0.66785103 0.65634465 0.64581132 0.63600647\n",
            " 0.62677783 0.61804438 0.60976452 0.60191685 0.59448934 0.58747268\n",
            " 0.58085585 0.57462734 0.56877327 0.56327903 0.5581286  0.55330592\n",
            " 0.54879421 0.5445773 ]\n",
            "23 day output [[0.54063916]]\n",
            "24 day input [0.79628883 0.78502084 0.78362246 0.77867415 0.78171302 0.77727577\n",
            " 0.79335755 0.8139841  0.83920934 0.83652008 0.82527901 0.84872933\n",
            " 0.85020839 0.85545247 0.86736586 0.85671642 0.83652008 0.82893636\n",
            " 0.83888664 0.82842539 0.79887049 0.79074897 0.78598893 0.77770606\n",
            " 0.7750168  0.8017211  0.76059753 0.73302263 0.71344703 0.69553322\n",
            " 0.68077302 0.66785103 0.65634465 0.64581132 0.63600647 0.62677783\n",
            " 0.61804438 0.60976452 0.60191685 0.59448934 0.58747268 0.58085585\n",
            " 0.57462734 0.56877327 0.56327903 0.5581286  0.55330592 0.54879421\n",
            " 0.5445773  0.54063916]\n",
            "24 day output [[0.5369644]]\n",
            "25 day input [0.78502084 0.78362246 0.77867415 0.78171302 0.77727577 0.79335755\n",
            " 0.8139841  0.83920934 0.83652008 0.82527901 0.84872933 0.85020839\n",
            " 0.85545247 0.86736586 0.85671642 0.83652008 0.82893636 0.83888664\n",
            " 0.82842539 0.79887049 0.79074897 0.78598893 0.77770606 0.7750168\n",
            " 0.8017211  0.76059753 0.73302263 0.71344703 0.69553322 0.68077302\n",
            " 0.66785103 0.65634465 0.64581132 0.63600647 0.62677783 0.61804438\n",
            " 0.60976452 0.60191685 0.59448934 0.58747268 0.58085585 0.57462734\n",
            " 0.56877327 0.56327903 0.5581286  0.55330592 0.54879421 0.5445773\n",
            " 0.54063916 0.53696442]\n",
            "25 day output [[0.53353816]]\n",
            "26 day input [0.78362246 0.77867415 0.78171302 0.77727577 0.79335755 0.8139841\n",
            " 0.83920934 0.83652008 0.82527901 0.84872933 0.85020839 0.85545247\n",
            " 0.86736586 0.85671642 0.83652008 0.82893636 0.83888664 0.82842539\n",
            " 0.79887049 0.79074897 0.78598893 0.77770606 0.7750168  0.8017211\n",
            " 0.76059753 0.73302263 0.71344703 0.69553322 0.68077302 0.66785103\n",
            " 0.65634465 0.64581132 0.63600647 0.62677783 0.61804438 0.60976452\n",
            " 0.60191685 0.59448934 0.58747268 0.58085585 0.57462734 0.56877327\n",
            " 0.56327903 0.5581286  0.55330592 0.54879421 0.5445773  0.54063916\n",
            " 0.53696442 0.53353816]\n",
            "26 day output [[0.53034663]]\n",
            "27 day input [0.77867415 0.78171302 0.77727577 0.79335755 0.8139841  0.83920934\n",
            " 0.83652008 0.82527901 0.84872933 0.85020839 0.85545247 0.86736586\n",
            " 0.85671642 0.83652008 0.82893636 0.83888664 0.82842539 0.79887049\n",
            " 0.79074897 0.78598893 0.77770606 0.7750168  0.8017211  0.76059753\n",
            " 0.73302263 0.71344703 0.69553322 0.68077302 0.66785103 0.65634465\n",
            " 0.64581132 0.63600647 0.62677783 0.61804438 0.60976452 0.60191685\n",
            " 0.59448934 0.58747268 0.58085585 0.57462734 0.56877327 0.56327903\n",
            " 0.5581286  0.55330592 0.54879421 0.5445773  0.54063916 0.53696442\n",
            " 0.53353816 0.53034663]\n",
            "27 day output [[0.5273757]]\n",
            "28 day input [0.78171302 0.77727577 0.79335755 0.8139841  0.83920934 0.83652008\n",
            " 0.82527901 0.84872933 0.85020839 0.85545247 0.86736586 0.85671642\n",
            " 0.83652008 0.82893636 0.83888664 0.82842539 0.79887049 0.79074897\n",
            " 0.78598893 0.77770606 0.7750168  0.8017211  0.76059753 0.73302263\n",
            " 0.71344703 0.69553322 0.68077302 0.66785103 0.65634465 0.64581132\n",
            " 0.63600647 0.62677783 0.61804438 0.60976452 0.60191685 0.59448934\n",
            " 0.58747268 0.58085585 0.57462734 0.56877327 0.56327903 0.5581286\n",
            " 0.55330592 0.54879421 0.5445773  0.54063916 0.53696442 0.53353816\n",
            " 0.53034663 0.5273757 ]\n",
            "28 day output [[0.52461255]]\n",
            "29 day input [0.77727577 0.79335755 0.8139841  0.83920934 0.83652008 0.82527901\n",
            " 0.84872933 0.85020839 0.85545247 0.86736586 0.85671642 0.83652008\n",
            " 0.82893636 0.83888664 0.82842539 0.79887049 0.79074897 0.78598893\n",
            " 0.77770606 0.7750168  0.8017211  0.76059753 0.73302263 0.71344703\n",
            " 0.69553322 0.68077302 0.66785103 0.65634465 0.64581132 0.63600647\n",
            " 0.62677783 0.61804438 0.60976452 0.60191685 0.59448934 0.58747268\n",
            " 0.58085585 0.57462734 0.56877327 0.56327903 0.5581286  0.55330592\n",
            " 0.54879421 0.5445773  0.54063916 0.53696442 0.53353816 0.53034663\n",
            " 0.5273757  0.52461255]\n",
            "29 day output [[0.52204454]]\n",
            "[[0.7605975270271301], [0.7330226302146912], [0.7134470343589783], [0.6955332159996033], [0.6807730197906494], [0.6678510308265686], [0.6563446521759033], [0.6458113193511963], [0.6360064744949341], [0.6267778277397156], [0.618044376373291], [0.6097645163536072], [0.6019168496131897], [0.594489336013794], [0.587472677230835], [0.5808558464050293], [0.5746273398399353], [0.5687732696533203], [0.5632790327072144], [0.5581285953521729], [0.5533059239387512], [0.5487942099571228], [0.5445773005485535], [0.5406391620635986], [0.5369644165039062], [0.5335381627082825], [0.5303466320037842], [0.5273756980895996], [0.524612545967102], [0.5220445394515991]]\n"
          ]
        }
      ],
      "source": [
        "# demonstrate prediction for next 10 days\n",
        "from numpy import array\n",
        "\n",
        "lst_output=[]\n",
        "n_steps=50\n",
        "i=0\n",
        "while(i<30):\n",
        "    \n",
        "    if(len(temp_input)>50):\n",
        "        #print(temp_input)\n",
        "        x_input=np.array(temp_input[1:])\n",
        "        print(\"{} day input {}\".format(i,x_input))\n",
        "        x_input=x_input.reshape(1,-1)\n",
        "        x_input = x_input.reshape((1, n_steps, 1))\n",
        "        #print(x_input)\n",
        "        yhat = model.predict(x_input, verbose=0)\n",
        "        print(\"{} day output {}\".format(i,yhat))\n",
        "        temp_input.extend(yhat[0].tolist())\n",
        "        temp_input=temp_input[1:]\n",
        "        #print(temp_input)\n",
        "        lst_output.extend(yhat.tolist())\n",
        "        i=i+1\n",
        "    else:\n",
        "        x_input = x_input.reshape((1, n_steps,1))\n",
        "        yhat = model.predict(x_input, verbose=0)\n",
        "        print(yhat[0])\n",
        "        temp_input.extend(yhat[0].tolist())\n",
        "        print(len(temp_input))\n",
        "        lst_output.extend(yhat.tolist())\n",
        "        i=i+1\n",
        "    \n",
        "\n",
        "print(lst_output)"
      ]
    },
    {
      "cell_type": "code",
      "execution_count": null,
      "id": "13cd7174",
      "metadata": {
        "id": "13cd7174"
      },
      "outputs": [],
      "source": [
        "day_new=np.arange(1,51)\n",
        "day_pred=np.arange(51,81)"
      ]
    },
    {
      "cell_type": "code",
      "execution_count": null,
      "id": "09305898",
      "metadata": {
        "id": "09305898"
      },
      "outputs": [],
      "source": [
        "import matplotlib.pyplot as plt"
      ]
    },
    {
      "cell_type": "code",
      "execution_count": null,
      "id": "3fe22e3e",
      "metadata": {
        "id": "3fe22e3e",
        "outputId": "2e6a4214-b408-41f0-9418-bb0df33a1ae9",
        "colab": {
          "base_uri": "https://localhost:8080/"
        }
      },
      "outputs": [
        {
          "output_type": "execute_result",
          "data": {
            "text/plain": [
              "5743"
            ]
          },
          "metadata": {},
          "execution_count": 34
        }
      ],
      "source": [
        "len(df1)"
      ]
    },
    {
      "cell_type": "code",
      "execution_count": null,
      "id": "03284fd9",
      "metadata": {
        "id": "03284fd9",
        "outputId": "e68ed5cb-7c0a-458d-eee3-cc6b9c0c501d",
        "colab": {
          "base_uri": "https://localhost:8080/",
          "height": 282
        }
      },
      "outputs": [
        {
          "output_type": "execute_result",
          "data": {
            "text/plain": [
              "[<matplotlib.lines.Line2D at 0x7f99850f05d0>]"
            ]
          },
          "metadata": {},
          "execution_count": 35
        },
        {
          "output_type": "display_data",
          "data": {
            "image/png": "[encoded data removed]",
            "text/plain": [
              "<Figure size 432x288 with 1 Axes>"
            ]
          },
          "metadata": {
            "needs_background": "light"
          }
        }
      ],
      "source": [
        "plt.plot(day_new,scaler.inverse_transform(df1[5693:]))\n",
        "plt.plot(day_pred,scaler.inverse_transform(lst_output))"
      ]
    },
    {
      "cell_type": "code",
      "execution_count": null,
      "id": "4cda76b2",
      "metadata": {
        "id": "4cda76b2",
        "outputId": "d7947e80-508d-46b6-c5eb-222cf5dd0b29",
        "colab": {
          "base_uri": "https://localhost:8080/",
          "height": 282
        }
      },
      "outputs": [
        {
          "output_type": "execute_result",
          "data": {
            "text/plain": [
              "[<matplotlib.lines.Line2D at 0x7f9985042f50>]"
            ]
          },
          "metadata": {},
          "execution_count": 36
        },
        {
          "output_type": "display_data",
          "data": {
            "image/png": "[encoded data removed]",
            "text/plain": [
              "<Figure size 432x288 with 1 Axes>"
            ]
          },
          "metadata": {
            "needs_background": "light"
          }
        }
      ],
      "source": [
        "df3=df1.tolist()\n",
        "df3.extend(lst_output)\n",
        "plt.plot(df3[1200:])"
      ]
    },
    {
      "cell_type": "code",
      "execution_count": null,
      "id": "fcec56ba",
      "metadata": {
        "id": "fcec56ba"
      },
      "outputs": [],
      "source": [
        ""
      ]
    }
  ],
  "metadata": {
    "kernelspec": {
      "display_name": "Python 3",
      "language": "python",
      "name": "python3"
    },
    "language_info": {
      "codemirror_mode": {
        "name": "ipython",
        "version": 3
      },
      "file_extension": ".py",
      "mimetype": "text/x-python",
      "name": "python",
      "nbconvert_exporter": "python",
      "pygments_lexer": "ipython3",
      "version": "3.8.8"
    },
    "colab": {
      "name": "GS-Price-Forecast.ipynb",
      "provenance": [],
      "collapsed_sections": []
    }
  },
  "nbformat": 4,
  "nbformat_minor": 5
}