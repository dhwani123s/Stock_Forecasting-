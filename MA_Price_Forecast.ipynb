{
  "cells": [
    {
      "cell_type": "code",
      "execution_count": null,
      "id": "05f01c40",
      "metadata": {
        "id": "05f01c40"
      },
      "outputs": [],
      "source": [
        "import pandas as pd\n",
        "import pandas as pd\n",
        "import numpy as np\n",
        "import keras\n",
        "import tensorflow as tf\n",
        "from keras.preprocessing.sequence import TimeseriesGenerator\n",
        "df = pd.read_csv(\"MA.csv\") "
      ]
    },
    {
      "cell_type": "code",
      "execution_count": null,
      "id": "7cfcdc60",
      "metadata": {
        "id": "7cfcdc60"
      },
      "outputs": [],
      "source": [
        "df.dropna(inplace=True)"
      ]
    },
    {
      "cell_type": "code",
      "execution_count": null,
      "id": "7ed91aa2",
      "metadata": {
        "id": "7ed91aa2"
      },
      "outputs": [],
      "source": [
        "df1=df.reset_index()['Close']"
      ]
    },
    {
      "cell_type": "code",
      "execution_count": null,
      "id": "ec40048e",
      "metadata": {
        "colab": {
          "base_uri": "https://localhost:8080/",
          "height": 282
        },
        "id": "ec40048e",
        "outputId": "8a33035e-d435-488c-a59b-8166e99a2c13"
      },
      "outputs": [
        {
          "output_type": "execute_result",
          "data": {
            "text/plain": [
              "[<matplotlib.lines.Line2D at 0x7f9b77db9dd0>]"
            ]
          },
          "metadata": {},
          "execution_count": 4
        },
        {
          "output_type": "display_data",
          "data": {
            "image/png": "[encoded data removed]",
            "text/plain": [
              "<Figure size 432x288 with 1 Axes>"
            ]
          },
          "metadata": {
            "needs_background": "light"
          }
        }
      ],
      "source": [
        "import matplotlib.pyplot as plt\n",
        "plt.plot(df1)"
      ]
    },
    {
      "cell_type": "code",
      "execution_count": null,
      "id": "dbbe204c",
      "metadata": {
        "id": "dbbe204c"
      },
      "outputs": [],
      "source": [
        "import numpy as np"
      ]
    },
    {
      "cell_type": "code",
      "execution_count": null,
      "id": "93c0cb4e",
      "metadata": {
        "id": "93c0cb4e"
      },
      "outputs": [],
      "source": [
        "from sklearn.preprocessing import MinMaxScaler\n",
        "scaler=MinMaxScaler(feature_range=(0,1))\n",
        "df1=scaler.fit_transform(np.array(df1).reshape(-1,1))"
      ]
    },
    {
      "cell_type": "code",
      "execution_count": null,
      "id": "38ee7c31",
      "metadata": {
        "id": "38ee7c31"
      },
      "outputs": [],
      "source": [
        "training_size=int(len(df1)*0.65)\n",
        "test_size=len(df1)-training_size\n",
        "train_data,test_data=df1[0:training_size,:],df1[training_size:len(df1),:1]"
      ]
    },
    {
      "cell_type": "code",
      "execution_count": null,
      "id": "94fe8b6a",
      "metadata": {
        "colab": {
          "base_uri": "https://localhost:8080/"
        },
        "id": "94fe8b6a",
        "outputId": "54f397c1-b42c-4b84-db55-7b24b5c34974"
      },
      "outputs": [
        {
          "output_type": "execute_result",
          "data": {
            "text/plain": [
              "(2578, 1389)"
            ]
          },
          "metadata": {},
          "execution_count": 8
        }
      ],
      "source": [
        "training_size,test_size"
      ]
    },
    {
      "cell_type": "code",
      "execution_count": null,
      "id": "bcfb12fb",
      "metadata": {
        "colab": {
          "base_uri": "https://localhost:8080/"
        },
        "id": "bcfb12fb",
        "outputId": "a1e0d410-3d7f-42bb-d7ef-323ebfbfd8e7"
      },
      "outputs": [
        {
          "output_type": "execute_result",
          "data": {
            "text/plain": [
              "array([[5.35222755e-04],\n",
              "       [2.62514018e-04],\n",
              "       [2.54867978e-05],\n",
              "       ...,\n",
              "       [2.32439586e-01],\n",
              "       [2.31624011e-01],\n",
              "       [2.31496587e-01]])"
            ]
          },
          "metadata": {},
          "execution_count": 9
        }
      ],
      "source": [
        "train_data"
      ]
    },
    {
      "cell_type": "code",
      "execution_count": null,
      "id": "7b70d6d7",
      "metadata": {
        "id": "7b70d6d7"
      },
      "outputs": [],
      "source": [
        "import numpy\n",
        "# convert an array of values into a dataset matrix\n",
        "def create_dataset(dataset, time_step=1):\n",
        "\tdataX, dataY = [], []\n",
        "\tfor i in range(len(dataset)-time_step-1):\n",
        "\t\ta = dataset[i:(i+time_step), 0]   ###i=0, 0,1,2,3-----99   100 \n",
        "\t\tdataX.append(a)\n",
        "\t\tdataY.append(dataset[i + time_step, 0])\n",
        "\treturn numpy.array(dataX), numpy.array(dataY)"
      ]
    },
    {
      "cell_type": "code",
      "execution_count": null,
      "id": "cf0af60c",
      "metadata": {
        "id": "cf0af60c"
      },
      "outputs": [],
      "source": [
        "# reshape into X=t,t+1,t+2,t+3 and Y=t+4\n",
        "time_step = 50\n",
        "X_train, y_train = create_dataset(train_data, time_step)\n",
        "X_test, ytest = create_dataset(test_data, time_step)"
      ]
    },
    {
      "cell_type": "code",
      "execution_count": null,
      "id": "1b937a04",
      "metadata": {
        "colab": {
          "base_uri": "https://localhost:8080/"
        },
        "id": "1b937a04",
        "outputId": "03bc5f1c-fcfe-4925-b400-8110b4aa5240"
      },
      "outputs": [
        {
          "output_type": "stream",
          "name": "stdout",
          "text": [
            "(2527, 50)\n",
            "(2527,)\n"
          ]
        },
        {
          "output_type": "execute_result",
          "data": {
            "text/plain": [
              "(None, None)"
            ]
          },
          "metadata": {},
          "execution_count": 12
        }
      ],
      "source": [
        "print(X_train.shape), print(y_train.shape)"
      ]
    },
    {
      "cell_type": "code",
      "execution_count": null,
      "id": "63f4efe5",
      "metadata": {
        "colab": {
          "base_uri": "https://localhost:8080/"
        },
        "id": "63f4efe5",
        "outputId": "7f3aa171-d405-47ee-a142-dec715ae7577"
      },
      "outputs": [
        {
          "output_type": "stream",
          "name": "stdout",
          "text": [
            "(1338, 50)\n",
            "(1338,)\n"
          ]
        },
        {
          "output_type": "execute_result",
          "data": {
            "text/plain": [
              "(None, None)"
            ]
          },
          "metadata": {},
          "execution_count": 13
        }
      ],
      "source": [
        "print(X_test.shape), print(ytest.shape)"
      ]
    },
    {
      "cell_type": "code",
      "execution_count": null,
      "id": "78c723f6",
      "metadata": {
        "id": "78c723f6"
      },
      "outputs": [],
      "source": [
        "# reshape input to be [samples, time steps, features] which is required for LSTM\n",
        "X_train =X_train.reshape(X_train.shape[0],X_train.shape[1] , 1)\n",
        "X_test = X_test.reshape(X_test.shape[0],X_test.shape[1] , 1)"
      ]
    },
    {
      "cell_type": "code",
      "execution_count": null,
      "id": "63c448c3",
      "metadata": {
        "id": "63c448c3"
      },
      "outputs": [],
      "source": [
        "### Create the Stacked LSTM model\n",
        "from tensorflow.keras.models import Sequential\n",
        "from tensorflow.keras.layers import Dense\n",
        "from tensorflow.keras.layers import LSTM"
      ]
    },
    {
      "cell_type": "code",
      "execution_count": null,
      "id": "57833498",
      "metadata": {
        "id": "57833498"
      },
      "outputs": [],
      "source": [
        "model=Sequential()\n",
        "model.add(LSTM(50,return_sequences=True,input_shape=(50,1)))\n",
        "model.add(LSTM(50,return_sequences=True))\n",
        "model.add(LSTM(50,return_sequences=True))\n",
        "model.add(LSTM(50))\n",
        "model.add(Dense(1))\n",
        "model.compile(loss='mean_squared_error',optimizer='adam')\n"
      ]
    },
    {
      "cell_type": "code",
      "execution_count": null,
      "id": "16f14d32",
      "metadata": {
        "colab": {
          "base_uri": "https://localhost:8080/"
        },
        "id": "16f14d32",
        "outputId": "70d4826f-3832-4757-a7f3-a1e5c95c9527"
      },
      "outputs": [
        {
          "output_type": "stream",
          "name": "stdout",
          "text": [
            "Model: \"sequential_1\"\n",
            "_________________________________________________________________\n",
            " Layer (type)                Output Shape              Param #   \n",
            "=================================================================\n",
            " lstm_4 (LSTM)               (None, 50, 50)            10400     \n",
            "                                                                 \n",
            " lstm_5 (LSTM)               (None, 50, 50)            20200     \n",
            "                                                                 \n",
            " lstm_6 (LSTM)               (None, 50, 50)            20200     \n",
            "                                                                 \n",
            " lstm_7 (LSTM)               (None, 50)                20200     \n",
            "                                                                 \n",
            " dense_1 (Dense)             (None, 1)                 51        \n",
            "                                                                 \n",
            "=================================================================\n",
            "Total params: 71,051\n",
            "Trainable params: 71,051\n",
            "Non-trainable params: 0\n",
            "_________________________________________________________________\n"
          ]
        }
      ],
      "source": [
        "model.summary()"
      ]
    },
    {
      "cell_type": "code",
      "execution_count": null,
      "id": "a4554b49",
      "metadata": {
        "colab": {
          "base_uri": "https://localhost:8080/"
        },
        "id": "a4554b49",
        "outputId": "b62a391e-d900-4384-f909-a3bf5c5529aa"
      },
      "outputs": [
        {
          "output_type": "stream",
          "name": "stdout",
          "text": [
            "Epoch 1/100\n",
            "40/40 [==============================] - 15s 182ms/step - loss: 0.0016 - val_loss: 0.0018\n",
            "Epoch 2/100\n",
            "40/40 [==============================] - 5s 134ms/step - loss: 6.0868e-05 - val_loss: 0.0044\n",
            "Epoch 3/100\n",
            "40/40 [==============================] - 5s 132ms/step - loss: 3.8337e-05 - val_loss: 0.0081\n",
            "Epoch 4/100\n",
            "40/40 [==============================] - 6s 152ms/step - loss: 3.7702e-05 - val_loss: 0.0092\n",
            "Epoch 5/100\n",
            "40/40 [==============================] - 5s 134ms/step - loss: 3.6877e-05 - val_loss: 0.0117\n",
            "Epoch 6/100\n",
            "40/40 [==============================] - 5s 137ms/step - loss: 3.5437e-05 - val_loss: 0.0127\n",
            "Epoch 7/100\n",
            "40/40 [==============================] - 5s 133ms/step - loss: 3.6054e-05 - val_loss: 0.0152\n",
            "Epoch 8/100\n",
            "40/40 [==============================] - 5s 133ms/step - loss: 3.5118e-05 - val_loss: 0.0135\n",
            "Epoch 9/100\n",
            "40/40 [==============================] - 5s 133ms/step - loss: 3.4459e-05 - val_loss: 0.0145\n",
            "Epoch 10/100\n",
            "40/40 [==============================] - 5s 134ms/step - loss: 3.4306e-05 - val_loss: 0.0115\n",
            "Epoch 11/100\n",
            "40/40 [==============================] - 5s 132ms/step - loss: 3.2659e-05 - val_loss: 0.0108\n",
            "Epoch 12/100\n",
            "40/40 [==============================] - 5s 131ms/step - loss: 3.5554e-05 - val_loss: 0.0116\n",
            "Epoch 13/100\n",
            "40/40 [==============================] - 6s 145ms/step - loss: 3.2174e-05 - val_loss: 0.0089\n",
            "Epoch 14/100\n",
            "40/40 [==============================] - 5s 132ms/step - loss: 3.1820e-05 - val_loss: 0.0106\n",
            "Epoch 15/100\n",
            "40/40 [==============================] - 5s 131ms/step - loss: 4.1059e-05 - val_loss: 0.0088\n",
            "Epoch 16/100\n",
            "40/40 [==============================] - 5s 131ms/step - loss: 2.9711e-05 - val_loss: 0.0114\n",
            "Epoch 17/100\n",
            "40/40 [==============================] - 5s 132ms/step - loss: 3.6768e-05 - val_loss: 0.0115\n",
            "Epoch 18/100\n",
            "40/40 [==============================] - 5s 131ms/step - loss: 3.1119e-05 - val_loss: 0.0082\n",
            "Epoch 19/100\n",
            "40/40 [==============================] - 5s 132ms/step - loss: 2.8028e-05 - val_loss: 0.0089\n",
            "Epoch 20/100\n",
            "40/40 [==============================] - 5s 132ms/step - loss: 3.4024e-05 - val_loss: 0.0118\n",
            "Epoch 21/100\n",
            "40/40 [==============================] - 5s 132ms/step - loss: 3.9406e-05 - val_loss: 0.0076\n",
            "Epoch 22/100\n",
            "40/40 [==============================] - 5s 132ms/step - loss: 2.7425e-05 - val_loss: 0.0116\n",
            "Epoch 23/100\n",
            "40/40 [==============================] - 5s 133ms/step - loss: 2.9455e-05 - val_loss: 0.0073\n",
            "Epoch 24/100\n",
            "40/40 [==============================] - 5s 133ms/step - loss: 3.7762e-05 - val_loss: 0.0093\n",
            "Epoch 25/100\n",
            "40/40 [==============================] - 5s 134ms/step - loss: 2.5492e-05 - val_loss: 0.0075\n",
            "Epoch 26/100\n",
            "40/40 [==============================] - 5s 132ms/step - loss: 2.3500e-05 - val_loss: 0.0063\n",
            "Epoch 27/100\n",
            "40/40 [==============================] - 5s 132ms/step - loss: 2.2493e-05 - val_loss: 0.0065\n",
            "Epoch 28/100\n",
            "40/40 [==============================] - 5s 133ms/step - loss: 2.3169e-05 - val_loss: 0.0053\n",
            "Epoch 29/100\n",
            "40/40 [==============================] - 5s 134ms/step - loss: 2.1305e-05 - val_loss: 0.0065\n",
            "Epoch 30/100\n",
            "40/40 [==============================] - 5s 132ms/step - loss: 2.4677e-05 - val_loss: 0.0076\n",
            "Epoch 31/100\n",
            "40/40 [==============================] - 5s 131ms/step - loss: 2.2993e-05 - val_loss: 0.0079\n",
            "Epoch 32/100\n",
            "40/40 [==============================] - 5s 131ms/step - loss: 2.2976e-05 - val_loss: 0.0062\n",
            "Epoch 33/100\n",
            "40/40 [==============================] - 6s 145ms/step - loss: 1.9533e-05 - val_loss: 0.0047\n",
            "Epoch 34/100\n",
            "40/40 [==============================] - 5s 131ms/step - loss: 2.2185e-05 - val_loss: 0.0074\n",
            "Epoch 35/100\n",
            "40/40 [==============================] - 5s 132ms/step - loss: 2.1680e-05 - val_loss: 0.0051\n",
            "Epoch 36/100\n",
            "40/40 [==============================] - 5s 133ms/step - loss: 2.0576e-05 - val_loss: 0.0054\n",
            "Epoch 37/100\n",
            "40/40 [==============================] - 5s 134ms/step - loss: 2.0690e-05 - val_loss: 0.0052\n",
            "Epoch 38/100\n",
            "40/40 [==============================] - 5s 131ms/step - loss: 1.9286e-05 - val_loss: 0.0087\n",
            "Epoch 39/100\n",
            "40/40 [==============================] - 5s 131ms/step - loss: 2.6489e-05 - val_loss: 0.0034\n",
            "Epoch 40/100\n",
            "40/40 [==============================] - 5s 133ms/step - loss: 2.1394e-05 - val_loss: 0.0056\n",
            "Epoch 41/100\n",
            "40/40 [==============================] - 5s 131ms/step - loss: 1.7948e-05 - val_loss: 0.0040\n",
            "Epoch 42/100\n",
            "40/40 [==============================] - 5s 132ms/step - loss: 2.1161e-05 - val_loss: 0.0043\n",
            "Epoch 43/100\n",
            "40/40 [==============================] - 5s 130ms/step - loss: 1.9484e-05 - val_loss: 0.0067\n",
            "Epoch 44/100\n",
            "40/40 [==============================] - 5s 130ms/step - loss: 1.9419e-05 - val_loss: 0.0050\n",
            "Epoch 45/100\n",
            "40/40 [==============================] - 5s 131ms/step - loss: 1.7123e-05 - val_loss: 0.0054\n",
            "Epoch 46/100\n",
            "40/40 [==============================] - 5s 133ms/step - loss: 1.7600e-05 - val_loss: 0.0064\n",
            "Epoch 47/100\n",
            "40/40 [==============================] - 5s 132ms/step - loss: 1.6353e-05 - val_loss: 0.0049\n",
            "Epoch 48/100\n",
            "40/40 [==============================] - 5s 133ms/step - loss: 2.2164e-05 - val_loss: 0.0053\n",
            "Epoch 49/100\n",
            "40/40 [==============================] - 5s 132ms/step - loss: 1.9870e-05 - val_loss: 0.0042\n",
            "Epoch 50/100\n",
            "40/40 [==============================] - 5s 132ms/step - loss: 1.6561e-05 - val_loss: 0.0048\n",
            "Epoch 51/100\n",
            "40/40 [==============================] - 5s 133ms/step - loss: 1.6490e-05 - val_loss: 0.0032\n",
            "Epoch 52/100\n",
            "40/40 [==============================] - 5s 132ms/step - loss: 2.4225e-05 - val_loss: 0.0033\n",
            "Epoch 53/100\n",
            "40/40 [==============================] - 6s 145ms/step - loss: 1.7062e-05 - val_loss: 0.0037\n",
            "Epoch 54/100\n",
            "40/40 [==============================] - 5s 133ms/step - loss: 1.5310e-05 - val_loss: 0.0036\n",
            "Epoch 55/100\n",
            "40/40 [==============================] - 5s 130ms/step - loss: 2.0043e-05 - val_loss: 0.0054\n",
            "Epoch 56/100\n",
            "40/40 [==============================] - 5s 131ms/step - loss: 1.6446e-05 - val_loss: 0.0038\n",
            "Epoch 57/100\n",
            "40/40 [==============================] - 5s 131ms/step - loss: 1.3277e-05 - val_loss: 0.0051\n",
            "Epoch 58/100\n",
            "40/40 [==============================] - 5s 128ms/step - loss: 1.4559e-05 - val_loss: 0.0031\n",
            "Epoch 59/100\n",
            "40/40 [==============================] - 5s 129ms/step - loss: 1.6870e-05 - val_loss: 0.0047\n",
            "Epoch 60/100\n",
            "40/40 [==============================] - 5s 129ms/step - loss: 1.3334e-05 - val_loss: 0.0028\n",
            "Epoch 61/100\n",
            "40/40 [==============================] - 5s 129ms/step - loss: 1.3735e-05 - val_loss: 0.0038\n",
            "Epoch 62/100\n",
            "40/40 [==============================] - 5s 130ms/step - loss: 1.4120e-05 - val_loss: 0.0045\n",
            "Epoch 63/100\n",
            "40/40 [==============================] - 5s 131ms/step - loss: 1.3994e-05 - val_loss: 0.0040\n",
            "Epoch 64/100\n",
            "40/40 [==============================] - 5s 129ms/step - loss: 1.5542e-05 - val_loss: 0.0044\n",
            "Epoch 65/100\n",
            "40/40 [==============================] - 5s 132ms/step - loss: 1.4875e-05 - val_loss: 0.0044\n",
            "Epoch 66/100\n",
            "40/40 [==============================] - 5s 134ms/step - loss: 1.2481e-05 - val_loss: 0.0061\n",
            "Epoch 67/100\n",
            "40/40 [==============================] - 5s 134ms/step - loss: 1.7594e-05 - val_loss: 0.0049\n",
            "Epoch 68/100\n",
            "40/40 [==============================] - 5s 134ms/step - loss: 1.2648e-05 - val_loss: 0.0053\n",
            "Epoch 69/100\n",
            "40/40 [==============================] - 5s 134ms/step - loss: 1.7227e-05 - val_loss: 0.0033\n",
            "Epoch 70/100\n",
            "40/40 [==============================] - 5s 136ms/step - loss: 1.2310e-05 - val_loss: 0.0029\n",
            "Epoch 71/100\n",
            "40/40 [==============================] - 5s 135ms/step - loss: 1.4617e-05 - val_loss: 0.0042\n",
            "Epoch 72/100\n",
            "40/40 [==============================] - 5s 134ms/step - loss: 1.1922e-05 - val_loss: 0.0049\n",
            "Epoch 73/100\n",
            "40/40 [==============================] - 5s 133ms/step - loss: 1.7159e-05 - val_loss: 0.0055\n",
            "Epoch 74/100\n",
            "40/40 [==============================] - 5s 136ms/step - loss: 2.2521e-05 - val_loss: 0.0039\n",
            "Epoch 75/100\n",
            "40/40 [==============================] - 5s 135ms/step - loss: 1.3165e-05 - val_loss: 0.0035\n",
            "Epoch 76/100\n",
            "40/40 [==============================] - 5s 135ms/step - loss: 1.3773e-05 - val_loss: 0.0043\n",
            "Epoch 77/100\n",
            "40/40 [==============================] - 5s 137ms/step - loss: 1.2489e-05 - val_loss: 0.0046\n",
            "Epoch 78/100\n",
            "40/40 [==============================] - 5s 137ms/step - loss: 1.3475e-05 - val_loss: 0.0036\n",
            "Epoch 79/100\n",
            "40/40 [==============================] - 5s 137ms/step - loss: 1.0914e-05 - val_loss: 0.0049\n",
            "Epoch 80/100\n",
            "40/40 [==============================] - 5s 136ms/step - loss: 1.0728e-05 - val_loss: 0.0042\n",
            "Epoch 81/100\n",
            "40/40 [==============================] - 5s 137ms/step - loss: 1.1864e-05 - val_loss: 0.0031\n",
            "Epoch 82/100\n",
            "40/40 [==============================] - 5s 137ms/step - loss: 1.2437e-05 - val_loss: 0.0023\n",
            "Epoch 83/100\n",
            "40/40 [==============================] - 5s 135ms/step - loss: 1.4044e-05 - val_loss: 0.0046\n",
            "Epoch 84/100\n",
            "40/40 [==============================] - 5s 137ms/step - loss: 1.0618e-05 - val_loss: 0.0040\n",
            "Epoch 85/100\n",
            "40/40 [==============================] - 6s 139ms/step - loss: 1.0645e-05 - val_loss: 0.0030\n",
            "Epoch 86/100\n",
            "40/40 [==============================] - 5s 134ms/step - loss: 1.5153e-05 - val_loss: 0.0046\n",
            "Epoch 87/100\n",
            "40/40 [==============================] - 5s 135ms/step - loss: 1.1496e-05 - val_loss: 0.0057\n",
            "Epoch 88/100\n",
            "40/40 [==============================] - 5s 133ms/step - loss: 1.1744e-05 - val_loss: 0.0039\n",
            "Epoch 89/100\n",
            "40/40 [==============================] - 5s 134ms/step - loss: 9.8445e-06 - val_loss: 0.0030\n",
            "Epoch 90/100\n",
            "40/40 [==============================] - 5s 132ms/step - loss: 1.1390e-05 - val_loss: 0.0040\n",
            "Epoch 91/100\n",
            "40/40 [==============================] - 5s 135ms/step - loss: 9.6613e-06 - val_loss: 0.0033\n",
            "Epoch 92/100\n",
            "40/40 [==============================] - 5s 134ms/step - loss: 9.8849e-06 - val_loss: 0.0038\n",
            "Epoch 93/100\n",
            "40/40 [==============================] - 5s 134ms/step - loss: 1.0649e-05 - val_loss: 0.0047\n",
            "Epoch 94/100\n",
            "40/40 [==============================] - 5s 132ms/step - loss: 8.9998e-06 - val_loss: 0.0037\n",
            "Epoch 95/100\n",
            "40/40 [==============================] - 5s 132ms/step - loss: 9.1129e-06 - val_loss: 0.0035\n",
            "Epoch 96/100\n",
            "40/40 [==============================] - 5s 134ms/step - loss: 9.6789e-06 - val_loss: 0.0034\n",
            "Epoch 97/100\n",
            "40/40 [==============================] - 5s 134ms/step - loss: 9.8850e-06 - val_loss: 0.0036\n",
            "Epoch 98/100\n",
            "40/40 [==============================] - 5s 133ms/step - loss: 1.0525e-05 - val_loss: 0.0043\n",
            "Epoch 99/100\n",
            "40/40 [==============================] - 5s 134ms/step - loss: 8.6482e-06 - val_loss: 0.0047\n",
            "Epoch 100/100\n",
            "40/40 [==============================] - 5s 133ms/step - loss: 1.1515e-05 - val_loss: 0.0031\n"
          ]
        },
        {
          "output_type": "execute_result",
          "data": {
            "text/plain": [
              "<keras.callbacks.History at 0x7f9b704d1f50>"
            ]
          },
          "metadata": {},
          "execution_count": 24
        }
      ],
      "source": [
        "model.fit(X_train,y_train,validation_data=(X_test,ytest),epochs=100,batch_size=64,verbose=1)"
      ]
    },
    {
      "cell_type": "code",
      "execution_count": null,
      "id": "51779dd0",
      "metadata": {
        "id": "51779dd0"
      },
      "outputs": [],
      "source": [
        "train_predict=model.predict(X_train)\n",
        "test_predict=model.predict(X_test)"
      ]
    },
    {
      "cell_type": "code",
      "execution_count": null,
      "id": "ff56d6dd",
      "metadata": {
        "id": "ff56d6dd"
      },
      "outputs": [],
      "source": [
        "##Transformback to original form\n",
        "train_predict=scaler.inverse_transform(train_predict)\n",
        "test_predict=scaler.inverse_transform(test_predict)"
      ]
    },
    {
      "cell_type": "code",
      "execution_count": null,
      "id": "9b9c250e",
      "metadata": {
        "colab": {
          "base_uri": "https://localhost:8080/"
        },
        "id": "9b9c250e",
        "outputId": "000aa604-9ae8-487d-e9eb-8debd0dfd828"
      },
      "outputs": [
        {
          "output_type": "execute_result",
          "data": {
            "text/plain": [
              "53.68693375188831"
            ]
          },
          "metadata": {},
          "execution_count": 27
        }
      ],
      "source": [
        "import math\n",
        "from sklearn.metrics import mean_squared_error\n",
        "math.sqrt(mean_squared_error(y_train,train_predict))"
      ]
    },
    {
      "cell_type": "code",
      "execution_count": null,
      "id": "2e3ea80c",
      "metadata": {
        "colab": {
          "base_uri": "https://localhost:8080/"
        },
        "id": "2e3ea80c",
        "outputId": "1f314490-317c-45e2-a33c-9517f6410ef0"
      },
      "outputs": [
        {
          "output_type": "execute_result",
          "data": {
            "text/plain": [
              "243.2135275761291"
            ]
          },
          "metadata": {},
          "execution_count": 28
        }
      ],
      "source": [
        "math.sqrt(mean_squared_error(ytest,test_predict))"
      ]
    },
    {
      "cell_type": "code",
      "execution_count": null,
      "id": "b82a3ef8",
      "metadata": {
        "colab": {
          "base_uri": "https://localhost:8080/",
          "height": 265
        },
        "id": "b82a3ef8",
        "outputId": "4541a086-436f-4848-fc78-074a548d7b1c"
      },
      "outputs": [
        {
          "output_type": "display_data",
          "data": {
            "image/png": "[encoded data removed]",
            "text/plain": [
              "<Figure size 432x288 with 1 Axes>"
            ]
          },
          "metadata": {
            "needs_background": "light"
          }
        }
      ],
      "source": [
        "### Plotting \n",
        "# shift train predictions for plotting\n",
        "look_back=50\n",
        "trainPredictPlot = numpy.empty_like(df1)\n",
        "trainPredictPlot[:, :] = np.nan\n",
        "trainPredictPlot[look_back:len(train_predict)+look_back, :] = train_predict\n",
        "# shift test predictions for plotting\n",
        "testPredictPlot = numpy.empty_like(df1)\n",
        "testPredictPlot[:, :] = numpy.nan\n",
        "testPredictPlot[len(train_predict)+(look_back*2)+1:len(df1)-1, :] = test_predict\n",
        "# plot baseline and predictions\n",
        "plt.plot(scaler.inverse_transform(df1))\n",
        "plt.plot(trainPredictPlot)\n",
        "plt.plot(testPredictPlot)\n",
        "plt.show()"
      ]
    },
    {
      "cell_type": "code",
      "execution_count": null,
      "id": "556c358a",
      "metadata": {
        "colab": {
          "base_uri": "https://localhost:8080/"
        },
        "id": "556c358a",
        "outputId": "ac89a23d-2cf9-4d79-ae40-231969484fab"
      },
      "outputs": [
        {
          "output_type": "execute_result",
          "data": {
            "text/plain": [
              "1389"
            ]
          },
          "metadata": {},
          "execution_count": 59
        }
      ],
      "source": [
        "len(test_data)"
      ]
    },
    {
      "cell_type": "code",
      "execution_count": null,
      "id": "a69a38e5",
      "metadata": {
        "colab": {
          "base_uri": "https://localhost:8080/"
        },
        "id": "a69a38e5",
        "outputId": "a6f55c45-e4d5-4b2b-d931-1468b40c2b49"
      },
      "outputs": [
        {
          "output_type": "execute_result",
          "data": {
            "text/plain": [
              "(1, 50)"
            ]
          },
          "metadata": {},
          "execution_count": 60
        }
      ],
      "source": [
        "x_input=test_data[1339:].reshape(1,-1)\n",
        "x_input.shape"
      ]
    },
    {
      "cell_type": "code",
      "execution_count": null,
      "id": "ab7a7eef",
      "metadata": {
        "id": "ab7a7eef"
      },
      "outputs": [],
      "source": [
        "temp_input=list(x_input)\n",
        "temp_input=temp_input[0].tolist()"
      ]
    },
    {
      "cell_type": "code",
      "execution_count": null,
      "id": "0c35b621",
      "metadata": {
        "colab": {
          "base_uri": "https://localhost:8080/"
        },
        "id": "0c35b621",
        "outputId": "826a12f4-68e9-4878-ecaf-8d266015d45d"
      },
      "outputs": [
        {
          "output_type": "stream",
          "name": "stdout",
          "text": [
            "[0.82133293]\n",
            "51\n",
            "1 day input [0.8882914  0.87909063 0.84776733 0.88273522 0.89991337 0.90781422\n",
            " 0.9071261  0.90832399 0.90962384 0.90885919 0.90460293 0.93424409\n",
            " 0.94556024 0.94176265 0.93182282 0.93093076 0.91630137 0.92236724\n",
            " 0.92496686 0.93059942 0.93727703 0.92239267 0.90819658 0.91653074\n",
            " 0.89379648 0.87937102 0.85220208 0.86723928 0.88220002 0.96370683\n",
            " 0.9735702  0.98804669 1.         0.98297484 0.96291674 0.94744624\n",
            " 0.94296053 0.96080129 0.94301156 0.93123659 0.94242533 0.9612346\n",
            " 0.96477723 0.94125296 0.93169541 0.9274646  0.90947092 0.93024265\n",
            " 0.92950351 0.82133293]\n",
            "1 day output [[0.7929471]]\n",
            "2 day input [0.87909063 0.84776733 0.88273522 0.89991337 0.90781422 0.9071261\n",
            " 0.90832399 0.90962384 0.90885919 0.90460293 0.93424409 0.94556024\n",
            " 0.94176265 0.93182282 0.93093076 0.91630137 0.92236724 0.92496686\n",
            " 0.93059942 0.93727703 0.92239267 0.90819658 0.91653074 0.89379648\n",
            " 0.87937102 0.85220208 0.86723928 0.88220002 0.96370683 0.9735702\n",
            " 0.98804669 1.         0.98297484 0.96291674 0.94744624 0.94296053\n",
            " 0.96080129 0.94301156 0.93123659 0.94242533 0.9612346  0.96477723\n",
            " 0.94125296 0.93169541 0.9274646  0.90947092 0.93024265 0.92950351\n",
            " 0.82133293 0.79294711]\n",
            "2 day output [[0.74595225]]\n",
            "3 day input [0.84776733 0.88273522 0.89991337 0.90781422 0.9071261  0.90832399\n",
            " 0.90962384 0.90885919 0.90460293 0.93424409 0.94556024 0.94176265\n",
            " 0.93182282 0.93093076 0.91630137 0.92236724 0.92496686 0.93059942\n",
            " 0.93727703 0.92239267 0.90819658 0.91653074 0.89379648 0.87937102\n",
            " 0.85220208 0.86723928 0.88220002 0.96370683 0.9735702  0.98804669\n",
            " 1.         0.98297484 0.96291674 0.94744624 0.94296053 0.96080129\n",
            " 0.94301156 0.93123659 0.94242533 0.9612346  0.96477723 0.94125296\n",
            " 0.93169541 0.9274646  0.90947092 0.93024265 0.92950351 0.82133293\n",
            " 0.79294711 0.74595225]\n",
            "3 day output [[0.6931882]]\n",
            "4 day input [0.88273522 0.89991337 0.90781422 0.9071261  0.90832399 0.90962384\n",
            " 0.90885919 0.90460293 0.93424409 0.94556024 0.94176265 0.93182282\n",
            " 0.93093076 0.91630137 0.92236724 0.92496686 0.93059942 0.93727703\n",
            " 0.92239267 0.90819658 0.91653074 0.89379648 0.87937102 0.85220208\n",
            " 0.86723928 0.88220002 0.96370683 0.9735702  0.98804669 1.\n",
            " 0.98297484 0.96291674 0.94744624 0.94296053 0.96080129 0.94301156\n",
            " 0.93123659 0.94242533 0.9612346  0.96477723 0.94125296 0.93169541\n",
            " 0.9274646  0.90947092 0.93024265 0.92950351 0.82133293 0.79294711\n",
            " 0.74595225 0.69318819]\n",
            "4 day output [[0.6402022]]\n",
            "5 day input [0.89991337 0.90781422 0.9071261  0.90832399 0.90962384 0.90885919\n",
            " 0.90460293 0.93424409 0.94556024 0.94176265 0.93182282 0.93093076\n",
            " 0.91630137 0.92236724 0.92496686 0.93059942 0.93727703 0.92239267\n",
            " 0.90819658 0.91653074 0.89379648 0.87937102 0.85220208 0.86723928\n",
            " 0.88220002 0.96370683 0.9735702  0.98804669 1.         0.98297484\n",
            " 0.96291674 0.94744624 0.94296053 0.96080129 0.94301156 0.93123659\n",
            " 0.94242533 0.9612346  0.96477723 0.94125296 0.93169541 0.9274646\n",
            " 0.90947092 0.93024265 0.92950351 0.82133293 0.79294711 0.74595225\n",
            " 0.69318819 0.64020222]\n",
            "5 day output [[0.5889132]]\n",
            "6 day input [0.90781422 0.9071261  0.90832399 0.90962384 0.90885919 0.90460293\n",
            " 0.93424409 0.94556024 0.94176265 0.93182282 0.93093076 0.91630137\n",
            " 0.92236724 0.92496686 0.93059942 0.93727703 0.92239267 0.90819658\n",
            " 0.91653074 0.89379648 0.87937102 0.85220208 0.86723928 0.88220002\n",
            " 0.96370683 0.9735702  0.98804669 1.         0.98297484 0.96291674\n",
            " 0.94744624 0.94296053 0.96080129 0.94301156 0.93123659 0.94242533\n",
            " 0.9612346  0.96477723 0.94125296 0.93169541 0.9274646  0.90947092\n",
            " 0.93024265 0.92950351 0.82133293 0.79294711 0.74595225 0.69318819\n",
            " 0.64020222 0.5889132 ]\n",
            "6 day output [[0.5402929]]\n",
            "7 day input [0.9071261  0.90832399 0.90962384 0.90885919 0.90460293 0.93424409\n",
            " 0.94556024 0.94176265 0.93182282 0.93093076 0.91630137 0.92236724\n",
            " 0.92496686 0.93059942 0.93727703 0.92239267 0.90819658 0.91653074\n",
            " 0.89379648 0.87937102 0.85220208 0.86723928 0.88220002 0.96370683\n",
            " 0.9735702  0.98804669 1.         0.98297484 0.96291674 0.94744624\n",
            " 0.94296053 0.96080129 0.94301156 0.93123659 0.94242533 0.9612346\n",
            " 0.96477723 0.94125296 0.93169541 0.9274646  0.90947092 0.93024265\n",
            " 0.92950351 0.82133293 0.79294711 0.74595225 0.69318819 0.64020222\n",
            " 0.5889132  0.54029292]\n",
            "7 day output [[0.49511272]]\n",
            "8 day input [0.90832399 0.90962384 0.90885919 0.90460293 0.93424409 0.94556024\n",
            " 0.94176265 0.93182282 0.93093076 0.91630137 0.92236724 0.92496686\n",
            " 0.93059942 0.93727703 0.92239267 0.90819658 0.91653074 0.89379648\n",
            " 0.87937102 0.85220208 0.86723928 0.88220002 0.96370683 0.9735702\n",
            " 0.98804669 1.         0.98297484 0.96291674 0.94744624 0.94296053\n",
            " 0.96080129 0.94301156 0.93123659 0.94242533 0.9612346  0.96477723\n",
            " 0.94125296 0.93169541 0.9274646  0.90947092 0.93024265 0.92950351\n",
            " 0.82133293 0.79294711 0.74595225 0.69318819 0.64020222 0.5889132\n",
            " 0.54029292 0.49511272]\n",
            "8 day output [[0.4539685]]\n",
            "9 day input [0.90962384 0.90885919 0.90460293 0.93424409 0.94556024 0.94176265\n",
            " 0.93182282 0.93093076 0.91630137 0.92236724 0.92496686 0.93059942\n",
            " 0.93727703 0.92239267 0.90819658 0.91653074 0.89379648 0.87937102\n",
            " 0.85220208 0.86723928 0.88220002 0.96370683 0.9735702  0.98804669\n",
            " 1.         0.98297484 0.96291674 0.94744624 0.94296053 0.96080129\n",
            " 0.94301156 0.93123659 0.94242533 0.9612346  0.96477723 0.94125296\n",
            " 0.93169541 0.9274646  0.90947092 0.93024265 0.92950351 0.82133293\n",
            " 0.79294711 0.74595225 0.69318819 0.64020222 0.5889132  0.54029292\n",
            " 0.49511272 0.4539685 ]\n",
            "9 day output [[0.41721672]]\n",
            "10 day input [0.90885919 0.90460293 0.93424409 0.94556024 0.94176265 0.93182282\n",
            " 0.93093076 0.91630137 0.92236724 0.92496686 0.93059942 0.93727703\n",
            " 0.92239267 0.90819658 0.91653074 0.89379648 0.87937102 0.85220208\n",
            " 0.86723928 0.88220002 0.96370683 0.9735702  0.98804669 1.\n",
            " 0.98297484 0.96291674 0.94744624 0.94296053 0.96080129 0.94301156\n",
            " 0.93123659 0.94242533 0.9612346  0.96477723 0.94125296 0.93169541\n",
            " 0.9274646  0.90947092 0.93024265 0.92950351 0.82133293 0.79294711\n",
            " 0.74595225 0.69318819 0.64020222 0.5889132  0.54029292 0.49511272\n",
            " 0.4539685  0.41721672]\n",
            "10 day output [[0.38496467]]\n",
            "11 day input [0.90460293 0.93424409 0.94556024 0.94176265 0.93182282 0.93093076\n",
            " 0.91630137 0.92236724 0.92496686 0.93059942 0.93727703 0.92239267\n",
            " 0.90819658 0.91653074 0.89379648 0.87937102 0.85220208 0.86723928\n",
            " 0.88220002 0.96370683 0.9735702  0.98804669 1.         0.98297484\n",
            " 0.96291674 0.94744624 0.94296053 0.96080129 0.94301156 0.93123659\n",
            " 0.94242533 0.9612346  0.96477723 0.94125296 0.93169541 0.9274646\n",
            " 0.90947092 0.93024265 0.92950351 0.82133293 0.79294711 0.74595225\n",
            " 0.69318819 0.64020222 0.5889132  0.54029292 0.49511272 0.4539685\n",
            " 0.41721672 0.38496467]\n",
            "11 day output [[0.35710636]]\n",
            "12 day input [0.93424409 0.94556024 0.94176265 0.93182282 0.93093076 0.91630137\n",
            " 0.92236724 0.92496686 0.93059942 0.93727703 0.92239267 0.90819658\n",
            " 0.91653074 0.89379648 0.87937102 0.85220208 0.86723928 0.88220002\n",
            " 0.96370683 0.9735702  0.98804669 1.         0.98297484 0.96291674\n",
            " 0.94744624 0.94296053 0.96080129 0.94301156 0.93123659 0.94242533\n",
            " 0.9612346  0.96477723 0.94125296 0.93169541 0.9274646  0.90947092\n",
            " 0.93024265 0.92950351 0.82133293 0.79294711 0.74595225 0.69318819\n",
            " 0.64020222 0.5889132  0.54029292 0.49511272 0.4539685  0.41721672\n",
            " 0.38496467 0.35710636]\n",
            "12 day output [[0.33337706]]\n",
            "13 day input [0.94556024 0.94176265 0.93182282 0.93093076 0.91630137 0.92236724\n",
            " 0.92496686 0.93059942 0.93727703 0.92239267 0.90819658 0.91653074\n",
            " 0.89379648 0.87937102 0.85220208 0.86723928 0.88220002 0.96370683\n",
            " 0.9735702  0.98804669 1.         0.98297484 0.96291674 0.94744624\n",
            " 0.94296053 0.96080129 0.94301156 0.93123659 0.94242533 0.9612346\n",
            " 0.96477723 0.94125296 0.93169541 0.9274646  0.90947092 0.93024265\n",
            " 0.92950351 0.82133293 0.79294711 0.74595225 0.69318819 0.64020222\n",
            " 0.5889132  0.54029292 0.49511272 0.4539685  0.41721672 0.38496467\n",
            " 0.35710636 0.33337706]\n",
            "13 day output [[0.31341168]]\n",
            "14 day input [0.94176265 0.93182282 0.93093076 0.91630137 0.92236724 0.92496686\n",
            " 0.93059942 0.93727703 0.92239267 0.90819658 0.91653074 0.89379648\n",
            " 0.87937102 0.85220208 0.86723928 0.88220002 0.96370683 0.9735702\n",
            " 0.98804669 1.         0.98297484 0.96291674 0.94744624 0.94296053\n",
            " 0.96080129 0.94301156 0.93123659 0.94242533 0.9612346  0.96477723\n",
            " 0.94125296 0.93169541 0.9274646  0.90947092 0.93024265 0.92950351\n",
            " 0.82133293 0.79294711 0.74595225 0.69318819 0.64020222 0.5889132\n",
            " 0.54029292 0.49511272 0.4539685  0.41721672 0.38496467 0.35710636\n",
            " 0.33337706 0.31341168]\n",
            "14 day output [[0.29680762]]\n",
            "15 day input [0.93182282 0.93093076 0.91630137 0.92236724 0.92496686 0.93059942\n",
            " 0.93727703 0.92239267 0.90819658 0.91653074 0.89379648 0.87937102\n",
            " 0.85220208 0.86723928 0.88220002 0.96370683 0.9735702  0.98804669\n",
            " 1.         0.98297484 0.96291674 0.94744624 0.94296053 0.96080129\n",
            " 0.94301156 0.93123659 0.94242533 0.9612346  0.96477723 0.94125296\n",
            " 0.93169541 0.9274646  0.90947092 0.93024265 0.92950351 0.82133293\n",
            " 0.79294711 0.74595225 0.69318819 0.64020222 0.5889132  0.54029292\n",
            " 0.49511272 0.4539685  0.41721672 0.38496467 0.35710636 0.33337706\n",
            " 0.31341168 0.29680762]\n",
            "15 day output [[0.28316486]]\n",
            "16 day input [0.93093076 0.91630137 0.92236724 0.92496686 0.93059942 0.93727703\n",
            " 0.92239267 0.90819658 0.91653074 0.89379648 0.87937102 0.85220208\n",
            " 0.86723928 0.88220002 0.96370683 0.9735702  0.98804669 1.\n",
            " 0.98297484 0.96291674 0.94744624 0.94296053 0.96080129 0.94301156\n",
            " 0.93123659 0.94242533 0.9612346  0.96477723 0.94125296 0.93169541\n",
            " 0.9274646  0.90947092 0.93024265 0.92950351 0.82133293 0.79294711\n",
            " 0.74595225 0.69318819 0.64020222 0.5889132  0.54029292 0.49511272\n",
            " 0.4539685  0.41721672 0.38496467 0.35710636 0.33337706 0.31341168\n",
            " 0.29680762 0.28316486]\n",
            "16 day output [[0.2721176]]\n",
            "17 day input [0.91630137 0.92236724 0.92496686 0.93059942 0.93727703 0.92239267\n",
            " 0.90819658 0.91653074 0.89379648 0.87937102 0.85220208 0.86723928\n",
            " 0.88220002 0.96370683 0.9735702  0.98804669 1.         0.98297484\n",
            " 0.96291674 0.94744624 0.94296053 0.96080129 0.94301156 0.93123659\n",
            " 0.94242533 0.9612346  0.96477723 0.94125296 0.93169541 0.9274646\n",
            " 0.90947092 0.93024265 0.92950351 0.82133293 0.79294711 0.74595225\n",
            " 0.69318819 0.64020222 0.5889132  0.54029292 0.49511272 0.4539685\n",
            " 0.41721672 0.38496467 0.35710636 0.33337706 0.31341168 0.29680762\n",
            " 0.28316486 0.27211761]\n",
            "17 day output [[0.26334867]]\n",
            "18 day input [0.92236724 0.92496686 0.93059942 0.93727703 0.92239267 0.90819658\n",
            " 0.91653074 0.89379648 0.87937102 0.85220208 0.86723928 0.88220002\n",
            " 0.96370683 0.9735702  0.98804669 1.         0.98297484 0.96291674\n",
            " 0.94744624 0.94296053 0.96080129 0.94301156 0.93123659 0.94242533\n",
            " 0.9612346  0.96477723 0.94125296 0.93169541 0.9274646  0.90947092\n",
            " 0.93024265 0.92950351 0.82133293 0.79294711 0.74595225 0.69318819\n",
            " 0.64020222 0.5889132  0.54029292 0.49511272 0.4539685  0.41721672\n",
            " 0.38496467 0.35710636 0.33337706 0.31341168 0.29680762 0.28316486\n",
            " 0.27211761 0.26334867]\n",
            "18 day output [[0.2565955]]\n",
            "19 day input [0.92496686 0.93059942 0.93727703 0.92239267 0.90819658 0.91653074\n",
            " 0.89379648 0.87937102 0.85220208 0.86723928 0.88220002 0.96370683\n",
            " 0.9735702  0.98804669 1.         0.98297484 0.96291674 0.94744624\n",
            " 0.94296053 0.96080129 0.94301156 0.93123659 0.94242533 0.9612346\n",
            " 0.96477723 0.94125296 0.93169541 0.9274646  0.90947092 0.93024265\n",
            " 0.92950351 0.82133293 0.79294711 0.74595225 0.69318819 0.64020222\n",
            " 0.5889132  0.54029292 0.49511272 0.4539685  0.41721672 0.38496467\n",
            " 0.35710636 0.33337706 0.31341168 0.29680762 0.28316486 0.27211761\n",
            " 0.26334867 0.25659549]\n",
            "19 day output [[0.25164044]]\n",
            "20 day input [0.93059942 0.93727703 0.92239267 0.90819658 0.91653074 0.89379648\n",
            " 0.87937102 0.85220208 0.86723928 0.88220002 0.96370683 0.9735702\n",
            " 0.98804669 1.         0.98297484 0.96291674 0.94744624 0.94296053\n",
            " 0.96080129 0.94301156 0.93123659 0.94242533 0.9612346  0.96477723\n",
            " 0.94125296 0.93169541 0.9274646  0.90947092 0.93024265 0.92950351\n",
            " 0.82133293 0.79294711 0.74595225 0.69318819 0.64020222 0.5889132\n",
            " 0.54029292 0.49511272 0.4539685  0.41721672 0.38496467 0.35710636\n",
            " 0.33337706 0.31341168 0.29680762 0.28316486 0.27211761 0.26334867\n",
            " 0.25659549 0.25164044]\n",
            "20 day output [[0.24830517]]\n",
            "21 day input [0.93727703 0.92239267 0.90819658 0.91653074 0.89379648 0.87937102\n",
            " 0.85220208 0.86723928 0.88220002 0.96370683 0.9735702  0.98804669\n",
            " 1.         0.98297484 0.96291674 0.94744624 0.94296053 0.96080129\n",
            " 0.94301156 0.93123659 0.94242533 0.9612346  0.96477723 0.94125296\n",
            " 0.93169541 0.9274646  0.90947092 0.93024265 0.92950351 0.82133293\n",
            " 0.79294711 0.74595225 0.69318819 0.64020222 0.5889132  0.54029292\n",
            " 0.49511272 0.4539685  0.41721672 0.38496467 0.35710636 0.33337706\n",
            " 0.31341168 0.29680762 0.28316486 0.27211761 0.26334867 0.25659549\n",
            " 0.25164044 0.24830517]\n",
            "21 day output [[0.2464372]]\n",
            "22 day input [0.92239267 0.90819658 0.91653074 0.89379648 0.87937102 0.85220208\n",
            " 0.86723928 0.88220002 0.96370683 0.9735702  0.98804669 1.\n",
            " 0.98297484 0.96291674 0.94744624 0.94296053 0.96080129 0.94301156\n",
            " 0.93123659 0.94242533 0.9612346  0.96477723 0.94125296 0.93169541\n",
            " 0.9274646  0.90947092 0.93024265 0.92950351 0.82133293 0.79294711\n",
            " 0.74595225 0.69318819 0.64020222 0.5889132  0.54029292 0.49511272\n",
            " 0.4539685  0.41721672 0.38496467 0.35710636 0.33337706 0.31341168\n",
            " 0.29680762 0.28316486 0.27211761 0.26334867 0.25659549 0.25164044\n",
            " 0.24830517 0.24643721]\n",
            "22 day output [[0.24590072]]\n",
            "23 day input [0.90819658 0.91653074 0.89379648 0.87937102 0.85220208 0.86723928\n",
            " 0.88220002 0.96370683 0.9735702  0.98804669 1.         0.98297484\n",
            " 0.96291674 0.94744624 0.94296053 0.96080129 0.94301156 0.93123659\n",
            " 0.94242533 0.9612346  0.96477723 0.94125296 0.93169541 0.9274646\n",
            " 0.90947092 0.93024265 0.92950351 0.82133293 0.79294711 0.74595225\n",
            " 0.69318819 0.64020222 0.5889132  0.54029292 0.49511272 0.4539685\n",
            " 0.41721672 0.38496467 0.35710636 0.33337706 0.31341168 0.29680762\n",
            " 0.28316486 0.27211761 0.26334867 0.25659549 0.25164044 0.24830517\n",
            " 0.24643721 0.24590072]\n",
            "23 day output [[0.24657074]]\n",
            "24 day input [0.91653074 0.89379648 0.87937102 0.85220208 0.86723928 0.88220002\n",
            " 0.96370683 0.9735702  0.98804669 1.         0.98297484 0.96291674\n",
            " 0.94744624 0.94296053 0.96080129 0.94301156 0.93123659 0.94242533\n",
            " 0.9612346  0.96477723 0.94125296 0.93169541 0.9274646  0.90947092\n",
            " 0.93024265 0.92950351 0.82133293 0.79294711 0.74595225 0.69318819\n",
            " 0.64020222 0.5889132  0.54029292 0.49511272 0.4539685  0.41721672\n",
            " 0.38496467 0.35710636 0.33337706 0.31341168 0.29680762 0.28316486\n",
            " 0.27211761 0.26334867 0.25659549 0.25164044 0.24830517 0.24643721\n",
            " 0.24590072 0.24657074]\n",
            "24 day output [[0.248324]]\n",
            "25 day input [0.89379648 0.87937102 0.85220208 0.86723928 0.88220002 0.96370683\n",
            " 0.9735702  0.98804669 1.         0.98297484 0.96291674 0.94744624\n",
            " 0.94296053 0.96080129 0.94301156 0.93123659 0.94242533 0.9612346\n",
            " 0.96477723 0.94125296 0.93169541 0.9274646  0.90947092 0.93024265\n",
            " 0.92950351 0.82133293 0.79294711 0.74595225 0.69318819 0.64020222\n",
            " 0.5889132  0.54029292 0.49511272 0.4539685  0.41721672 0.38496467\n",
            " 0.35710636 0.33337706 0.31341168 0.29680762 0.28316486 0.27211761\n",
            " 0.26334867 0.25659549 0.25164044 0.24830517 0.24643721 0.24590072\n",
            " 0.24657074 0.24832401]\n",
            "25 day output [[0.25103652]]\n",
            "26 day input [0.87937102 0.85220208 0.86723928 0.88220002 0.96370683 0.9735702\n",
            " 0.98804669 1.         0.98297484 0.96291674 0.94744624 0.94296053\n",
            " 0.96080129 0.94301156 0.93123659 0.94242533 0.9612346  0.96477723\n",
            " 0.94125296 0.93169541 0.9274646  0.90947092 0.93024265 0.92950351\n",
            " 0.82133293 0.79294711 0.74595225 0.69318819 0.64020222 0.5889132\n",
            " 0.54029292 0.49511272 0.4539685  0.41721672 0.38496467 0.35710636\n",
            " 0.33337706 0.31341168 0.29680762 0.28316486 0.27211761 0.26334867\n",
            " 0.25659549 0.25164044 0.24830517 0.24643721 0.24590072 0.24657074\n",
            " 0.24832401 0.25103652]\n",
            "26 day output [[0.25458893]]\n",
            "27 day input [0.85220208 0.86723928 0.88220002 0.96370683 0.9735702  0.98804669\n",
            " 1.         0.98297484 0.96291674 0.94744624 0.94296053 0.96080129\n",
            " 0.94301156 0.93123659 0.94242533 0.9612346  0.96477723 0.94125296\n",
            " 0.93169541 0.9274646  0.90947092 0.93024265 0.92950351 0.82133293\n",
            " 0.79294711 0.74595225 0.69318819 0.64020222 0.5889132  0.54029292\n",
            " 0.49511272 0.4539685  0.41721672 0.38496467 0.35710636 0.33337706\n",
            " 0.31341168 0.29680762 0.28316486 0.27211761 0.26334867 0.25659549\n",
            " 0.25164044 0.24830517 0.24643721 0.24590072 0.24657074 0.24832401\n",
            " 0.25103652 0.25458893]\n",
            "27 day output [[0.25885886]]\n",
            "28 day input [0.86723928 0.88220002 0.96370683 0.9735702  0.98804669 1.\n",
            " 0.98297484 0.96291674 0.94744624 0.94296053 0.96080129 0.94301156\n",
            " 0.93123659 0.94242533 0.9612346  0.96477723 0.94125296 0.93169541\n",
            " 0.9274646  0.90947092 0.93024265 0.92950351 0.82133293 0.79294711\n",
            " 0.74595225 0.69318819 0.64020222 0.5889132  0.54029292 0.49511272\n",
            " 0.4539685  0.41721672 0.38496467 0.35710636 0.33337706 0.31341168\n",
            " 0.29680762 0.28316486 0.27211761 0.26334867 0.25659549 0.25164044\n",
            " 0.24830517 0.24643721 0.24590072 0.24657074 0.24832401 0.25103652\n",
            " 0.25458893 0.25885886]\n",
            "28 day output [[0.2637277]]\n",
            "29 day input [0.88220002 0.96370683 0.9735702  0.98804669 1.         0.98297484\n",
            " 0.96291674 0.94744624 0.94296053 0.96080129 0.94301156 0.93123659\n",
            " 0.94242533 0.9612346  0.96477723 0.94125296 0.93169541 0.9274646\n",
            " 0.90947092 0.93024265 0.92950351 0.82133293 0.79294711 0.74595225\n",
            " 0.69318819 0.64020222 0.5889132  0.54029292 0.49511272 0.4539685\n",
            " 0.41721672 0.38496467 0.35710636 0.33337706 0.31341168 0.29680762\n",
            " 0.28316486 0.27211761 0.26334867 0.25659549 0.25164044 0.24830517\n",
            " 0.24643721 0.24590072 0.24657074 0.24832401 0.25103652 0.25458893\n",
            " 0.25885886 0.26372769]\n",
            "29 day output [[0.269075]]\n",
            "[[0.8213329315185547], [0.7929471135139465], [0.7459522485733032], [0.6931881904602051], [0.6402022242546082], [0.5889132022857666], [0.5402929186820984], [0.49511271715164185], [0.45396849513053894], [0.4172167181968689], [0.3849646747112274], [0.35710635781288147], [0.33337706327438354], [0.313411682844162], [0.2968076169490814], [0.2831648588180542], [0.27211761474609375], [0.26334866881370544], [0.2565954923629761], [0.2516404390335083], [0.24830517172813416], [0.246437206864357], [0.2459007203578949], [0.24657073616981506], [0.24832400679588318], [0.25103652477264404], [0.25458893179893494], [0.258858859539032], [0.26372769474983215], [0.2690750062465668]]\n"
          ]
        }
      ],
      "source": [
        "# demonstrate prediction for next 10 days\n",
        "from numpy import array\n",
        "\n",
        "lst_output=[]\n",
        "n_steps=50\n",
        "i=0\n",
        "while(i<30):\n",
        "    \n",
        "    if(len(temp_input)>50):\n",
        "        #print(temp_input)\n",
        "        x_input=np.array(temp_input[1:])\n",
        "        print(\"{} day input {}\".format(i,x_input))\n",
        "        x_input=x_input.reshape(1,-1)\n",
        "        x_input = x_input.reshape((1, n_steps, 1))\n",
        "        #print(x_input)\n",
        "        yhat = model.predict(x_input, verbose=0)\n",
        "        print(\"{} day output {}\".format(i,yhat))\n",
        "        temp_input.extend(yhat[0].tolist())\n",
        "        temp_input=temp_input[1:]\n",
        "        #print(temp_input)\n",
        "        lst_output.extend(yhat.tolist())\n",
        "        i=i+1\n",
        "    else:\n",
        "        x_input = x_input.reshape((1, n_steps,1))\n",
        "        yhat = model.predict(x_input, verbose=0)\n",
        "        print(yhat[0])\n",
        "        temp_input.extend(yhat[0].tolist())\n",
        "        print(len(temp_input))\n",
        "        lst_output.extend(yhat.tolist())\n",
        "        i=i+1\n",
        "    \n",
        "\n",
        "print(lst_output)"
      ]
    },
    {
      "cell_type": "code",
      "execution_count": null,
      "id": "13cd7174",
      "metadata": {
        "id": "13cd7174"
      },
      "outputs": [],
      "source": [
        "day_new=np.arange(1,51)\n",
        "day_pred=np.arange(51,81)"
      ]
    },
    {
      "cell_type": "code",
      "execution_count": null,
      "id": "09305898",
      "metadata": {
        "id": "09305898"
      },
      "outputs": [],
      "source": [
        "import matplotlib.pyplot as plt"
      ]
    },
    {
      "cell_type": "code",
      "execution_count": null,
      "id": "3fe22e3e",
      "metadata": {
        "id": "3fe22e3e",
        "outputId": "eac6cab4-27ac-43fa-e1d3-85b5d11b2d26",
        "colab": {
          "base_uri": "https://localhost:8080/"
        }
      },
      "outputs": [
        {
          "output_type": "execute_result",
          "data": {
            "text/plain": [
              "3967"
            ]
          },
          "metadata": {},
          "execution_count": 65
        }
      ],
      "source": [
        "len(df1)"
      ]
    },
    {
      "cell_type": "code",
      "execution_count": null,
      "id": "03284fd9",
      "metadata": {
        "id": "03284fd9",
        "outputId": "439eb02e-936d-4e11-b7c9-b7c0d24030df",
        "colab": {
          "base_uri": "https://localhost:8080/",
          "height": 282
        }
      },
      "outputs": [
        {
          "output_type": "execute_result",
          "data": {
            "text/plain": [
              "[<matplotlib.lines.Line2D at 0x7f9b6c783ad0>]"
            ]
          },
          "metadata": {},
          "execution_count": 66
        },
        {
          "output_type": "display_data",
          "data": {
            "image/png": "[encoded data removed]",
            "text/plain": [
              "<Figure size 432x288 with 1 Axes>"
            ]
          },
          "metadata": {
            "needs_background": "light"
          }
        }
      ],
      "source": [
        "plt.plot(day_new,scaler.inverse_transform(df1[3917:]))\n",
        "plt.plot(day_pred,scaler.inverse_transform(lst_output))"
      ]
    },
    {
      "cell_type": "code",
      "execution_count": null,
      "id": "4cda76b2",
      "metadata": {
        "id": "4cda76b2",
        "outputId": "dde45649-02fb-4f5b-c7a4-055d3b283da7",
        "colab": {
          "base_uri": "https://localhost:8080/",
          "height": 282
        }
      },
      "outputs": [
        {
          "output_type": "execute_result",
          "data": {
            "text/plain": [
              "[<matplotlib.lines.Line2D at 0x7f9b6c809590>]"
            ]
          },
          "metadata": {},
          "execution_count": 67
        },
        {
          "output_type": "display_data",
          "data": {
            "image/png": "[encoded data removed]",
            "text/plain": [
              "<Figure size 432x288 with 1 Axes>"
            ]
          },
          "metadata": {
            "needs_background": "light"
          }
        }
      ],
      "source": [
        "df3=df1.tolist()\n",
        "df3.extend(lst_output)\n",
        "plt.plot(df3[1200:])"
      ]
    },
    {
      "cell_type": "code",
      "execution_count": null,
      "id": "fcec56ba",
      "metadata": {
        "id": "fcec56ba"
      },
      "outputs": [],
      "source": [
        ""
      ]
    }
  ],
  "metadata": {
    "kernelspec": {
      "display_name": "Python 3",
      "language": "python",
      "name": "python3"
    },
    "language_info": {
      "codemirror_mode": {
        "name": "ipython",
        "version": 3
      },
      "file_extension": ".py",
      "mimetype": "text/x-python",
      "name": "python",
      "nbconvert_exporter": "python",
      "pygments_lexer": "ipython3",
      "version": "3.8.8"
    },
    "colab": {
      "name": "MA-Price-Forecast.ipynb",
      "provenance": [],
      "collapsed_sections": []
    }
  },
  "nbformat": 4,
  "nbformat_minor": 5
}